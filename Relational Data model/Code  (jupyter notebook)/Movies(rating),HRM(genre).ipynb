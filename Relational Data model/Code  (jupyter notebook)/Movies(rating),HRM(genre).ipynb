{
 "cells": [
  {
   "cell_type": "code",
   "execution_count": 1,
   "metadata": {},
   "outputs": [],
   "source": [
    "import pandas as pd\n",
    "from sqlalchemy import create_engine\n",
    "import matplotlib.pyplot as plt"
   ]
  },
  {
   "cell_type": "code",
   "execution_count": 2,
   "metadata": {},
   "outputs": [],
   "source": [
    "rating_db = create_engine('sqlite:///rating.db')"
   ]
  },
  {
   "cell_type": "code",
   "execution_count": 3,
   "metadata": {},
   "outputs": [
    {
     "name": "stdout",
     "output_type": "stream",
     "text": [
      "loading to sql_DB\n",
      "Wall time: 9min 28s\n"
     ]
    }
   ],
   "source": [
    "%%time\n",
    "chunk_size = 100000\n",
    "x = 0\n",
    "y = 1\n",
    "for data_f in pd.read_csv('ratings_27M.csv', chunksize=chunk_size, iterator=True):\n",
    "      data_f = data_f.rename(columns={c: c.replace(' ', '') for c in data_f.columns}) \n",
    "      data_f.index += y\n",
    "      x+=1\n",
    "      data_f.to_sql('tab', rating_db, if_exists='append')\n",
    "      y = data_f.index[-1] + 1\n",
    "print(\"loading to sql_DB\")"
   ]
  },
  {
   "cell_type": "code",
   "execution_count": 4,
   "metadata": {},
   "outputs": [
    {
     "name": "stdout",
     "output_type": "stream",
     "text": [
      "Wall time: 2min 57s\n"
     ]
    }
   ],
   "source": [
    "%%time\n",
    "zero5 = pd.read_sql_query('SELECT rating FROM tab where rating=0.5', rating_db)\n",
    "one = pd.read_sql_query('SELECT rating FROM tab where rating=1.0', rating_db)\n",
    "one5 = pd.read_sql_query('SELECT rating FROM tab where rating=1.5', rating_db)\n",
    "two = pd.read_sql_query('SELECT rating FROM tab where rating=2.0', rating_db)\n",
    "two5 = pd.read_sql_query('SELECT rating FROM tab where rating=2.5', rating_db)\n",
    "three = pd.read_sql_query('SELECT rating FROM tab where rating=3.0', rating_db)\n",
    "three5 = pd.read_sql_query('SELECT rating FROM tab where rating=3.5', rating_db)\n",
    "four = pd.read_sql_query('SELECT rating FROM tab where rating=4.0', rating_db)\n",
    "four5 = pd.read_sql_query('SELECT rating FROM tab where rating=4.5', rating_db)\n",
    "five = pd.read_sql_query('SELECT rating FROM tab where rating=5.0', rating_db)"
   ]
  },
  {
   "cell_type": "code",
   "execution_count": 5,
   "metadata": {},
   "outputs": [],
   "source": [
    "y_axis = [len(zero5), len(one), len(one5), len(two), len(two5), len(three), \n",
    "          len(three5), len(four), len(four5), len(five)]\n",
    "x_axis = []\n",
    "x = range(0,10)\n",
    "for a in range(1,11):\n",
    "    x_axis.append(a/2)"
   ]
  },
  {
   "cell_type": "code",
   "execution_count": 6,
   "metadata": {},
   "outputs": [
    {
     "data": {
      "image/png": "[encoded data removed]",
      "text/plain": [
       "<Figure size 432x288 with 1 Axes>"
      ]
     },
     "metadata": {
      "needs_background": "light"
     },
     "output_type": "display_data"
    }
   ],
   "source": [
    "plt.xticks(x,x_axis)\n",
    "plt.bar(x,y_axis)\n",
    "plt.xlabel(\"Rating\")\n",
    "plt.ylabel(\"Number of Movies\")\n",
    "plt.title(\"Total count of movies grouped by each rating\")\n",
    "plt.show()"
   ]
  },
  {
   "cell_type": "code",
   "execution_count": null,
   "metadata": {},
   "outputs": [],
   "source": []
  },
  {
   "cell_type": "code",
   "execution_count": 7,
   "metadata": {},
   "outputs": [],
   "source": [
    "# Number of movies with rating 4 and above"
   ]
  },
  {
   "cell_type": "code",
   "execution_count": null,
   "metadata": {},
   "outputs": [],
   "source": [
    "moviesCSV = pd.read_csv('movies_60K.csv')"
   ]
  },
  {
   "cell_type": "code",
   "execution_count": 65,
   "metadata": {},
   "outputs": [
    {
     "name": "stdout",
     "output_type": "stream",
     "text": [
      "Wall time: 1min 21s\n"
     ]
    }
   ],
   "source": [
    "%%time\n",
    "HRM = pd.read_sql_query('select movieId from tab where rating=4.0 or rating=4.5 or rating=5',rating_db)"
   ]
  },
  {
   "cell_type": "code",
   "execution_count": 66,
   "metadata": {},
   "outputs": [],
   "source": [
    "HRM_list = HRM.values.tolist()"
   ]
  },
  {
   "cell_type": "code",
   "execution_count": 67,
   "metadata": {},
   "outputs": [],
   "source": [
    "HRM_l = []\n",
    "for sublist in HRM_list:\n",
    "    for element in sublist:\n",
    "        HRM_l.append(element)"
   ]
  },
  {
   "cell_type": "code",
   "execution_count": 68,
   "metadata": {},
   "outputs": [],
   "source": [
    "mId = list(dict.fromkeys(HRM_l))\n",
    "mId.sort()"
   ]
  },
  {
   "cell_type": "code",
   "execution_count": null,
   "metadata": {},
   "outputs": [],
   "source": [
    "len(mId)"
   ]
  },
  {
   "cell_type": "code",
   "execution_count": 69,
   "metadata": {},
   "outputs": [],
   "source": [
    "y1=0\n",
    "year = []\n",
    "no_year = 0\n",
    "for x1 in range(len(moviesCSV)) : \n",
    "    if moviesCSV.movieId[x1] == mId[y1] :  \n",
    "        y1 +=1\n",
    "        title = moviesCSV.title[x1]\n",
    "        yr = title.split('(')[-1]\n",
    "        a = yr[0:4]\n",
    "        if a.isdigit() :\n",
    "            year.append(a)\n",
    "        else : \n",
    "            no_year += 1"
   ]
  },
  {
   "cell_type": "code",
   "execution_count": 70,
   "metadata": {},
   "outputs": [],
   "source": [
    "tens = 0\n",
    "aughts = 0\n",
    "ninties = 0\n",
    "eighties = 0\n",
    "seventies = 0\n",
    "sixties = 0\n",
    "fifties = 0\n",
    "forties = 0\n",
    "thirties = 0\n",
    "twenties = 0"
   ]
  },
  {
   "cell_type": "code",
   "execution_count": 71,
   "metadata": {},
   "outputs": [],
   "source": [
    "for x in range(len(year)):\n",
    "    if int(year[x])>2010 and int(year[x])<2021 :\n",
    "        tens +=1\n",
    "    elif int(year[x])>2000 and int(year[x])<2011 :\n",
    "        aughts +=1\n",
    "    elif int(year[x])>1990 and int(year[x])<2001 :\n",
    "        ninties +=1\n",
    "    elif int(year[x])>1980 and int(year[x])<1991 :\n",
    "        eighties +=1\n",
    "    elif int(year[x])>1970 and int(year[x])<1981 :\n",
    "        seventies +=1\n",
    "    elif int(year[x])>1960 and int(year[x])<1971 :\n",
    "        sixties +=1\n",
    "    elif int(year[x])>1950 and int(year[x])<1961 :\n",
    "        fifties +=1\n",
    "    elif int(year[x])>1940 and int(year[x])<1951 :\n",
    "        forties +=1\n",
    "    elif int(year[x])>1930 and int(year[x])<1941 :\n",
    "        thirties +=1\n",
    "    elif int(year[x])>1920 and int(year[x])<1931 :\n",
    "        twenties +=1"
   ]
  },
  {
   "cell_type": "code",
   "execution_count": 79,
   "metadata": {},
   "outputs": [],
   "source": [
    "count = [twenties,thirties,forties,fifties,sixties,seventies,eighties,ninties,aughts,tens]\n",
    "x_a = [] \n",
    "for x2 in range(192,202) :\n",
    "    x_a.append(x2*10)"
   ]
  },
  {
   "cell_type": "code",
   "execution_count": 82,
   "metadata": {},
   "outputs": [
    {
     "data": {
      "image/png": "[encoded data removed]",
      "text/plain": [
       "<Figure size 432x288 with 1 Axes>"
      ]
     },
     "metadata": {
      "needs_background": "light"
     },
     "output_type": "display_data"
    }
   ],
   "source": [
    "plt.bar(x_a,count,color='green',width=5)\n",
    "plt.xlabel(\"Decades\")\n",
    "plt.ylabel(\"Count of high rated movies\")\n",
    "plt.title(\"Number of movies with 4 and above rating per decade\")\n",
    "plt.show()"
   ]
  },
  {
   "cell_type": "code",
   "execution_count": null,
   "metadata": {},
   "outputs": [],
   "source": []
  },
  {
   "cell_type": "code",
   "execution_count": 83,
   "metadata": {},
   "outputs": [],
   "source": [
    "# % of movies within each genre which are rated 4 and above"
   ]
  },
  {
   "cell_type": "code",
   "execution_count": 90,
   "metadata": {},
   "outputs": [],
   "source": [
    "Action = 0\n",
    "Adventure = 0\n",
    "Animation = 0\n",
    "Childrens = 0\n",
    "Comedy = 0\n",
    "Crime = 0\n",
    "Documentary = 0\n",
    "Drama = 0\n",
    "Fantasy = 0\n",
    "FilmNoir = 0\n",
    "Horror = 0\n",
    "IMAX = 0\n",
    "Musical = 0\n",
    "Mystery = 0\n",
    "Romance = 0\n",
    "SciFi = 0\n",
    "Thriller = 0\n",
    "War = 0\n",
    "Western = 0\n",
    "unspecified = 0"
   ]
  },
  {
   "cell_type": "code",
   "execution_count": 91,
   "metadata": {},
   "outputs": [],
   "source": [
    "genres = moviesCSV.genres\n",
    "for x in range(len(genres)) :\n",
    "    g = genres[x].split('|')\n",
    "    for y in range(len(g)) :\n",
    "        if g[y]==\"Action\" : \n",
    "            Action +=1  \n",
    "        elif g[y]==\"Adventure\" :\n",
    "            Adventure +=1\n",
    "        elif g[y]==\"Animation\" :\n",
    "            Animation +=1\n",
    "        elif g[y]==\"Children\" :\n",
    "            Childrens +=1\n",
    "        elif g[y]==\"Comedy\" :\n",
    "            Comedy +=1\n",
    "        elif g[y]==\"Crime\" :\n",
    "            Crime +=1\n",
    "        elif g[y]==\"Documentary\" :\n",
    "            Documentary +=1\n",
    "        elif g[y]==\"Drama\" :\n",
    "            Drama +=1\n",
    "        elif g[y]==\"Fantasy\" :\n",
    "            Fantasy +=1\n",
    "        elif g[y]==\"Film-Noir\" :\n",
    "            FilmNoir +=1\n",
    "        elif g[y]==\"Horror\" :\n",
    "            Horror +=1\n",
    "        elif g[y]==\"IMAX\" :\n",
    "            IMAX +=1\n",
    "        elif g[y]==\"Musical\" :\n",
    "            Musical +=1\n",
    "        elif g[y]==\"Mystery\" :\n",
    "            Mystery +=1\n",
    "        elif g[y]==\"Romance\" :\n",
    "            Romance +=1\n",
    "        elif g[y]==\"Sci-Fi\" :\n",
    "            SciFi +=1\n",
    "        elif g[y]==\"Thriller\" :\n",
    "            Thriller +=1\n",
    "        elif g[y]==\"War\" :\n",
    "            War +=1\n",
    "        elif g[y]==\"Western\" :\n",
    "            Western +=1\n",
    "        else :\n",
    "            unspecified +=1\n",
    "\n",
    "movieCount=[Action,Adventure,Animation,Childrens,Comedy,Crime,Documentary,Drama,Fantasy,\n",
    "            FilmNoir,Horror,IMAX,Musical,Mystery,Romance,SciFi,Thriller,War,Western,unspecified]"
   ]
  },
  {
   "cell_type": "code",
   "execution_count": 92,
   "metadata": {},
   "outputs": [],
   "source": [
    "z=0\n",
    "genres = []\n",
    "for x in range(len(moviesCSV)) :\n",
    "    if moviesCSV.movieId[x] == mId[z] :\n",
    "        z+=1\n",
    "        genre = moviesCSV.genres[x]\n",
    "        g = genre.split('|')\n",
    "        for y in range(len(g)) :\n",
    "            genres.append(g[y])"
   ]
  },
  {
   "cell_type": "code",
   "execution_count": 97,
   "metadata": {},
   "outputs": [],
   "source": [
    "a = [genres.count(\"Action\"),genres.count(\"Adventure\"),genres.count(\"Animation\"),genres.count(\"Children\"),\n",
    "          genres.count(\"Comedy\"),genres.count(\"Crime\"),genres.count(\"Documentary\"),genres.count(\"Drama\"),\n",
    "          genres.count(\"Fantasy\"),genres.count(\"Film-Noir\"),genres.count(\"Horror\"),genres.count(\"IMAX\"),genres.count(\"Musical\"),\n",
    "          genres.count(\"Mystery\"),genres.count(\"Romance\"),genres.count(\"Sci-Fi\"),genres.count(\"Thriller\"),\n",
    "          genres.count(\"War\"),genres.count(\"Western\"),genres.count(\"(no genres listed)\")]\n",
    "Y1 = []\n",
    "for x in range(len(a)) :\n",
    "    Y1.append(a[x]/movieCount[x]*100)"
   ]
  },
  {
   "cell_type": "code",
   "execution_count": 98,
   "metadata": {},
   "outputs": [],
   "source": [
    "X1 = ['Action','Adventure','Animation','Childrens','Comedy','Crime','Documentary','Drama','Fantasy','Film-Noir',\n",
    "          'Horror','IMAX','Musical','Mystery','Romance','Sci-Fi','Thriller','War','Western','(no genres listed)']"
   ]
  },
  {
   "cell_type": "code",
   "execution_count": 107,
   "metadata": {},
   "outputs": [
    {
     "data": {
      "image/png": "[encoded data removed]",
      "text/plain": [
       "<Figure size 432x288 with 1 Axes>"
      ]
     },
     "metadata": {
      "needs_background": "light"
     },
     "output_type": "display_data"
    }
   ],
   "source": [
    "plt.barh(X1,Y1)\n",
    "plt.xlim(30,100)\n",
    "plt.xlabel(\"Percentage\")\n",
    "plt.ylabel(\"Genres\")\n",
    "plt.title(\"number of movies which are rated 4 and above in terms of percentage grouped by genre\")\n",
    "plt.show()\n",
    "#number of movies which are rated 4 and above in terms of percentage grouped by genres"
   ]
  },
  {
   "cell_type": "code",
   "execution_count": null,
   "metadata": {},
   "outputs": [],
   "source": []
  }
 ],
 "metadata": {
  "kernelspec": {
   "display_name": "Python 3",
   "language": "python",
   "name": "python3"
  },
  "language_info": {
   "codemirror_mode": {
    "name": "ipython",
    "version": 3
   },
   "file_extension": ".py",
   "mimetype": "text/x-python",
   "name": "python",
   "nbconvert_exporter": "python",
   "pygments_lexer": "ipython3",
   "version": "3.7.3"
  }
 },
 "nbformat": 4,
 "nbformat_minor": 4
}
