{
 "cells": [
  {
   "cell_type": "code",
   "execution_count": null,
   "metadata": {},
   "outputs": [],
   "source": [
    "from timeit import default_timer\n",
    "start = default_timer()\n",
    "import pandas as pd\n",
    "import numpy as np\n",
    "from matplotlib import  pyplot as plt"
   ]
  },
  {
   "cell_type": "code",
   "execution_count": null,
   "metadata": {},
   "outputs": [],
   "source": [
    "st = default_timer()\n",
    "moviesCSV = pd.read_csv(\"movies.csv\")\n",
    "moviesCSV.sort_values(by='movieId', inplace=True)\n",
    "moviesCSV.reset_index(inplace=True, drop=True)"
   ]
  },
  {
   "cell_type": "code",
   "execution_count": null,
   "metadata": {},
   "outputs": [],
   "source": [
    "st = default_timer()\n",
    "moviesCSV['year'] =  moviesCSV.title.str.extract(\"\\((\\d{4})\\)\", expand=True)\n",
    "moviesCSV.year = pd.to_datetime(moviesCSV.year, format='%Y')\n",
    "moviesCSV.year = moviesCSV.year.dt.year\n",
    "moviesCSV.title = moviesCSV.title.str[:-7]\n",
    "moviesCSV.head()"
   ]
  },
  {
   "cell_type": "code",
   "execution_count": null,
   "metadata": {},
   "outputs": [],
   "source": [
    "runtime = default_timer() - st\n",
    "print (\"Elapsed time(sec): \", round(runtime,2))\n",
    "print (\"Number of movies Null values: \", max(moviesCSV.isnull().sum()))\n",
    "moviesCSV.dropna(inplace=True)\n",
    "moviesCSV.sort_values(by='movieId', inplace=True)\n",
    "moviesCSV.reset_index(inplace=True, drop=True)\n",
    " \n",
    "\n",
    "combined_data = moviesCSV[['movieId', 'year']].groupby('year')\n",
    "\n",
    "fig, ax1 = plt.subplots(figsize=(15,5))\n",
    "ax1.plot(combined_data.year.first(), combined_data.movieId.nunique(), \"r-o\")\n",
    "ax1.set_ylim(0,)\n",
    "ax1.grid(None)\n",
    "\n",
    "\n",
    "ax1.set_xlabel('Year')\n",
    "ax1.set_ylabel('Number of movies released');\n",
    "plt.title('Movies per year')\n",
    "plt.show()\n"
   ]
  },
  {
   "cell_type": "code",
   "execution_count": null,
   "metadata": {},
   "outputs": [],
   "source": []
  }
 ],
 "metadata": {
  "kernelspec": {
   "display_name": "Python 3",
   "language": "python",
   "name": "python3"
  },
  "language_info": {
   "codemirror_mode": {
    "name": "ipython",
    "version": 3
   },
   "file_extension": ".py",
   "mimetype": "text/x-python",
   "name": "python",
   "nbconvert_exporter": "python",
   "pygments_lexer": "ipython3",
   "version": "3.7.3"
  }
 },
 "nbformat": 4,
 "nbformat_minor": 4
}
