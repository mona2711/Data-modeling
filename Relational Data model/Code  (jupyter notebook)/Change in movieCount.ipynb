{
 "cells": [
  {
   "cell_type": "code",
   "execution_count": 1,
   "metadata": {},
   "outputs": [],
   "source": [
    "import pandas as pd\n",
    "import numpy as np\n",
    "from matplotlib import pyplot as plt"
   ]
  },
  {
   "cell_type": "code",
   "execution_count": 2,
   "metadata": {},
   "outputs": [],
   "source": [
    "moviesFile = pd.read_csv(\"movies.csv\")"
   ]
  },
  {
   "cell_type": "code",
   "execution_count": 3,
   "metadata": {},
   "outputs": [],
   "source": [
    "title = moviesFile.title\n",
    "tens = []\n",
    "aughts = []\n",
    "ninties = []\n",
    "eighties = []\n",
    "seventies = []\n",
    "sixties = []\n",
    "fifties = []\n",
    "forties = [] \n",
    "thirties = []\n",
    "twenties = []"
   ]
  },
  {
   "cell_type": "code",
   "execution_count": 4,
   "metadata": {},
   "outputs": [],
   "source": [
    "for x in range(len(title)) :\n",
    "    yr = title[x].split('(')[-1]\n",
    "    year = yr[0:4]    \n",
    "    if year.isdigit():\n",
    "        year_int = int(year)\n",
    "        if year_int>2010 and year_int<2021 : \n",
    "            tens.append(year_int)\n",
    "        elif year_int>2000 and year_int<2011 :\n",
    "            aughts.append(year_int)\n",
    "        elif year_int>1990 and year_int<2001 :\n",
    "            ninties.append(year_int)\n",
    "        elif year_int>1980 and year_int<1991 :\n",
    "            eighties.append(year_int)\n",
    "        elif year_int>1970 and year_int<1981 :\n",
    "            seventies.append(year_int)\n",
    "        elif year_int>1960 and year_int<1971 :\n",
    "            sixties.append(year_int)\n",
    "        elif year_int>1950 and year_int<1961 :\n",
    "            fifties.append(year_int)\n",
    "        elif year_int>1940 and year_int<1951 :\n",
    "            forties.append(year_int)\n",
    "        elif year_int>1930 and year_int<1941 :\n",
    "            thirties.append(year_int)\n",
    "        elif year_int>1920 and year_int<1931 :\n",
    "            twenties.append(year_int)       "
   ]
  },
  {
   "cell_type": "code",
   "execution_count": 5,
   "metadata": {},
   "outputs": [],
   "source": [
    "x_axis = []\n",
    "for x in range(192,202) :\n",
    "    x = x*10\n",
    "    x_axis.append(x)\n",
    "\n",
    "y_axis = [len(twenties),len(thirties),len(forties),len(fifties),len(sixties),len(seventies),len(eighties),\n",
    "         len(ninties),len(aughts),len(tens)]"
   ]
  },
  {
   "cell_type": "code",
   "execution_count": 6,
   "metadata": {},
   "outputs": [],
   "source": [
    "perChange = [0]\n",
    "for x in range(len(y_axis)):\n",
    "   if x < (len(y_axis)-1):\n",
    "        percentage = (y_axis[x+1]/y_axis[x])*100\n",
    "        perChange.append(percentage - 100)\n",
    "        \n",
    "greenBar = []\n",
    "redBar = []\n",
    "mag = []\n",
    "for x in range(len(perChange)):\n",
    "    mag.append(np.sign(perChange[x]))\n",
    "for x in range(len(mag)):\n",
    "    if mag[x]==0 or mag[x]==1:\n",
    "        greenBar.append(perChange[x])\n",
    "        redBar.append(0)\n",
    "    else: \n",
    "        redBar.append(abs(perChange[x]))\n",
    "        greenBar.append(0)"
   ]
  },
  {
   "cell_type": "code",
   "execution_count": 7,
   "metadata": {},
   "outputs": [
    {
     "data": {
      "image/png": "[encoded data removed]",
      "text/plain": [
       "<Figure size 432x288 with 1 Axes>"
      ]
     },
     "metadata": {
      "needs_background": "light"
     },
     "output_type": "display_data"
    }
   ],
   "source": [
    "plt.bar(x_axis,greenBar,width=8,label='Increasing rate',color='green')\n",
    "plt.bar(x_axis,redBar,width=8,label='decreasing rate', color='red')\n",
    "plt.legend()\n",
    "plt.title(\"Rate of change in number of movies\")\n",
    "plt.xlabel(\"Percentage Change\")\n",
    "plt.ylabel(\"Decades\")\n",
    "plt.show()"
   ]
  },
  {
   "cell_type": "code",
   "execution_count": 8,
   "metadata": {},
   "outputs": [
    {
     "data": {
      "text/plain": [
       "[0,\n",
       " 290.0,\n",
       " 23.71794871794873,\n",
       " 52.849740932642504,\n",
       " 34.57627118644069,\n",
       " 40.050377833753146,\n",
       " 122.12230215827338,\n",
       " 90.12145748987854,\n",
       " 19.84667802385009,\n",
       " 0]"
      ]
     },
     "execution_count": 8,
     "metadata": {},
     "output_type": "execute_result"
    }
   ],
   "source": [
    "greenBar"
   ]
  },
  {
   "cell_type": "code",
   "execution_count": null,
   "metadata": {},
   "outputs": [],
   "source": []
  }
 ],
 "metadata": {
  "kernelspec": {
   "display_name": "Python 3",
   "language": "python",
   "name": "python3"
  },
  "language_info": {
   "codemirror_mode": {
    "name": "ipython",
    "version": 3
   },
   "file_extension": ".py",
   "mimetype": "text/x-python",
   "name": "python",
   "nbconvert_exporter": "python",
   "pygments_lexer": "ipython3",
   "version": "3.7.3"
  }
 },
 "nbformat": 4,
 "nbformat_minor": 4
}
