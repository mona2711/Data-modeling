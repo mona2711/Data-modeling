{
 "cells": [
  {
   "cell_type": "code",
   "execution_count": 9,
   "metadata": {},
   "outputs": [],
   "source": [
    "import pandas as pd\n",
    "import matplotlib.pyplot as plt"
   ]
  },
  {
   "cell_type": "code",
   "execution_count": 10,
   "metadata": {},
   "outputs": [],
   "source": [
    "moviesFile = pd.read_csv('movies_60K.csv')\n",
    "genres_col = moviesFile.genres\n",
    "\n",
    "Action = 0\n",
    "Adventure = 0\n",
    "Animation = 0\n",
    "Childrens = 0\n",
    "Comedy = 0\n",
    "Crime = 0\n",
    "Documentary = 0\n",
    "Drama = 0\n",
    "Fantasy = 0\n",
    "Film_Noir = 0\n",
    "Horror = 0\n",
    "Imax = 0\n",
    "Musical = 0\n",
    "Mystery = 0\n",
    "Romance = 0\n",
    "Sci_Fi = 0\n",
    "Thriller = 0\n",
    "War = 0\n",
    "Western = 0\n",
    "no_genres_listed = 0"
   ]
  },
  {
   "cell_type": "code",
   "execution_count": 11,
   "metadata": {},
   "outputs": [],
   "source": [
    "for x in range(len(genres_col)) : \n",
    "    genres = genres_col[x].split('|')\n",
    "    for y in range(len(genres)) :    \n",
    "        if genres[y]==\"Action\" :\n",
    "            Action +=1\n",
    "        elif genres[y]==\"Adventure\" :\n",
    "            Adventure +=1\n",
    "        elif genres[y]==\"Animation\" :\n",
    "            Animation +=1\n",
    "        elif genres[y]==\"Children\" :\n",
    "            Childrens +=1\n",
    "        elif genres[y]==\"Comedy\" :\n",
    "            Comedy +=1\n",
    "        elif genres[y]==\"Crime\" :\n",
    "            Crime +=1\n",
    "        elif genres[y]==\"Documentary\" :\n",
    "            Documentary +=1\n",
    "        elif genres[y]==\"Drama\" :\n",
    "            Drama +=1\n",
    "        elif genres[y]==\"Fantasy\" :\n",
    "            Fantasy +=1\n",
    "        elif genres[y]==\"Film-Noir\" :\n",
    "            Film_Noir +=1\n",
    "        elif genres[y]==\"Horror\" :\n",
    "            Horror +=1\n",
    "        elif genres[y]==\"IMAX\" :\n",
    "            Imax +=1\n",
    "        elif genres[y]==\"Musical\" :\n",
    "            Musical +=1\n",
    "        elif genres[y]==\"Mystery\" :\n",
    "            Mystery +=1\n",
    "        elif genres[y]==\"Romance\" :\n",
    "            Romance +=1\n",
    "        elif genres[y]==\"Sci-Fi\" :\n",
    "            Sci_Fi +=1\n",
    "        elif genres[y]==\"Thriller\" :\n",
    "            Thriller +=1\n",
    "        elif genres[y]==\"War\" :\n",
    "            War +=1\n",
    "        elif genres[y]==\"Western\" :\n",
    "            Western +=1\n",
    "        elif genres[y]==\"(no genres listed)\" :\n",
    "            no_genres_listed +=1"
   ]
  },
  {
   "cell_type": "code",
   "execution_count": 12,
   "metadata": {},
   "outputs": [],
   "source": [
    "x_axis = ['Action','Adventure','Animation','Childrens','Comedy','Crime','Documentary','Drama','Fantasy',\n",
    "          'Film-Noir','Horror','Musical','Mystery','Romance','Sci-Fi','Thriller','War','Western','no genres listed']"
   ]
  },
  {
   "cell_type": "code",
   "execution_count": 13,
   "metadata": {},
   "outputs": [],
   "source": [
    "y_axis = [Action,Adventure,Animation,Childrens,Comedy,Crime,Documentary,Drama,Fantasy,\n",
    "          Film_Noir,Horror,Musical,Mystery,Romance,Sci_Fi,Thriller,War,Western,no_genres_listed]"
   ]
  },
  {
   "cell_type": "code",
   "execution_count": 14,
   "metadata": {},
   "outputs": [
    {
     "data": {
      "image/png": "[encoded data removed]",
      "text/plain": [
       "<Figure size 432x288 with 1 Axes>"
      ]
     },
     "metadata": {
      "needs_background": "light"
     },
     "output_type": "display_data"
    }
   ],
   "source": [
    "plt.barh(x_axis,y_axis)\n",
    "plt.ylabel(\"GENRES\")\n",
    "plt.xlabel(\"# Movies\")\n",
    "plt.title(\"Count of Movies per Genre\")\n",
    "plt.show()"
   ]
  }
 ],
 "metadata": {
  "kernelspec": {
   "display_name": "Python 3",
   "language": "python",
   "name": "python3"
  },
  "language_info": {
   "codemirror_mode": {
    "name": "ipython",
    "version": 3
   },
   "file_extension": ".py",
   "mimetype": "text/x-python",
   "name": "python",
   "nbconvert_exporter": "python",
   "pygments_lexer": "ipython3",
   "version": "3.7.3"
  }
 },
 "nbformat": 4,
 "nbformat_minor": 4
}
