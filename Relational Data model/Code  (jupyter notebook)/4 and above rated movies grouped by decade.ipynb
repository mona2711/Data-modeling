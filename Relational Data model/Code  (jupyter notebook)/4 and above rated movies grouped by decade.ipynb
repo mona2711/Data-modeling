{
 "cells": [
  {
   "cell_type": "code",
   "execution_count": 29,
   "metadata": {},
   "outputs": [],
   "source": [
    "import pandas as pd\n",
    "import sqlite3\n",
    "import matplotlib.pyplot as plt"
   ]
  },
  {
   "cell_type": "code",
   "execution_count": 30,
   "metadata": {},
   "outputs": [],
   "source": [
    "conn = sqlite3.connect('rating.db')\n",
    "c = conn.cursor()"
   ]
  },
  {
   "cell_type": "code",
   "execution_count": 31,
   "metadata": {},
   "outputs": [],
   "source": [
    "moviesCSV = pd.read_csv('movies_60K.csv')"
   ]
  },
  {
   "cell_type": "code",
   "execution_count": 32,
   "metadata": {},
   "outputs": [
    {
     "name": "stdout",
     "output_type": "stream",
     "text": [
      "Wall time: 4.83 ms\n"
     ]
    }
   ],
   "source": [
    "%%time\n",
    "HRM =c.execute('select movieId from tab where rating=4.0 or rating=4.5 or rating=5')"
   ]
  },
  {
   "cell_type": "code",
   "execution_count": 33,
   "metadata": {},
   "outputs": [],
   "source": [
    "result = list(c)"
   ]
  },
  {
   "cell_type": "code",
   "execution_count": 34,
   "metadata": {},
   "outputs": [],
   "source": [
    "HRM_l = []\n",
    "for sublist in result:\n",
    "    for element in sublist:\n",
    "        HRM_l.append(element)\n"
   ]
  },
  {
   "cell_type": "code",
   "execution_count": 35,
   "metadata": {},
   "outputs": [],
   "source": [
    "mId = list(dict.fromkeys(HRM_l))\n",
    "mId.sort()"
   ]
  },
  {
   "cell_type": "code",
   "execution_count": 36,
   "metadata": {},
   "outputs": [],
   "source": [
    "y1=0\n",
    "year = []\n",
    "no_year = 0\n",
    "for x1 in range(len(moviesCSV)) : \n",
    "    if moviesCSV.movieId[x1] == mId[y1] :  \n",
    "        y1 +=1\n",
    "        title = moviesCSV.title[x1]\n",
    "        yr = title.split('(')[-1]\n",
    "        a = yr[0:4]\n",
    "        if a.isdigit() :\n",
    "            year.append(a)\n",
    "        else : \n",
    "            no_year += 1"
   ]
  },
  {
   "cell_type": "code",
   "execution_count": 37,
   "metadata": {},
   "outputs": [],
   "source": [
    "tens = 0\n",
    "aughts = 0\n",
    "ninties = 0\n",
    "eighties = 0\n",
    "seventies = 0\n",
    "sixties = 0\n",
    "fifties = 0\n",
    "forties = 0\n",
    "thirties = 0\n",
    "twenties = 0"
   ]
  },
  {
   "cell_type": "code",
   "execution_count": 24,
   "metadata": {},
   "outputs": [],
   "source": [
    "for x in range(len(year)):\n",
    "    if int(year[x])>2010 and int(year[x])<2021 :\n",
    "        tens +=1\n",
    "    elif int(year[x])>2000 and int(year[x])<2011 :\n",
    "        aughts +=1\n",
    "    elif int(year[x])>1990 and int(year[x])<2001 :\n",
    "        ninties +=1\n",
    "    elif int(year[x])>1980 and int(year[x])<1991 :\n",
    "        eighties +=1\n",
    "    elif int(year[x])>1970 and int(year[x])<1981 :\n",
    "        seventies +=1\n",
    "    elif int(year[x])>1960 and int(year[x])<1971 :\n",
    "        sixties +=1\n",
    "    elif int(year[x])>1950 and int(year[x])<1961 :\n",
    "        fifties +=1\n",
    "    elif int(year[x])>1940 and int(year[x])<1951 :\n",
    "        forties +=1\n",
    "    elif int(year[x])>1930 and int(year[x])<1941 :\n",
    "        thirties +=1\n",
    "    elif int(year[x])>1920 and int(year[x])<1931 :\n",
    "        twenties +=1"
   ]
  },
  {
   "cell_type": "code",
   "execution_count": 25,
   "metadata": {},
   "outputs": [],
   "source": [
    "count = [twenties,thirties,forties,fifties,sixties,seventies,eighties,ninties,aughts,tens]\n",
    "x_a = [] \n",
    "for x2 in range(192,202) :\n",
    "    x_a.append(x2*10)"
   ]
  },
  {
   "cell_type": "code",
   "execution_count": 28,
   "metadata": {},
   "outputs": [
    {
     "data": {
      "image/png": "[encoded data removed]",
      "text/plain": [
       "<Figure size 432x288 with 1 Axes>"
      ]
     },
     "metadata": {
      "needs_background": "light"
     },
     "output_type": "display_data"
    }
   ],
   "source": [
    "plt.bar(x_a,count,color='green',width=5)\n",
    "plt.xlabel(\"Decades\")\n",
    "plt.ylabel(\"Count of high rated movies\")\n",
    "plt.title(\"Number of movies with 4 and above rating per decade\")\n",
    "plt.show()"
   ]
  },
  {
   "cell_type": "code",
   "execution_count": null,
   "metadata": {},
   "outputs": [],
   "source": []
  }
 ],
 "metadata": {
  "kernelspec": {
   "display_name": "Python 3",
   "language": "python",
   "name": "python3"
  },
  "language_info": {
   "codemirror_mode": {
    "name": "ipython",
    "version": 3
   },
   "file_extension": ".py",
   "mimetype": "text/x-python",
   "name": "python",
   "nbconvert_exporter": "python",
   "pygments_lexer": "ipython3",
   "version": "3.7.3"
  }
 },
 "nbformat": 4,
 "nbformat_minor": 4
}
