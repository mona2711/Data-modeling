{
 "cells": [
  {
   "cell_type": "code",
   "execution_count": null,
   "metadata": {},
   "outputs": [],
   "source": [
    "import pandas as pd\n",
    "import numpy as np \n",
    "from wordcloud import WordCloud, STOPWORDS , ImageColorGenerator\n",
    "import matplotlib.pyplot as plt"
   ]
  },
  {
   "cell_type": "code",
   "execution_count": null,
   "metadata": {},
   "outputs": [],
   "source": [
    "tagsCSV = pd.read_csv(\"tags.csv\")\n",
    "moviesCSV = pd.read_csv(\"movies.csv\")"
   ]
  },
  {
   "cell_type": "code",
   "execution_count": null,
   "metadata": {},
   "outputs": [],
   "source": [
    "popularTags = pd.merge(moviesCSV, tagsCSV, on='movieId', how='inner')\n",
    "popularTags.timestamp = pd.to_datetime(popularTags.timestamp, infer_datetime_format=True)\n",
    "popularTags.timestamp = popularTags.timestamp.dt.year\n",
    "popularTags.sort_values(by='movieId', inplace=True)\n",
    "print (\"Number of  Null values: \", max(popularTags.isnull().sum()))\n",
    "popularTags.head()"
   ]
  },
  {
   "cell_type": "code",
   "execution_count": null,
   "metadata": {},
   "outputs": [],
   "source": [
    "# convert to list\n",
    "popularTags['genres'] = popularTags.genres.str.split('|')\n",
    "# convert list of pd.Series then stack it\n",
    "popularTags = (popularTags.set_index(['movieId','title','userId','tag','timestamp'])['genres']\n",
    " .apply(pd.Series)\n",
    " .stack()\n",
    " .reset_index()\n",
    " .drop('level_5', axis=1)\n",
    " .rename(columns={0:'genres'}))\n",
    "popularTags.head()"
   ]
  },
  {
   "cell_type": "code",
   "execution_count": null,
   "metadata": {},
   "outputs": [],
   "source": [
    "popularTags[popularTags.genres == 'Drama']"
   ]
  },
  {
   "cell_type": "code",
   "execution_count": null,
   "metadata": {},
   "outputs": [],
   "source": [
    "n=20\n",
    "Drama = []\n",
    "Drama = popularTags.tag.value_counts()[:n].index.tolist()\n",
    "#print(Adventure)"
   ]
  },
  {
   "cell_type": "code",
   "execution_count": null,
   "metadata": {},
   "outputs": [],
   "source": [
    "stopwords = set(STOPWORDS)\n",
    "\n",
    "def show_wordcloud(data, title = None):\n",
    "    wordcloud = WordCloud(\n",
    "        background_color='white',\n",
    "        stopwords=stopwords,\n",
    "        max_font_size=40, \n",
    "        scale=3,\n",
    ").generate(str(data))\n",
    "\n",
    "    fig = plt.figure(1, figsize=(10, 15))\n",
    "    plt.axis('off')\n",
    "    if title: \n",
    "        fig.suptitle(title, fontsize=40)\n",
    "        #fig.subplots_adjust(top=2.3)\n",
    "    plt.title('Most Used Words for most popular genre drama')    \n",
    "    plt.imshow(wordcloud)\n",
    "    plt.show()\n",
    "\n",
    "show_wordcloud(Drama)"
   ]
  },
  {
   "cell_type": "code",
   "execution_count": null,
   "metadata": {},
   "outputs": [],
   "source": [
    "popularTags[popularTags.genres == 'Comedy']"
   ]
  },
  {
   "cell_type": "code",
   "execution_count": null,
   "metadata": {},
   "outputs": [],
   "source": [
    "n=20\n",
    "Comedy = []\n",
    "Comedy = popularTags.tag.value_counts()[:n].index.tolist()"
   ]
  },
  {
   "cell_type": "code",
   "execution_count": null,
   "metadata": {},
   "outputs": [],
   "source": [
    "stopwords = set(STOPWORDS)\n",
    "\n",
    "def show_wordcloud(data, title = None):\n",
    "    wordcloud = WordCloud(\n",
    "        background_color='white',\n",
    "        stopwords=stopwords,\n",
    "        max_font_size=40, \n",
    "        scale=3,\n",
    ").generate(str(data))\n",
    "\n",
    "    fig = plt.figure(1, figsize=(10, 15))\n",
    "    plt.axis('off')\n",
    "    if title: \n",
    "        fig.suptitle(title, fontsize=40)\n",
    "        #fig.subplots_adjust(top=2.3)\n",
    "    plt.title('Most Used Words for 2nd most popular genre Comedy')    \n",
    "    plt.imshow(wordcloud)\n",
    "    plt.show()\n",
    "\n",
    "show_wordcloud(Drama)"
   ]
  }
 ],
 "metadata": {
  "kernelspec": {
   "display_name": "Python 3",
   "language": "python",
   "name": "python3"
  },
  "language_info": {
   "codemirror_mode": {
    "name": "ipython",
    "version": 3
   },
   "file_extension": ".py",
   "mimetype": "text/x-python",
   "name": "python",
   "nbconvert_exporter": "python",
   "pygments_lexer": "ipython3",
   "version": "3.7.3"
  }
 },
 "nbformat": 4,
 "nbformat_minor": 4
}
