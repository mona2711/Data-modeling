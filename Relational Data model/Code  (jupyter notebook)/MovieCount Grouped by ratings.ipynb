{
 "cells": [
  {
   "cell_type": "code",
   "execution_count": 1,
   "metadata": {},
   "outputs": [],
   "source": [
    "import pandas as pd\n",
    "import matplotlib.pyplot as plt"
   ]
  },
  {
   "cell_type": "code",
   "execution_count": 2,
   "metadata": {},
   "outputs": [
    {
     "name": "stdout",
     "output_type": "stream",
     "text": [
      "Wall time: 87.7 ms\n"
     ]
    }
   ],
   "source": [
    "%%time\n",
    "ratingsFile = pd.read_csv(\"ratings.csv\")"
   ]
  },
  {
   "cell_type": "code",
   "execution_count": 3,
   "metadata": {},
   "outputs": [],
   "source": [
    "rating_col = ratingsFile.rating\n",
    "zero5 = 0\n",
    "one = 0\n",
    "one5 = 0\n",
    "two = 0\n",
    "two5 = 0\n",
    "three = 0\n",
    "three5 = 0\n",
    "four = 0\n",
    "four5 = 0\n",
    "five = 0"
   ]
  },
  {
   "cell_type": "code",
   "execution_count": 4,
   "metadata": {},
   "outputs": [
    {
     "name": "stdout",
     "output_type": "stream",
     "text": [
      "done\n",
      "Wall time: 6.07 s\n"
     ]
    }
   ],
   "source": [
    "%%time\n",
    "for x in range(len(rating_col)) :\n",
    "    if rating_col[x]==0.5 :\n",
    "        zero5 +=1\n",
    "    elif rating_col[x]==1 :\n",
    "        one +=1\n",
    "    elif rating_col[x]==1.5 :\n",
    "        one5 +=1        \n",
    "    elif rating_col[x]==2 :\n",
    "        two +=1 \n",
    "    elif rating_col[x]==2.5 :\n",
    "        two5 +=1\n",
    "    elif rating_col[x]==3 :\n",
    "        three +=1\n",
    "    elif rating_col[x]==3.5 :\n",
    "        three5 +=1\n",
    "    elif rating_col[x]==4 :\n",
    "        four +=1        \n",
    "    elif rating_col[x]==4.5 :\n",
    "        four5 +=1\n",
    "    elif rating_col[x]==5 :\n",
    "        five +=1\n",
    "print(\"done\")"
   ]
  },
  {
   "cell_type": "code",
   "execution_count": 5,
   "metadata": {},
   "outputs": [],
   "source": [
    "x_axis = []\n",
    "x = range(0,10)\n",
    "for a in range(1,11):\n",
    "    x_axis.append(a/2)\n",
    "y_axis = [zero5,one,one5,two,two5,three,three5,four,four5,five]"
   ]
  },
  {
   "cell_type": "code",
   "execution_count": 6,
   "metadata": {},
   "outputs": [
    {
     "data": {
      "image/png": "[encoded data removed]",
      "text/plain": [
       "<Figure size 432x288 with 1 Axes>"
      ]
     },
     "metadata": {
      "needs_background": "light"
     },
     "output_type": "display_data"
    }
   ],
   "source": [
    "plt.xticks(x,x_axis)\n",
    "plt.bar(x,y_axis)\n",
    "plt.xlabel(\"Rating\")\n",
    "plt.ylabel(\"Number of Movies\")\n",
    "plt.title(\"Total count of movies grouped by each rating\")\n",
    "plt.show()"
   ]
  },
  {
   "cell_type": "code",
   "execution_count": null,
   "metadata": {},
   "outputs": [],
   "source": []
  }
 ],
 "metadata": {
  "kernelspec": {
   "display_name": "Python 3",
   "language": "python",
   "name": "python3"
  },
  "language_info": {
   "codemirror_mode": {
    "name": "ipython",
    "version": 3
   },
   "file_extension": ".py",
   "mimetype": "text/x-python",
   "name": "python",
   "nbconvert_exporter": "python",
   "pygments_lexer": "ipython3",
   "version": "3.7.3"
  }
 },
 "nbformat": 4,
 "nbformat_minor": 4
}
