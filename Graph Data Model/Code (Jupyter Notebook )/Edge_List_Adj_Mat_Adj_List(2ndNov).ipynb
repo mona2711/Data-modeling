{
 "cells": [
  {
   "cell_type": "code",
   "execution_count": 1,
   "metadata": {},
   "outputs": [],
   "source": [
    "import pandas as pd\n",
    "import numpy as np\n",
    "from py2neo import Graph, Node, Relationship"
   ]
  },
  {
   "cell_type": "code",
   "execution_count": 2,
   "metadata": {},
   "outputs": [
    {
     "name": "stdout",
     "output_type": "stream",
     "text": [
      "Wall time: 11 s\n"
     ]
    }
   ],
   "source": [
    "%%time \n",
    "file = pd.read_csv('soc-redditHyperlinks-title.tsv', delimiter='\\t')"
   ]
  },
  {
   "cell_type": "code",
   "execution_count": 3,
   "metadata": {},
   "outputs": [
    {
     "name": "stdout",
     "output_type": "stream",
     "text": [
      "Wall time: 314 ms\n"
     ]
    },
    {
     "data": {
      "text/plain": [
       "54075"
      ]
     },
     "execution_count": 3,
     "metadata": {},
     "output_type": "execute_result"
    }
   ],
   "source": [
    "%%time\n",
    "u_source = file['SOURCE_SUBREDDIT'].unique().tolist()\n",
    "u_target = file['TARGET_SUBREDDIT'].unique().tolist()\n",
    "u_source.extend(u_target)\n",
    "Vertices_list = list(dict.fromkeys(u_source))\n",
    "Vertices_list.sort()\n",
    "len(Vertices_list)"
   ]
  },
  {
   "cell_type": "code",
   "execution_count": null,
   "metadata": {},
   "outputs": [],
   "source": [
    "#creation of edge list "
   ]
  },
  {
   "cell_type": "code",
   "execution_count": 4,
   "metadata": {},
   "outputs": [
    {
     "name": "stdout",
     "output_type": "stream",
     "text": [
      "Wall time: 436 ms\n"
     ]
    }
   ],
   "source": [
    "%%time\n",
    "Edges_list = list(zip(file['SOURCE_SUBREDDIT'],file['TARGET_SUBREDDIT']))\n",
    "Edges_list.sort()\n",
    "Edges_unique = list(dict.fromkeys(Edges_list))\n",
    "len(Edges_unique)"
   ]
  },
  {
   "cell_type": "code",
   "execution_count": 6,
   "metadata": {},
   "outputs": [],
   "source": [
    "# Creation of adjacency matrix and adjacency List"
   ]
  },
  {
   "cell_type": "code",
   "execution_count": 7,
   "metadata": {},
   "outputs": [
    {
     "name": "stdout",
     "output_type": "stream",
     "text": [
      "Wall time: 9min 33s\n"
     ]
    }
   ],
   "source": [
    "%%time\n",
    "V = len(Vertices_list)\n",
    "\n",
    "Adj_Mat = np.zeros((V,V),dtype=int)\n",
    "\n",
    "Adj_list = []\n",
    "for s in range(V):\n",
    "    Adj_list.append([])\n",
    "\n",
    "for i in Edges_unique:\n",
    "    a = Vertices_list.index(i[0])\n",
    "    b = Vertices_list.index(i[1])\n",
    "    Adj_Mat[a][b]=1\n",
    "    Adj_list[a].append(i[1])"
   ]
  }
 ],
 "metadata": {
  "kernelspec": {
   "display_name": "Python 3",
   "language": "python",
   "name": "python3"
  },
  "language_info": {
   "codemirror_mode": {
    "name": "ipython",
    "version": 3
   },
   "file_extension": ".py",
   "mimetype": "text/x-python",
   "name": "python",
   "nbconvert_exporter": "python",
   "pygments_lexer": "ipython3",
   "version": "3.7.3"
  }
 },
 "nbformat": 4,
 "nbformat_minor": 4
}
