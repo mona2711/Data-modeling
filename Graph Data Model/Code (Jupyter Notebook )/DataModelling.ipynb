{
 "cells": [
  {
   "cell_type": "code",
   "execution_count": 1,
   "metadata": {},
   "outputs": [],
   "source": [
    "import pandas as pd\n",
    "import numpy as np \n",
    "from matplotlib import pyplot as plt"
   ]
  },
  {
   "cell_type": "code",
   "execution_count": 2,
   "metadata": {},
   "outputs": [],
   "source": [
    "def custom_func(elem):\n",
    "    return(elem[1])"
   ]
  },
  {
   "cell_type": "code",
   "execution_count": 3,
   "metadata": {},
   "outputs": [
    {
     "name": "stdout",
     "output_type": "stream",
     "text": [
      "Wall time: 3.81 s\n"
     ]
    }
   ],
   "source": [
    "%%time \n",
    "file = pd.read_csv('soc-redditHyperlinks-body.tsv', delimiter='\\t')\n"
   ]
  },
  {
   "cell_type": "code",
   "execution_count": 4,
   "metadata": {},
   "outputs": [
    {
     "name": "stdout",
     "output_type": "stream",
     "text": [
      "Wall time: 111 ms\n"
     ]
    },
    {
     "data": {
      "text/plain": [
       "35776"
      ]
     },
     "execution_count": 4,
     "metadata": {},
     "output_type": "execute_result"
    }
   ],
   "source": [
    "%%time\n",
    "u_source = file['SOURCE_SUBREDDIT'].unique().tolist()\n",
    "u_target = file['TARGET_SUBREDDIT'].unique().tolist()\n",
    "u_source.extend(u_target)\n",
    "Vertices_list = list(dict.fromkeys(u_source))\n",
    "Vertices_list.sort()\n",
    "len(Vertices_list)"
   ]
  },
  {
   "cell_type": "code",
   "execution_count": 5,
   "metadata": {},
   "outputs": [],
   "source": [
    "#creation of edge list"
   ]
  },
  {
   "cell_type": "code",
   "execution_count": 6,
   "metadata": {},
   "outputs": [
    {
     "name": "stdout",
     "output_type": "stream",
     "text": [
      "Wall time: 442 ms\n"
     ]
    },
    {
     "data": {
      "text/plain": [
       "137821"
      ]
     },
     "execution_count": 6,
     "metadata": {},
     "output_type": "execute_result"
    }
   ],
   "source": [
    "%%time\n",
    "Edges_list = list(zip(file['SOURCE_SUBREDDIT'],file['TARGET_SUBREDDIT']))\n",
    "Edges_list.sort()\n",
    "Edges_unique = list(dict.fromkeys(Edges_list))\n",
    "len(Edges_unique)"
   ]
  },
  {
   "cell_type": "code",
   "execution_count": null,
   "metadata": {},
   "outputs": [],
   "source": []
  },
  {
   "cell_type": "code",
   "execution_count": null,
   "metadata": {},
   "outputs": [],
   "source": []
  },
  {
   "cell_type": "code",
   "execution_count": 7,
   "metadata": {},
   "outputs": [],
   "source": [
    "# Creation of adjacency matrix and adjacency list"
   ]
  },
  {
   "cell_type": "code",
   "execution_count": 8,
   "metadata": {},
   "outputs": [
    {
     "name": "stdout",
     "output_type": "stream",
     "text": [
      "Wall time: 1min 41s\n"
     ]
    }
   ],
   "source": [
    "%%time\n",
    "V = len(Vertices_list)\n",
    "\n",
    "Adj_Mat = np.zeros((V,V),dtype=int)\n",
    "\n",
    "Adj_list = []\n",
    "for s in range(V):\n",
    "    Adj_list.append([])\n",
    "\n",
    "for i in Edges_unique:\n",
    "    a = Vertices_list.index(i[0])\n",
    "    b = Vertices_list.index(i[1])\n",
    "    Adj_Mat[a][b]=1\n",
    "#     Adj_list[a].append(i[1])\n"
   ]
  },
  {
   "cell_type": "code",
   "execution_count": 9,
   "metadata": {},
   "outputs": [
    {
     "name": "stdout",
     "output_type": "stream",
     "text": [
      "Wall time: 42.6 s\n"
     ]
    }
   ],
   "source": [
    "%%time\n",
    "# V = len(Vertices_list)\n",
    "\n",
    "# Adj_Mat = np.zeros((V,V),dtype=int)\n",
    "\n",
    "Adj_list = []\n",
    "for s in range(V):\n",
    "    Adj_list.append([])\n",
    "\n",
    "for i in Edges_unique:\n",
    "    a = Vertices_list.index(i[0])\n",
    "#     b = Vertices_list.index(i[1])\n",
    "#     Adj_Mat[a][b]=1\n",
    "    Adj_list[a].append(i[1])\n"
   ]
  },
  {
   "cell_type": "code",
   "execution_count": 21,
   "metadata": {},
   "outputs": [],
   "source": [
    "# %%time\n",
    "# V = len(Vertices_list)\n",
    "# #\n",
    "# # Adj_Mat = np.zeros((V,V),dtype=int)\n",
    "\n",
    "# Adj_list = []\n",
    "# for s in range(V):\n",
    "#     Adj_list.append([])\n",
    "\n",
    "# for i in Edges_unique:\n",
    "#     a = Vertices_list.index(i[0])\n",
    "#     b = Vertices_list.index(i[1])\n",
    "# #     Adj_Mat[a][b]=1\n",
    "#     Adj_list[a].append(i[1])\n"
   ]
  },
  {
   "cell_type": "code",
   "execution_count": 22,
   "metadata": {},
   "outputs": [
    {
     "name": "stdout",
     "output_type": "stream",
     "text": [
      "Wall time: 39.9 ms\n"
     ]
    }
   ],
   "source": [
    "%%time\n",
    "count_vertex = 0    \n",
    "count = []\n",
    "for i in range(len(Adj_list)):\n",
    "    count_vertex = len(Adj_list[i])\n",
    "    a = [Vertices_list[i],count_vertex]\n",
    "    count.append(a)\n"
   ]
  },
  {
   "cell_type": "code",
   "execution_count": 23,
   "metadata": {},
   "outputs": [
    {
     "data": {
      "text/plain": [
       "Text(0.5, 1.0, 'top 20 popuplar sub-reddits')"
      ]
     },
     "execution_count": 23,
     "metadata": {},
     "output_type": "execute_result"
    },
    {
     "data": {
      "image/png": "[encoded data removed]",
      "text/plain": [
       "<Figure size 864x576 with 1 Axes>"
      ]
     },
     "metadata": {
      "needs_background": "light"
     },
     "output_type": "display_data"
    }
   ],
   "source": [
    "count.sort(key=custom_func,reverse=True)\n",
    "x = []\n",
    "y = []\n",
    "for i in range(20):\n",
    "    x.append(count[i][0])\n",
    "    y.append(count[i][1])    \n",
    "\n",
    "plt.figure(figsize=(12,8))\n",
    "plt.barh(x,y)\n",
    "plt.title(\"top 20 popuplar sub-reddits\")"
   ]
  },
  {
   "cell_type": "code",
   "execution_count": null,
   "metadata": {},
   "outputs": [],
   "source": []
  },
  {
   "cell_type": "code",
   "execution_count": null,
   "metadata": {},
   "outputs": [],
   "source": []
  },
  {
   "cell_type": "code",
   "execution_count": null,
   "metadata": {},
   "outputs": [],
   "source": []
  },
  {
   "cell_type": "code",
   "execution_count": 24,
   "metadata": {},
   "outputs": [],
   "source": [
    "# Stroing Adj matrix and Adj list as csv"
   ]
  },
  {
   "cell_type": "code",
   "execution_count": 25,
   "metadata": {},
   "outputs": [],
   "source": [
    "# np.savetxt('Adjacency_Matrix.csv',Adj_Mat,delimiter = ',')\n",
    "# np.savetxt('Adjacency_list.csv',Adj_list,delimiter = ',')"
   ]
  },
  {
   "cell_type": "code",
   "execution_count": null,
   "metadata": {},
   "outputs": [],
   "source": []
  },
  {
   "cell_type": "code",
   "execution_count": 26,
   "metadata": {},
   "outputs": [],
   "source": [
    "#Triple-store query to be executed in Neo4j"
   ]
  },
  {
   "cell_type": "code",
   "execution_count": 27,
   "metadata": {},
   "outputs": [],
   "source": [
    "# load csv from 'file:///soc-redditHyperlinks-title.tsv' as graph FIELDTERMINATOR '\\t' create (node1:source{name:graph[0]})-[r:Sentiment {name:graph[4]}]-> (node2:target{name:graph[1]})"
   ]
  },
  {
   "cell_type": "code",
   "execution_count": null,
   "metadata": {},
   "outputs": [],
   "source": []
  },
  {
   "cell_type": "code",
   "execution_count": 28,
   "metadata": {},
   "outputs": [],
   "source": [
    "#insight - 1"
   ]
  },
  {
   "cell_type": "code",
   "execution_count": null,
   "metadata": {},
   "outputs": [],
   "source": []
  },
  {
   "cell_type": "code",
   "execution_count": 29,
   "metadata": {},
   "outputs": [
    {
     "name": "stdout",
     "output_type": "stream",
     "text": [
      " no:of source nodes : 27187\n",
      " no:of target nodes : 0\n"
     ]
    }
   ],
   "source": [
    "\n",
    "origin_nodes = list(set(u_source).difference(u_target))\n",
    "dest_nodes   = list(set(u_target).difference(u_source))\n",
    "origin_nodes.sort()\n",
    "dest_nodes.sort()\n",
    "print(\" no:of source nodes :\",len(origin_nodes))\n",
    "print(\" no:of target nodes :\",len(dest_nodes))"
   ]
  },
  {
   "cell_type": "code",
   "execution_count": null,
   "metadata": {},
   "outputs": [],
   "source": []
  },
  {
   "cell_type": "code",
   "execution_count": 30,
   "metadata": {},
   "outputs": [],
   "source": [
    "\n",
    "def Vertices(node):\n",
    "    for i in range(len(Vertices_list)):\n",
    "        if node == Vertices_list[i]:\n",
    "#             print(i)\n",
    "            return i\n",
    "\n",
    "def Matrix(index):\n",
    "    for i in range(len(Adj_Mat[index])):\n",
    "        if Adj_Mat[index][i]==1:\n",
    "#             print(Vertices_list[i])\n",
    "            return Vertices_list[i]\n"
   ]
  },
  {
   "cell_type": "code",
   "execution_count": 31,
   "metadata": {},
   "outputs": [],
   "source": [
    "# ### %%time\n",
    "# src = origin_nodes[1]\n",
    "# trg = ''\n",
    "# path1 = [] \n",
    "# path1.append(src)\n",
    "\n",
    "# for i in range(V):\n",
    "# #     trg = Matrix(Vertices(src))\n",
    "# #     path1.append(src)\n",
    "#     path1.append(trg)\n",
    "#     src = trg\n",
    "#     try:\n",
    "#         b=path1.index(src)\n",
    "#     except ValueError:\n",
    "#         continue\n",
    "# #     if isinstance(b,int):\n",
    "# #         break\n",
    "# print(path1)\n",
    "\n",
    "# # for i in range(len(Vertices_list)):\n",
    "# #     if src == Vertices_list[i] : \n",
    "# #         for j in range(len(Adj_Mat[i]):\n",
    "# #             if Adj_Mat[i][j] == 1 :\n",
    "# #                 path.append[[Vertices_listtices_list[i],Vertices_list[j]]]\n",
    "# #                 src = Vertices_list[j]"
   ]
  },
  {
   "cell_type": "code",
   "execution_count": null,
   "metadata": {},
   "outputs": [],
   "source": []
  },
  {
   "cell_type": "code",
   "execution_count": 47,
   "metadata": {},
   "outputs": [
    {
     "name": "stdout",
     "output_type": "stream",
     "text": [
      "Wall time: 56.5 s\n"
     ]
    }
   ],
   "source": [
    "%%time \n",
    "path_length = []\n",
    "for node in origin_nodes:\n",
    "    src = node\n",
    "    path = []\n",
    "    trg = ''\n",
    "    path.append(src)\n",
    "    exists=True\n",
    "\n",
    "    while exists:\n",
    "        index = Vertices_list.index(src)\n",
    "        if len(Adj_list[index])>0:\n",
    "            trg   = Adj_list[index][0]  \n",
    "            for element in path:\n",
    "                if element == trg:                    \n",
    "#                     check for next adjacent node\n",
    "                    trg = Adj_list[index][0]  \n",
    "                    exists = False\n",
    "                \n",
    "            if exists:\n",
    "                path.append(trg)\n",
    "                src = trg\n",
    "        else:\n",
    "            exists=False\n",
    "    path_length.append(len(path))"
   ]
  },
  {
   "cell_type": "code",
   "execution_count": 48,
   "metadata": {},
   "outputs": [
    {
     "data": {
      "text/plain": [
       "4"
      ]
     },
     "execution_count": 48,
     "metadata": {},
     "output_type": "execute_result"
    }
   ],
   "source": [
    "avg = 0\n",
    "sum = 0\n",
    "for i in range(len(path_length)):\n",
    "    sum += path_length[i]\n",
    "avg = int(sum/(i+1))\n",
    "avg\n"
   ]
  },
  {
   "cell_type": "code",
   "execution_count": null,
   "metadata": {},
   "outputs": [],
   "source": []
  },
  {
   "cell_type": "code",
   "execution_count": null,
   "metadata": {},
   "outputs": [],
   "source": []
  },
  {
   "cell_type": "code",
   "execution_count": null,
   "metadata": {},
   "outputs": [],
   "source": [
    "# src = origin_nodes[38]\n",
    "# trg = ''\n",
    "# for i in Edges_unique :\n",
    "#     if src == i[0] :\n",
    "#         print(i)\n",
    "#         trg = i[1]\n",
    "#         for j in Edges_unique:\n",
    "#             if trg == i[0]:\n",
    "#                 print(j)\n",
    "#                 src = trg\n",
    "# #                 break\n",
    "    "
   ]
  },
  {
   "cell_type": "code",
   "execution_count": null,
   "metadata": {},
   "outputs": [],
   "source": []
  },
  {
   "cell_type": "code",
   "execution_count": null,
   "metadata": {},
   "outputs": [],
   "source": []
  },
  {
   "cell_type": "code",
   "execution_count": null,
   "metadata": {},
   "outputs": [],
   "source": []
  },
  {
   "cell_type": "code",
   "execution_count": null,
   "metadata": {},
   "outputs": [],
   "source": [
    "# Col_count_AM.max()\n",
    "# Col_list_AM = Col_countAM.tolist()\n",
    "# indd = Col_list_AM.index(Col_countAM.max())\n",
    "# print(Vertices_list[indd])"
   ]
  },
  {
   "cell_type": "code",
   "execution_count": null,
   "metadata": {},
   "outputs": [],
   "source": [
    "#askreddit is the sub reddit with most number of redirects from the other sub reddits."
   ]
  },
  {
   "cell_type": "code",
   "execution_count": null,
   "metadata": {},
   "outputs": [],
   "source": []
  },
  {
   "cell_type": "code",
   "execution_count": null,
   "metadata": {},
   "outputs": [],
   "source": []
  },
  {
   "cell_type": "code",
   "execution_count": 28,
   "metadata": {},
   "outputs": [
    {
     "name": "stdout",
     "output_type": "stream",
     "text": [
      "0\n"
     ]
    }
   ],
   "source": [
    "count = 0\n",
    "for i in range(len(Adj_Mat)):\n",
    "    if Adj_Mat[i][i]==1:\n",
    "        count+=1\n",
    "print(count)"
   ]
  },
  {
   "cell_type": "code",
   "execution_count": 29,
   "metadata": {},
   "outputs": [],
   "source": [
    "#it is a network with no subreddits redirecting to itself without any intermediatort nodes"
   ]
  },
  {
   "cell_type": "code",
   "execution_count": 30,
   "metadata": {},
   "outputs": [],
   "source": [
    "#'bestof' is the sub reddit which has been linked the most to other subreddits.....or 'bestof' is the subreddit with highest number of responses\n",
    "#subreddit with most responses = 'bestof'\n",
    "#subreddit which answered more no:of subreddits = 'askreddit'"
   ]
  },
  {
   "cell_type": "code",
   "execution_count": null,
   "metadata": {},
   "outputs": [],
   "source": []
  },
  {
   "cell_type": "code",
   "execution_count": 31,
   "metadata": {},
   "outputs": [
    {
     "data": {
      "text/plain": [
       "1"
      ]
     },
     "execution_count": 31,
     "metadata": {},
     "output_type": "execute_result"
    }
   ],
   "source": [
    "Adj_Mat[Vertices_list.index('bestof')][indd]"
   ]
  },
  {
   "cell_type": "code",
   "execution_count": null,
   "metadata": {},
   "outputs": [],
   "source": []
  },
  {
   "cell_type": "code",
   "execution_count": 32,
   "metadata": {},
   "outputs": [],
   "source": [
    "# path length of subreddit - 'bestof' to get to the subreddit - 'askreddit'\n",
    "# path length of each node to get to the subreddit - 'askreddit'"
   ]
  },
  {
   "cell_type": "code",
   "execution_count": null,
   "metadata": {},
   "outputs": [],
   "source": []
  },
  {
   "cell_type": "code",
   "execution_count": 33,
   "metadata": {},
   "outputs": [
    {
     "data": {
      "text/plain": [
       "array([0, 0, 0, ..., 0, 0, 0])"
      ]
     },
     "execution_count": 33,
     "metadata": {},
     "output_type": "execute_result"
    }
   ],
   "source": [
    "Adj_Mat[Vertices_list.index('bestof')]"
   ]
  },
  {
   "cell_type": "code",
   "execution_count": 34,
   "metadata": {},
   "outputs": [],
   "source": [
    "# for node in Adj_list(Vertices_list.index('bestof')):\n",
    "#     if node == Vertices_list[indd]:\n",
    "#         print(\"found askreddit\")\n",
    "#         break\n",
    "#     else :\n",
    "#         for i in Adj_list[node]:\n",
    "            \n"
   ]
  },
  {
   "cell_type": "code",
   "execution_count": null,
   "metadata": {},
   "outputs": [],
   "source": []
  },
  {
   "cell_type": "code",
   "execution_count": null,
   "metadata": {},
   "outputs": [],
   "source": []
  },
  {
   "cell_type": "code",
   "execution_count": 35,
   "metadata": {},
   "outputs": [],
   "source": [
    "#Insight - 1"
   ]
  },
  {
   "cell_type": "code",
   "execution_count": 36,
   "metadata": {},
   "outputs": [],
   "source": [
    "# (1-1) Nodes from which many outward nodes are connected\n",
    "# using adjacency matrix/adjacency list\n",
    "# rowcount in adj_mat / length of a sub-list in edge list"
   ]
  },
  {
   "cell_type": "code",
   "execution_count": 37,
   "metadata": {},
   "outputs": [
    {
     "name": "stdout",
     "output_type": "stream",
     "text": [
      "Wall time: 401 ms\n"
     ]
    }
   ],
   "source": [
    "%%time\n",
    "\n",
    "#wall time using adjacency list\n",
    "\n",
    "count_vertex = 0    \n",
    "count = []\n",
    "for i in range(len(Adj_list)):\n",
    "    count_vertex = len(Adj_list[i])\n",
    "    a = [Vertices_list[i],count_vertex]\n",
    "    count.append(a)"
   ]
  },
  {
   "cell_type": "code",
   "execution_count": 38,
   "metadata": {},
   "outputs": [
    {
     "name": "stdout",
     "output_type": "stream",
     "text": [
      "Wall time: 13.6 s\n"
     ]
    }
   ],
   "source": [
    "%%time\n",
    "\n",
    "# wall time using adjacency matrix\n",
    "\n",
    "count = []\n",
    "for i in range(len(Adj_Mat)):\n",
    "    count_vertex = Adj_Mat[i].sum()\n",
    "#     print(count_vertex)\n",
    "    a = [Vertices_list[i],count_vertex]\n",
    "    count.append(a)\n"
   ]
  },
  {
   "cell_type": "code",
   "execution_count": 40,
   "metadata": {},
   "outputs": [
    {
     "data": {
      "text/plain": [
       "Text(0.5, 1.0, 'top 20 popuplar sub-reddits')"
      ]
     },
     "execution_count": 40,
     "metadata": {},
     "output_type": "execute_result"
    },
    {
     "data": {
      "image/png": "[encoded data removed]",
      "text/plain": [
       "<Figure size 864x576 with 1 Axes>"
      ]
     },
     "metadata": {
      "needs_background": "light"
     },
     "output_type": "display_data"
    }
   ],
   "source": [
    "count.sort(key=custom_func,reverse=True)\n",
    "x = []\n",
    "y = []\n",
    "for i in range(20):\n",
    "    x.append(count[i][0])\n",
    "    y.append(count[i][1])    \n",
    "\n",
    "plt.figure(figsize=(12,8))\n",
    "plt.barh(x,y)\n",
    "plt.title(\"top 20 popuplar sub-reddits\")"
   ]
  },
  {
   "cell_type": "code",
   "execution_count": null,
   "metadata": {},
   "outputs": [],
   "source": []
  },
  {
   "cell_type": "code",
   "execution_count": 41,
   "metadata": {},
   "outputs": [],
   "source": [
    "# (1-2) Nodes to which many nodes are connected (inward connecteions)\n",
    "#  using adjacency matrix\n",
    "# Col_count in adj_mat "
   ]
  },
  {
   "cell_type": "code",
   "execution_count": 98,
   "metadata": {},
   "outputs": [
    {
     "name": "stdout",
     "output_type": "stream",
     "text": [
      "4164\n",
      "askreddit\n"
     ]
    }
   ],
   "source": [
    "count_col = Adj_Mat.sum(axis=0)\n",
    "Col_list = count_col.tolist()\n",
    "indd = Col_list.index(count_col.max())\n",
    "print(count_col.max())\n",
    "print(Vertices_list[indd])"
   ]
  },
  {
   "cell_type": "code",
   "execution_count": null,
   "metadata": {},
   "outputs": [],
   "source": []
  },
  {
   "cell_type": "code",
   "execution_count": 99,
   "metadata": {},
   "outputs": [],
   "source": [
    "# (1-3) Most n(times) one subreddit is linked to another subreddit based  on PostIDs\n",
    "# using triple-store"
   ]
  },
  {
   "cell_type": "code",
   "execution_count": null,
   "metadata": {},
   "outputs": [],
   "source": []
  }
 ],
 "metadata": {
  "kernelspec": {
   "display_name": "Python 3",
   "language": "python",
   "name": "python3"
  },
  "language_info": {
   "codemirror_mode": {
    "name": "ipython",
    "version": 3
   },
   "file_extension": ".py",
   "mimetype": "text/x-python",
   "name": "python",
   "nbconvert_exporter": "python",
   "pygments_lexer": "ipython3",
   "version": "3.7.3"
  }
 },
 "nbformat": 4,
 "nbformat_minor": 4
}
