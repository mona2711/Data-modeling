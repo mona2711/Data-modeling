{
 "cells": [
  {
   "cell_type": "code",
   "execution_count": 1,
   "metadata": {},
   "outputs": [],
   "source": [
    "import pandas as pd \n",
    "from py2neo import Graph, Relationship, Node"
   ]
  },
  {
   "cell_type": "code",
   "execution_count": 2,
   "metadata": {},
   "outputs": [
    {
     "name": "stderr",
     "output_type": "stream",
     "text": [
      "C:\\ProgramData\\Anaconda3\\lib\\site-packages\\ipykernel_launcher.py:6: SettingWithCopyWarning: \n",
      "A value is trying to be set on a copy of a slice from a DataFrame\n",
      "\n",
      "See the caveats in the documentation: http://pandas.pydata.org/pandas-docs/stable/indexing.html#indexing-view-versus-copy\n",
      "  \n",
      "C:\\ProgramData\\Anaconda3\\lib\\site-packages\\ipykernel_launcher.py:11: SettingWithCopyWarning: \n",
      "A value is trying to be set on a copy of a slice from a DataFrame\n",
      "\n",
      "See the caveats in the documentation: http://pandas.pydata.org/pandas-docs/stable/indexing.html#indexing-view-versus-copy\n",
      "  # This is added back by InteractiveShellApp.init_path()\n"
     ]
    },
    {
     "name": "stdout",
     "output_type": "stream",
     "text": [
      "Wall time: 10.1 s\n"
     ]
    }
   ],
   "source": [
    "%%time\n",
    "file = pd.read_csv('userConnections.csv',usecols=[0,1,2])\n",
    "for i in range(len(file)):\n",
    "    tmp = file['2'][i][1:-1]\n",
    "    wc = tmp.split(',')\n",
    "    if len(wc)>0:\n",
    "        file['2'][i] = wc\n",
    "        \n",
    "    tmp1 = file['1'][i][1:-1]\n",
    "    sc = tmp1.split(',')\n",
    "    if len(sc)>0:\n",
    "        file['1'][i] = sc\n",
    "    if len(tmp1) == 0 : \n",
    "        file = file.drop(i)"
   ]
  },
  {
   "cell_type": "code",
   "execution_count": null,
   "metadata": {},
   "outputs": [],
   "source": []
  },
  {
   "cell_type": "code",
   "execution_count": 3,
   "metadata": {},
   "outputs": [],
   "source": [
    "file = file.reset_index()"
   ]
  },
  {
   "cell_type": "code",
   "execution_count": 4,
   "metadata": {},
   "outputs": [],
   "source": [
    "# file"
   ]
  },
  {
   "cell_type": "code",
   "execution_count": 8,
   "metadata": {},
   "outputs": [],
   "source": [
    "g = Graph(uri=\"http://localhost:7474\",user=\"neo4j\",password=\"1234\")\n",
    "g.delete_all\n",
    "kg = g.begin()\n",
    "\n",
    "for ind in range(len(file)):\n",
    "        \n",
    "    p = Node('User', title = str(file['0'][ind]))\n",
    "    kg.merge(p,'User', 'title')\n",
    "    \n",
    "    for node in file['1'][ind]:\n",
    "        rp = Node('User',title = str(node))\n",
    "        kg.merge(rp, 'User','title')\n",
    "        rel = Relationship(p ,'SC', rp)\n",
    "        kg.create(rel)\n",
    "    \n",
    "kg.commit()"
   ]
  },
  {
   "cell_type": "code",
   "execution_count": null,
   "metadata": {},
   "outputs": [],
   "source": []
  }
 ],
 "metadata": {
  "kernelspec": {
   "display_name": "Python 3",
   "language": "python",
   "name": "python3"
  },
  "language_info": {
   "codemirror_mode": {
    "name": "ipython",
    "version": 3
   },
   "file_extension": ".py",
   "mimetype": "text/x-python",
   "name": "python",
   "nbconvert_exporter": "python",
   "pygments_lexer": "ipython3",
   "version": "3.7.3"
  }
 },
 "nbformat": 4,
 "nbformat_minor": 4
}
