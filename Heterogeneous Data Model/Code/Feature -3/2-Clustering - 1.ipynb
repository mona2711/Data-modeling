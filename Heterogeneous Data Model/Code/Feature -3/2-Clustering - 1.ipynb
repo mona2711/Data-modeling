{
 "cells": [
  {
   "cell_type": "code",
   "execution_count": 12,
   "metadata": {},
   "outputs": [],
   "source": [
    "import pandas as pd \n",
    "import xml.etree.ElementTree as et \n",
    "\n",
    "xtree = et.parse(\"Badges.xml\")\n",
    "xroot = xtree.getroot() \n",
    "\n",
    "df_cols = [\"Id\", \"UserId\", \"Name\", \"Date\",\"Class\",\"TagBased\"]\n",
    "rows = []\n",
    "\n",
    "for node in xroot: \n",
    "    s_Id = node.attrib.get(\"Id\")\n",
    "    s_UserId = node.get(\"UserId\") if node is not None else None\n",
    "    s_Name = node.get(\"Name\") if node is not None else None\n",
    "    s_Date = node.get(\"Date\") if node is not None else None\n",
    "    s_Class = node.get(\"Class\") if node is not None else None\n",
    "    s_TagBased = node.get(\"TagBased\") if node is not None else None\n",
    "#     s_age = node.find(\"age\").text if node is not None else None\n",
    "    \n",
    "    rows.append({\"Id\": s_Id, \"UserId\": s_UserId, \n",
    "                 \"Name\": s_Name, \"Date\": s_Date, \n",
    "                 \"Class\": s_Class, \"TagBased\": s_TagBased})\n",
    "\n",
    "out_df = pd.DataFrame(rows, columns = df_cols)"
   ]
  },
  {
   "cell_type": "code",
   "execution_count": null,
   "metadata": {},
   "outputs": [],
   "source": []
  },
  {
   "cell_type": "code",
   "execution_count": 15,
   "metadata": {},
   "outputs": [
    {
     "data": {
      "text/html": [
       "<div>\n",
       "<style scoped>\n",
       "    .dataframe tbody tr th:only-of-type {\n",
       "        vertical-align: middle;\n",
       "    }\n",
       "\n",
       "    .dataframe tbody tr th {\n",
       "        vertical-align: top;\n",
       "    }\n",
       "\n",
       "    .dataframe thead th {\n",
       "        text-align: right;\n",
       "    }\n",
       "</style>\n",
       "<table border=\"1\" class=\"dataframe\">\n",
       "  <thead>\n",
       "    <tr style=\"text-align: right;\">\n",
       "      <th></th>\n",
       "      <th>Id</th>\n",
       "      <th>UserId</th>\n",
       "      <th>Name</th>\n",
       "      <th>Date</th>\n",
       "      <th>Class</th>\n",
       "      <th>TagBased</th>\n",
       "    </tr>\n",
       "  </thead>\n",
       "  <tbody>\n",
       "    <tr>\n",
       "      <th>0</th>\n",
       "      <td>1</td>\n",
       "      <td>1</td>\n",
       "      <td>Informed</td>\n",
       "      <td>2014-05-13T23:06:44.683</td>\n",
       "      <td>3</td>\n",
       "      <td>False</td>\n",
       "    </tr>\n",
       "    <tr>\n",
       "      <th>1</th>\n",
       "      <td>2</td>\n",
       "      <td>2</td>\n",
       "      <td>Autobiographer</td>\n",
       "      <td>2014-05-13T23:11:04.153</td>\n",
       "      <td>3</td>\n",
       "      <td>False</td>\n",
       "    </tr>\n",
       "    <tr>\n",
       "      <th>2</th>\n",
       "      <td>3</td>\n",
       "      <td>4</td>\n",
       "      <td>Autobiographer</td>\n",
       "      <td>2014-05-13T23:20:53.547</td>\n",
       "      <td>3</td>\n",
       "      <td>False</td>\n",
       "    </tr>\n",
       "    <tr>\n",
       "      <th>3</th>\n",
       "      <td>4</td>\n",
       "      <td>5</td>\n",
       "      <td>Autobiographer</td>\n",
       "      <td>2014-05-13T23:20:53.547</td>\n",
       "      <td>3</td>\n",
       "      <td>False</td>\n",
       "    </tr>\n",
       "    <tr>\n",
       "      <th>4</th>\n",
       "      <td>5</td>\n",
       "      <td>8</td>\n",
       "      <td>Autobiographer</td>\n",
       "      <td>2014-05-13T23:20:53.547</td>\n",
       "      <td>3</td>\n",
       "      <td>False</td>\n",
       "    </tr>\n",
       "  </tbody>\n",
       "</table>\n",
       "</div>"
      ],
      "text/plain": [
       "  Id UserId            Name                     Date Class TagBased\n",
       "0  1      1        Informed  2014-05-13T23:06:44.683     3    False\n",
       "1  2      2  Autobiographer  2014-05-13T23:11:04.153     3    False\n",
       "2  3      4  Autobiographer  2014-05-13T23:20:53.547     3    False\n",
       "3  4      5  Autobiographer  2014-05-13T23:20:53.547     3    False\n",
       "4  5      8  Autobiographer  2014-05-13T23:20:53.547     3    False"
      ]
     },
     "execution_count": 15,
     "metadata": {},
     "output_type": "execute_result"
    }
   ],
   "source": [
    "out_df.head()"
   ]
  },
  {
   "cell_type": "code",
   "execution_count": 14,
   "metadata": {},
   "outputs": [],
   "source": [
    "out_df.to_csv (r'Badges.csv', index = None, header=True)"
   ]
  },
  {
   "cell_type": "code",
   "execution_count": 17,
   "metadata": {},
   "outputs": [],
   "source": [
    "import pandas as pd \n",
    "import xml.etree.ElementTree as et \n",
    "\n",
    "xtree = et.parse(\"Comments.xml\")\n",
    "xroot = xtree.getroot() \n",
    "\n",
    "df_cols = [\"Id\", \"PostId\", \"Score\", \"Text\",\"CreationDate\",\"UserId\"]\n",
    "rows = []\n",
    "\n",
    "for node in xroot: \n",
    "    s_Id = node.attrib.get(\"Id\")\n",
    "    s_PostId = node.get(\"PostId\") if node is not None else None\n",
    "    s_Score = node.get(\"Score\") if node is not None else None\n",
    "    s_Text = node.get(\"Text\") if node is not None else None\n",
    "    s_CreationDate = node.get(\"CreationDate\") if node is not None else None\n",
    "    s_UserId = node.get(\"UserId\") if node is not None else None\n",
    "#     s_age = node.find(\"age\").text if node is not None else None\n",
    "    \n",
    "    rows.append({\"Id\": s_Id, \"PostId\": s_PostId, \n",
    "                 \"Score\": s_Score, \"Text\": s_Text, \n",
    "                 \"CreationDate\": s_CreationDate, \"UserId\": s_UserId})\n",
    "\n",
    "out_df2 = pd.DataFrame(rows, columns = df_cols)"
   ]
  },
  {
   "cell_type": "code",
   "execution_count": 18,
   "metadata": {},
   "outputs": [
    {
     "data": {
      "text/html": [
       "<div>\n",
       "<style scoped>\n",
       "    .dataframe tbody tr th:only-of-type {\n",
       "        vertical-align: middle;\n",
       "    }\n",
       "\n",
       "    .dataframe tbody tr th {\n",
       "        vertical-align: top;\n",
       "    }\n",
       "\n",
       "    .dataframe thead th {\n",
       "        text-align: right;\n",
       "    }\n",
       "</style>\n",
       "<table border=\"1\" class=\"dataframe\">\n",
       "  <thead>\n",
       "    <tr style=\"text-align: right;\">\n",
       "      <th></th>\n",
       "      <th>Id</th>\n",
       "      <th>PostId</th>\n",
       "      <th>Score</th>\n",
       "      <th>Text</th>\n",
       "      <th>CreationDate</th>\n",
       "      <th>UserId</th>\n",
       "    </tr>\n",
       "  </thead>\n",
       "  <tbody>\n",
       "    <tr>\n",
       "      <th>0</th>\n",
       "      <td>5</td>\n",
       "      <td>5</td>\n",
       "      <td>9</td>\n",
       "      <td>this is a super theoretical AI question. An in...</td>\n",
       "      <td>2014-05-14T00:23:15.437</td>\n",
       "      <td>34</td>\n",
       "    </tr>\n",
       "    <tr>\n",
       "      <th>1</th>\n",
       "      <td>6</td>\n",
       "      <td>7</td>\n",
       "      <td>4</td>\n",
       "      <td>List questions are usually not suited for Stac...</td>\n",
       "      <td>2014-05-14T00:38:19.510</td>\n",
       "      <td>51</td>\n",
       "    </tr>\n",
       "    <tr>\n",
       "      <th>2</th>\n",
       "      <td>9</td>\n",
       "      <td>7</td>\n",
       "      <td>3</td>\n",
       "      <td>This question appears to be off-topic because ...</td>\n",
       "      <td>2014-05-14T01:16:12.623</td>\n",
       "      <td>66</td>\n",
       "    </tr>\n",
       "    <tr>\n",
       "      <th>3</th>\n",
       "      <td>12</td>\n",
       "      <td>15</td>\n",
       "      <td>3</td>\n",
       "      <td>This question is far too broad. It may be salv...</td>\n",
       "      <td>2014-05-14T02:00:22.797</td>\n",
       "      <td>51</td>\n",
       "    </tr>\n",
       "    <tr>\n",
       "      <th>4</th>\n",
       "      <td>13</td>\n",
       "      <td>10</td>\n",
       "      <td>2</td>\n",
       "      <td>Nice one, @Nicholas... Another book from Hasti...</td>\n",
       "      <td>2014-05-14T02:16:20.503</td>\n",
       "      <td>24</td>\n",
       "    </tr>\n",
       "  </tbody>\n",
       "</table>\n",
       "</div>"
      ],
      "text/plain": [
       "   Id PostId Score                                               Text  \\\n",
       "0   5      5     9  this is a super theoretical AI question. An in...   \n",
       "1   6      7     4  List questions are usually not suited for Stac...   \n",
       "2   9      7     3  This question appears to be off-topic because ...   \n",
       "3  12     15     3  This question is far too broad. It may be salv...   \n",
       "4  13     10     2  Nice one, @Nicholas... Another book from Hasti...   \n",
       "\n",
       "              CreationDate UserId  \n",
       "0  2014-05-14T00:23:15.437     34  \n",
       "1  2014-05-14T00:38:19.510     51  \n",
       "2  2014-05-14T01:16:12.623     66  \n",
       "3  2014-05-14T02:00:22.797     51  \n",
       "4  2014-05-14T02:16:20.503     24  "
      ]
     },
     "execution_count": 18,
     "metadata": {},
     "output_type": "execute_result"
    }
   ],
   "source": [
    "out_df2.head()"
   ]
  },
  {
   "cell_type": "code",
   "execution_count": 19,
   "metadata": {},
   "outputs": [],
   "source": [
    "out_df2.to_csv (r'Comments.csv', index = None, header=True)"
   ]
  },
  {
   "cell_type": "code",
   "execution_count": 22,
   "metadata": {},
   "outputs": [],
   "source": [
    "import pandas as pd \n",
    "import xml.etree.ElementTree as et \n",
    "\n",
    "xtree = et.parse(\"PostHistory.xml\")\n",
    "xroot = xtree.getroot() \n",
    "\n",
    "df_cols = [\"Id\", \"PostHistoryTypeId\", \"PostId\", \"RevisionGUID\",\"CreationDate\",\"UserId\",\"Text\"]\n",
    "rows = []\n",
    "\n",
    "for node in xroot: \n",
    "    s_Id = node.attrib.get(\"Id\")\n",
    "    s_PostHistoryTypeId = node.get(\"PostHistoryTypeId\") if node is not None else None\n",
    "    s_PostId = node.get(\"PostId\") if node is not None else None\n",
    "    s_RevisionGUID = node.get(\"RevisionGUID\") if node is not None else None\n",
    "    s_CreationDate = node.get(\"CreationDate\") if node is not None else None\n",
    "    s_UserId = node.get(\"UserId\") if node is not None else None\n",
    "    s_Text = node.get(\"Text\") if node is not None else None\n",
    "#     s_age = node.get(\"age\") if node is not None else None\n",
    "    \n",
    "    rows.append({\"Id\": s_Id, \"PostHistoryTypeId\": s_PostHistoryTypeId, \n",
    "                 \"PostId\": s_PostId, \"RevisionGUID\": s_RevisionGUID, \n",
    "                 \"CreationDate\": s_CreationDate, \"UserId\": s_UserId,\"Text\": s_Text})\n",
    "\n",
    "out_df3 = pd.DataFrame(rows, columns = df_cols)"
   ]
  },
  {
   "cell_type": "code",
   "execution_count": 23,
   "metadata": {},
   "outputs": [
    {
     "data": {
      "text/html": [
       "<div>\n",
       "<style scoped>\n",
       "    .dataframe tbody tr th:only-of-type {\n",
       "        vertical-align: middle;\n",
       "    }\n",
       "\n",
       "    .dataframe tbody tr th {\n",
       "        vertical-align: top;\n",
       "    }\n",
       "\n",
       "    .dataframe thead th {\n",
       "        text-align: right;\n",
       "    }\n",
       "</style>\n",
       "<table border=\"1\" class=\"dataframe\">\n",
       "  <thead>\n",
       "    <tr style=\"text-align: right;\">\n",
       "      <th></th>\n",
       "      <th>Id</th>\n",
       "      <th>PostHistoryTypeId</th>\n",
       "      <th>PostId</th>\n",
       "      <th>RevisionGUID</th>\n",
       "      <th>CreationDate</th>\n",
       "      <th>UserId</th>\n",
       "      <th>Text</th>\n",
       "    </tr>\n",
       "  </thead>\n",
       "  <tbody>\n",
       "    <tr>\n",
       "      <th>0</th>\n",
       "      <td>7</td>\n",
       "      <td>2</td>\n",
       "      <td>5</td>\n",
       "      <td>009bca93-fce2-44ed-a277-a8452650a627</td>\n",
       "      <td>2014-05-13T23:58:30.457</td>\n",
       "      <td>5</td>\n",
       "      <td>I've always been interested in machine learnin...</td>\n",
       "    </tr>\n",
       "    <tr>\n",
       "      <th>1</th>\n",
       "      <td>8</td>\n",
       "      <td>1</td>\n",
       "      <td>5</td>\n",
       "      <td>009bca93-fce2-44ed-a277-a8452650a627</td>\n",
       "      <td>2014-05-13T23:58:30.457</td>\n",
       "      <td>5</td>\n",
       "      <td>How can I do simple machine learning without h...</td>\n",
       "    </tr>\n",
       "    <tr>\n",
       "      <th>2</th>\n",
       "      <td>9</td>\n",
       "      <td>3</td>\n",
       "      <td>5</td>\n",
       "      <td>009bca93-fce2-44ed-a277-a8452650a627</td>\n",
       "      <td>2014-05-13T23:58:30.457</td>\n",
       "      <td>5</td>\n",
       "      <td>&lt;machine-learning&gt;</td>\n",
       "    </tr>\n",
       "    <tr>\n",
       "      <th>3</th>\n",
       "      <td>12</td>\n",
       "      <td>2</td>\n",
       "      <td>7</td>\n",
       "      <td>ea5a5642-ed30-43ea-9be5-8e8de0e1c660</td>\n",
       "      <td>2014-05-14T00:11:06.457</td>\n",
       "      <td>36</td>\n",
       "      <td>As a researcher and instructor, I'm looking fo...</td>\n",
       "    </tr>\n",
       "    <tr>\n",
       "      <th>4</th>\n",
       "      <td>13</td>\n",
       "      <td>1</td>\n",
       "      <td>7</td>\n",
       "      <td>ea5a5642-ed30-43ea-9be5-8e8de0e1c660</td>\n",
       "      <td>2014-05-14T00:11:06.457</td>\n",
       "      <td>36</td>\n",
       "      <td>What open-source books (or other materials) pr...</td>\n",
       "    </tr>\n",
       "  </tbody>\n",
       "</table>\n",
       "</div>"
      ],
      "text/plain": [
       "   Id PostHistoryTypeId PostId                          RevisionGUID  \\\n",
       "0   7                 2      5  009bca93-fce2-44ed-a277-a8452650a627   \n",
       "1   8                 1      5  009bca93-fce2-44ed-a277-a8452650a627   \n",
       "2   9                 3      5  009bca93-fce2-44ed-a277-a8452650a627   \n",
       "3  12                 2      7  ea5a5642-ed30-43ea-9be5-8e8de0e1c660   \n",
       "4  13                 1      7  ea5a5642-ed30-43ea-9be5-8e8de0e1c660   \n",
       "\n",
       "              CreationDate UserId  \\\n",
       "0  2014-05-13T23:58:30.457      5   \n",
       "1  2014-05-13T23:58:30.457      5   \n",
       "2  2014-05-13T23:58:30.457      5   \n",
       "3  2014-05-14T00:11:06.457     36   \n",
       "4  2014-05-14T00:11:06.457     36   \n",
       "\n",
       "                                                Text  \n",
       "0  I've always been interested in machine learnin...  \n",
       "1  How can I do simple machine learning without h...  \n",
       "2                                 <machine-learning>  \n",
       "3  As a researcher and instructor, I'm looking fo...  \n",
       "4  What open-source books (or other materials) pr...  "
      ]
     },
     "execution_count": 23,
     "metadata": {},
     "output_type": "execute_result"
    }
   ],
   "source": [
    "out_df3.head()"
   ]
  },
  {
   "cell_type": "code",
   "execution_count": 24,
   "metadata": {},
   "outputs": [],
   "source": [
    "out_df3.to_csv (r'PostHistory.csv', index = None, header=True)"
   ]
  },
  {
   "cell_type": "code",
   "execution_count": 25,
   "metadata": {},
   "outputs": [],
   "source": [
    "import pandas as pd \n",
    "import xml.etree.ElementTree as et \n",
    "\n",
    "xtree = et.parse(\"PostLinks.xml\")\n",
    "xroot = xtree.getroot() \n",
    "\n",
    "df_cols = [\"Id\", \"CreationDate\", \"PostId\", \"RelatedPostId\",\"LinkTypeId\"]\n",
    "rows = []\n",
    "\n",
    "for node in xroot: \n",
    "    s_Id = node.attrib.get(\"Id\")\n",
    "    s_CreationDate = node.get(\"CreationDate\") if node is not None else None\n",
    "    s_PostId = node.get(\"PostId\") if node is not None else None\n",
    "    s_RelatedPostId = node.get(\"RelatedPostId\") if node is not None else None\n",
    "    s_LinkTypeId = node.get(\"LinkTypeId\") if node is not None else None\n",
    "    s_Text = node.get(\"Text\") if node is not None else None\n",
    "#     s_age = node.get(\"age\") if node is not None else None\n",
    "    \n",
    "    rows.append({\"Id\": s_Id, \"CreationDate\": s_CreationDate, \n",
    "                 \"PostId\": s_PostId, \"RelatedPostId\": s_RelatedPostId, \"LinkTypeId\": s_LinkTypeId})\n",
    "\n",
    "out_df4 = pd.DataFrame(rows, columns = df_cols)"
   ]
  },
  {
   "cell_type": "code",
   "execution_count": 26,
   "metadata": {},
   "outputs": [
    {
     "data": {
      "text/html": [
       "<div>\n",
       "<style scoped>\n",
       "    .dataframe tbody tr th:only-of-type {\n",
       "        vertical-align: middle;\n",
       "    }\n",
       "\n",
       "    .dataframe tbody tr th {\n",
       "        vertical-align: top;\n",
       "    }\n",
       "\n",
       "    .dataframe thead th {\n",
       "        text-align: right;\n",
       "    }\n",
       "</style>\n",
       "<table border=\"1\" class=\"dataframe\">\n",
       "  <thead>\n",
       "    <tr style=\"text-align: right;\">\n",
       "      <th></th>\n",
       "      <th>Id</th>\n",
       "      <th>CreationDate</th>\n",
       "      <th>PostId</th>\n",
       "      <th>RelatedPostId</th>\n",
       "      <th>LinkTypeId</th>\n",
       "    </tr>\n",
       "  </thead>\n",
       "  <tbody>\n",
       "    <tr>\n",
       "      <th>0</th>\n",
       "      <td>9</td>\n",
       "      <td>2014-05-14T07:56:34.437</td>\n",
       "      <td>14</td>\n",
       "      <td>1</td>\n",
       "      <td>1</td>\n",
       "    </tr>\n",
       "    <tr>\n",
       "      <th>1</th>\n",
       "      <td>50</td>\n",
       "      <td>2014-05-15T01:46:28.467</td>\n",
       "      <td>75</td>\n",
       "      <td>71</td>\n",
       "      <td>1</td>\n",
       "    </tr>\n",
       "    <tr>\n",
       "      <th>2</th>\n",
       "      <td>172</td>\n",
       "      <td>2014-05-20T17:42:19.287</td>\n",
       "      <td>59</td>\n",
       "      <td>41</td>\n",
       "      <td>1</td>\n",
       "    </tr>\n",
       "    <tr>\n",
       "      <th>3</th>\n",
       "      <td>387</td>\n",
       "      <td>2014-06-13T16:44:29.323</td>\n",
       "      <td>361</td>\n",
       "      <td>61</td>\n",
       "      <td>1</td>\n",
       "    </tr>\n",
       "    <tr>\n",
       "      <th>4</th>\n",
       "      <td>392</td>\n",
       "      <td>2014-06-13T16:58:23.247</td>\n",
       "      <td>61</td>\n",
       "      <td>361</td>\n",
       "      <td>1</td>\n",
       "    </tr>\n",
       "  </tbody>\n",
       "</table>\n",
       "</div>"
      ],
      "text/plain": [
       "    Id             CreationDate PostId RelatedPostId LinkTypeId\n",
       "0    9  2014-05-14T07:56:34.437     14             1          1\n",
       "1   50  2014-05-15T01:46:28.467     75            71          1\n",
       "2  172  2014-05-20T17:42:19.287     59            41          1\n",
       "3  387  2014-06-13T16:44:29.323    361            61          1\n",
       "4  392  2014-06-13T16:58:23.247     61           361          1"
      ]
     },
     "execution_count": 26,
     "metadata": {},
     "output_type": "execute_result"
    }
   ],
   "source": [
    "out_df4.head()"
   ]
  },
  {
   "cell_type": "code",
   "execution_count": 27,
   "metadata": {},
   "outputs": [],
   "source": [
    "out_df4.to_csv (r'PostLinks.csv', index = None, header=True)"
   ]
  },
  {
   "cell_type": "code",
   "execution_count": 30,
   "metadata": {},
   "outputs": [],
   "source": [
    "import pandas as pd \n",
    "import xml.etree.ElementTree as et \n",
    "\n",
    "xtree = et.parse(\"Posts.xml\")\n",
    "xroot = xtree.getroot() \n",
    "\n",
    "df_cols = [\"Id\", \"PostTypeId\", \"CreationDate\", \"Score\",\"ViewCount\",\"Body\",\"OwnerUserId\",\"LastActivityDate\",\"Title\",\"Tags\",\"AnswerCount\",\"CommentCount\",\"FavoriteCount\",\"ClosedDate\"]\n",
    "rows = []\n",
    "\n",
    "for node in xroot: \n",
    "    s_Id = node.attrib.get(\"Id\")\n",
    "    s_PostTypeId = node.get(\"PostTypeId\") if node is not None else None\n",
    "    s_CreationDate = node.get(\"CreationDate\") if node is not None else None\n",
    "    s_Score = node.get(\"Score\") if node is not None else None\n",
    "    s_ViewCount = node.get(\"ViewCount\") if node is not None else None\n",
    "    s_Body = node.get(\"Body\") if node is not None else None\n",
    "    s_OwnerUserId = node.get(\"OwnerUserId\") if node is not None else None\n",
    "    s_LastActivityDate = node.get(\"LastActivityDate\") if node is not None else None\n",
    "    s_Title = node.get(\"Title\") if node is not None else None\n",
    "    s_Tags = node.get(\"Tags\") if node is not None else None\n",
    "    s_AnswerCount = node.get(\"AnswerCount\") if node is not None else None\n",
    "    s_CommentCount = node.get(\"CommentCount\") if node is not None else None\n",
    "    s_FavoriteCount = node.get(\"FavoriteCount\") if node is not None else None\n",
    "    s_ClosedDate = node.get(\"ClosedDate\") if node is not None else None\n",
    "#     s_age = node.get(\"age\") if node is not None else None\n",
    "    \n",
    "    rows.append({\"Id\": s_Id, \"PostTypeId\": s_PostTypeId, \n",
    "                 \"CreationDate\": s_CreationDate, \"Score\": s_Score, \n",
    "                 \"ViewCount\": s_ViewCount, \"Body\": s_Body,\"OwnerUserId\": s_OwnerUserId,\"LastActivityDate\": s_LastActivityDate,\"Title\": s_Title,\"Tags\": s_Tags,\"AnswerCount\": s_AnswerCount,\"CommentCount\": s_CommentCount,\"FavoriteCount\": s_FavoriteCount,\"ClosedDate\": s_ClosedDate})\n",
    "\n",
    "out_df5 = pd.DataFrame(rows, columns = df_cols)"
   ]
  },
  {
   "cell_type": "code",
   "execution_count": 31,
   "metadata": {},
   "outputs": [
    {
     "data": {
      "text/html": [
       "<div>\n",
       "<style scoped>\n",
       "    .dataframe tbody tr th:only-of-type {\n",
       "        vertical-align: middle;\n",
       "    }\n",
       "\n",
       "    .dataframe tbody tr th {\n",
       "        vertical-align: top;\n",
       "    }\n",
       "\n",
       "    .dataframe thead th {\n",
       "        text-align: right;\n",
       "    }\n",
       "</style>\n",
       "<table border=\"1\" class=\"dataframe\">\n",
       "  <thead>\n",
       "    <tr style=\"text-align: right;\">\n",
       "      <th></th>\n",
       "      <th>Id</th>\n",
       "      <th>PostTypeId</th>\n",
       "      <th>CreationDate</th>\n",
       "      <th>Score</th>\n",
       "      <th>ViewCount</th>\n",
       "      <th>Body</th>\n",
       "      <th>OwnerUserId</th>\n",
       "      <th>LastActivityDate</th>\n",
       "      <th>Title</th>\n",
       "      <th>Tags</th>\n",
       "      <th>AnswerCount</th>\n",
       "      <th>CommentCount</th>\n",
       "      <th>FavoriteCount</th>\n",
       "      <th>ClosedDate</th>\n",
       "    </tr>\n",
       "  </thead>\n",
       "  <tbody>\n",
       "    <tr>\n",
       "      <th>0</th>\n",
       "      <td>5</td>\n",
       "      <td>1</td>\n",
       "      <td>2014-05-13T23:58:30.457</td>\n",
       "      <td>8</td>\n",
       "      <td>604</td>\n",
       "      <td>&lt;p&gt;I've always been interested in machine lear...</td>\n",
       "      <td>5</td>\n",
       "      <td>2014-05-14T00:36:31.077</td>\n",
       "      <td>How can I do simple machine learning without h...</td>\n",
       "      <td>&lt;machine-learning&gt;</td>\n",
       "      <td>1</td>\n",
       "      <td>1</td>\n",
       "      <td>1</td>\n",
       "      <td>2014-05-14T14:40:25.950</td>\n",
       "    </tr>\n",
       "    <tr>\n",
       "      <th>1</th>\n",
       "      <td>7</td>\n",
       "      <td>1</td>\n",
       "      <td>2014-05-14T00:11:06.457</td>\n",
       "      <td>4</td>\n",
       "      <td>426</td>\n",
       "      <td>&lt;p&gt;As a researcher and instructor, I'm looking...</td>\n",
       "      <td>36</td>\n",
       "      <td>2014-05-16T13:45:00.237</td>\n",
       "      <td>What open-source books (or other materials) pr...</td>\n",
       "      <td>&lt;education&gt;&lt;open-source&gt;</td>\n",
       "      <td>3</td>\n",
       "      <td>4</td>\n",
       "      <td>1</td>\n",
       "      <td>2014-05-14T08:40:54.950</td>\n",
       "    </tr>\n",
       "    <tr>\n",
       "      <th>2</th>\n",
       "      <td>9</td>\n",
       "      <td>2</td>\n",
       "      <td>2014-05-14T00:36:31.077</td>\n",
       "      <td>5</td>\n",
       "      <td>None</td>\n",
       "      <td>&lt;p&gt;Not sure if this fits the scope of this SE,...</td>\n",
       "      <td>51</td>\n",
       "      <td>2014-05-14T00:36:31.077</td>\n",
       "      <td>None</td>\n",
       "      <td>None</td>\n",
       "      <td>None</td>\n",
       "      <td>0</td>\n",
       "      <td>None</td>\n",
       "      <td>None</td>\n",
       "    </tr>\n",
       "    <tr>\n",
       "      <th>3</th>\n",
       "      <td>10</td>\n",
       "      <td>2</td>\n",
       "      <td>2014-05-14T00:53:43.273</td>\n",
       "      <td>12</td>\n",
       "      <td>None</td>\n",
       "      <td>&lt;p&gt;One book that's freely available is \"The El...</td>\n",
       "      <td>22</td>\n",
       "      <td>2014-05-14T00:53:43.273</td>\n",
       "      <td>None</td>\n",
       "      <td>None</td>\n",
       "      <td>None</td>\n",
       "      <td>1</td>\n",
       "      <td>None</td>\n",
       "      <td>None</td>\n",
       "    </tr>\n",
       "    <tr>\n",
       "      <th>4</th>\n",
       "      <td>14</td>\n",
       "      <td>1</td>\n",
       "      <td>2014-05-14T01:25:59.677</td>\n",
       "      <td>23</td>\n",
       "      <td>1495</td>\n",
       "      <td>&lt;p&gt;I am sure data science as will be discussed...</td>\n",
       "      <td>66</td>\n",
       "      <td>2014-06-20T17:36:05.023</td>\n",
       "      <td>Is Data Science the Same as Data Mining?</td>\n",
       "      <td>&lt;data-mining&gt;&lt;definitions&gt;</td>\n",
       "      <td>4</td>\n",
       "      <td>1</td>\n",
       "      <td>6</td>\n",
       "      <td>None</td>\n",
       "    </tr>\n",
       "  </tbody>\n",
       "</table>\n",
       "</div>"
      ],
      "text/plain": [
       "   Id PostTypeId             CreationDate Score ViewCount  \\\n",
       "0   5          1  2014-05-13T23:58:30.457     8       604   \n",
       "1   7          1  2014-05-14T00:11:06.457     4       426   \n",
       "2   9          2  2014-05-14T00:36:31.077     5      None   \n",
       "3  10          2  2014-05-14T00:53:43.273    12      None   \n",
       "4  14          1  2014-05-14T01:25:59.677    23      1495   \n",
       "\n",
       "                                                Body OwnerUserId  \\\n",
       "0  <p>I've always been interested in machine lear...           5   \n",
       "1  <p>As a researcher and instructor, I'm looking...          36   \n",
       "2  <p>Not sure if this fits the scope of this SE,...          51   \n",
       "3  <p>One book that's freely available is \"The El...          22   \n",
       "4  <p>I am sure data science as will be discussed...          66   \n",
       "\n",
       "          LastActivityDate                                              Title  \\\n",
       "0  2014-05-14T00:36:31.077  How can I do simple machine learning without h...   \n",
       "1  2014-05-16T13:45:00.237  What open-source books (or other materials) pr...   \n",
       "2  2014-05-14T00:36:31.077                                               None   \n",
       "3  2014-05-14T00:53:43.273                                               None   \n",
       "4  2014-06-20T17:36:05.023           Is Data Science the Same as Data Mining?   \n",
       "\n",
       "                         Tags AnswerCount CommentCount FavoriteCount  \\\n",
       "0          <machine-learning>           1            1             1   \n",
       "1    <education><open-source>           3            4             1   \n",
       "2                        None        None            0          None   \n",
       "3                        None        None            1          None   \n",
       "4  <data-mining><definitions>           4            1             6   \n",
       "\n",
       "                ClosedDate  \n",
       "0  2014-05-14T14:40:25.950  \n",
       "1  2014-05-14T08:40:54.950  \n",
       "2                     None  \n",
       "3                     None  \n",
       "4                     None  "
      ]
     },
     "execution_count": 31,
     "metadata": {},
     "output_type": "execute_result"
    }
   ],
   "source": [
    "out_df5.head()"
   ]
  },
  {
   "cell_type": "code",
   "execution_count": 32,
   "metadata": {},
   "outputs": [],
   "source": [
    "out_df5.to_csv (r'Posts.csv', index = None, header=True)"
   ]
  },
  {
   "cell_type": "code",
   "execution_count": 33,
   "metadata": {},
   "outputs": [],
   "source": [
    "import pandas as pd \n",
    "import xml.etree.ElementTree as et \n",
    "\n",
    "xtree = et.parse(\"Tags.xml\")\n",
    "xroot = xtree.getroot() \n",
    "\n",
    "df_cols = [\"Id\", \"TagName\", \"Count\", \"ExcerptPostId\",\"WikiPostId\"]\n",
    "rows = []\n",
    "\n",
    "for node in xroot: \n",
    "    s_Id = node.attrib.get(\"Id\")\n",
    "    s_TagName = node.get(\"TagName\") if node is not None else None\n",
    "    s_Count = node.get(\"Count\") if node is not None else None\n",
    "    s_ExcerptPostId = node.get(\"ExcerptPostId\") if node is not None else None\n",
    "    s_WikiPostId = node.get(\"WikiPostId\") if node is not None else None\n",
    "    s_UserId = node.get(\"UserId\") if node is not None else None\n",
    "#     s_age = node.find(\"age\").ExcerptPostId if node is not None else None\n",
    "    \n",
    "    rows.append({\"Id\": s_Id, \"TagName\": s_TagName, \n",
    "                 \"Count\": s_Count, \"ExcerptPostId\": s_ExcerptPostId, \n",
    "                 \"WikiPostId\": s_WikiPostId})\n",
    "\n",
    "out_df6 = pd.DataFrame(rows, columns = df_cols)"
   ]
  },
  {
   "cell_type": "code",
   "execution_count": 34,
   "metadata": {},
   "outputs": [
    {
     "data": {
      "text/html": [
       "<div>\n",
       "<style scoped>\n",
       "    .dataframe tbody tr th:only-of-type {\n",
       "        vertical-align: middle;\n",
       "    }\n",
       "\n",
       "    .dataframe tbody tr th {\n",
       "        vertical-align: top;\n",
       "    }\n",
       "\n",
       "    .dataframe thead th {\n",
       "        text-align: right;\n",
       "    }\n",
       "</style>\n",
       "<table border=\"1\" class=\"dataframe\">\n",
       "  <thead>\n",
       "    <tr style=\"text-align: right;\">\n",
       "      <th></th>\n",
       "      <th>Id</th>\n",
       "      <th>TagName</th>\n",
       "      <th>Count</th>\n",
       "      <th>ExcerptPostId</th>\n",
       "      <th>WikiPostId</th>\n",
       "    </tr>\n",
       "  </thead>\n",
       "  <tbody>\n",
       "    <tr>\n",
       "      <th>0</th>\n",
       "      <td>1</td>\n",
       "      <td>definitions</td>\n",
       "      <td>26</td>\n",
       "      <td>105</td>\n",
       "      <td>104</td>\n",
       "    </tr>\n",
       "    <tr>\n",
       "      <th>1</th>\n",
       "      <td>2</td>\n",
       "      <td>machine-learning</td>\n",
       "      <td>6024</td>\n",
       "      <td>4909</td>\n",
       "      <td>4908</td>\n",
       "    </tr>\n",
       "    <tr>\n",
       "      <th>2</th>\n",
       "      <td>3</td>\n",
       "      <td>bigdata</td>\n",
       "      <td>390</td>\n",
       "      <td>66</td>\n",
       "      <td>65</td>\n",
       "    </tr>\n",
       "    <tr>\n",
       "      <th>3</th>\n",
       "      <td>5</td>\n",
       "      <td>data-mining</td>\n",
       "      <td>865</td>\n",
       "      <td>80</td>\n",
       "      <td>79</td>\n",
       "    </tr>\n",
       "    <tr>\n",
       "      <th>4</th>\n",
       "      <td>6</td>\n",
       "      <td>databases</td>\n",
       "      <td>70</td>\n",
       "      <td>8960</td>\n",
       "      <td>8959</td>\n",
       "    </tr>\n",
       "  </tbody>\n",
       "</table>\n",
       "</div>"
      ],
      "text/plain": [
       "  Id           TagName Count ExcerptPostId WikiPostId\n",
       "0  1       definitions    26           105        104\n",
       "1  2  machine-learning  6024          4909       4908\n",
       "2  3           bigdata   390            66         65\n",
       "3  5       data-mining   865            80         79\n",
       "4  6         databases    70          8960       8959"
      ]
     },
     "execution_count": 34,
     "metadata": {},
     "output_type": "execute_result"
    }
   ],
   "source": [
    "out_df6.head()"
   ]
  },
  {
   "cell_type": "code",
   "execution_count": 35,
   "metadata": {},
   "outputs": [],
   "source": [
    "out_df6.to_csv (r'Tags.csv', index = None, header=True)"
   ]
  },
  {
   "cell_type": "code",
   "execution_count": 27,
   "metadata": {},
   "outputs": [],
   "source": [
    "import pandas as pd \n",
    "import xml.etree.ElementTree as et \n",
    "\n",
    "xtree = et.parse(\"Users.xml\")\n",
    "xroot = xtree.getroot() \n",
    "\n",
    "df_cols = [\"Id\", \"Reputation\", \"CreationDate\", \"DisplayName\",\"LastAccessDate\",\"WebsiteUrl\",\"Location\",\"AboutMe\",\"Views\",\"UpVotes\",\"DownVotes\",\"AccountId\"]\n",
    "rows = []\n",
    "\n",
    "for node in xroot: \n",
    "    s_Id = node.attrib.get(\"Id\")\n",
    "    s_Reputation = node.get(\"Reputation\") if node is not None else None\n",
    "    s_CreationDate = node.get(\"CreationDate\") if node is not None else None\n",
    "    s_DisplayName = node.get(\"DisplayName\") if node is not None else None\n",
    "    s_LastAccessDate = node.get(\"LastAccessDate\") if node is not None else None\n",
    "    s_WebsiteUrl = node.get(\"WebsiteUrl\") if node is not None else None\n",
    "    s_Location = node.get(\"Location\") if node is not None else None\n",
    "    s_AboutMe = node.get(\"AboutMe\") if node is not None else None\n",
    "    s_Views = node.get(\"Views\") if node is not None else None\n",
    "    s_UpVotes = node.get(\"UpVotes\") if node is not None else None\n",
    "    s_DownVotes = node.get(\"DownVotes\") if node is not None else None\n",
    "    s_AccountId = node.get(\"AccountId\") if node is not None else None\n",
    "#     s_FavoriteCount = node.get(\"FavoriteCount\") if node is not None else None\n",
    "#     s_ClosedDate = node.get(\"ClosedDate\") if node is not None else None\n",
    "#     s_age = node.get(\"age\") if node is not None else None\n",
    "    \n",
    "    rows.append({\"Id\": s_Id, \"Reputation\": s_Reputation, \n",
    "                 \"CreationDate\": s_CreationDate, \"DisplayName\": s_DisplayName, \n",
    "                 \"LastAccessDate\": s_LastAccessDate, \"WebsiteUrl\": s_WebsiteUrl,\"Location\": s_Location,\"AboutMe\": s_AboutMe,\"Views\": s_Views,\"UpVotes\": s_UpVotes,\"DownVotes\": s_DownVotes,\"AccountId\": s_AccountId})\n",
    "\n",
    "out_df7 = pd.DataFrame(rows, columns = df_cols)"
   ]
  },
  {
   "cell_type": "code",
   "execution_count": 28,
   "metadata": {},
   "outputs": [
    {
     "data": {
      "text/html": [
       "<div>\n",
       "<style scoped>\n",
       "    .dataframe tbody tr th:only-of-type {\n",
       "        vertical-align: middle;\n",
       "    }\n",
       "\n",
       "    .dataframe tbody tr th {\n",
       "        vertical-align: top;\n",
       "    }\n",
       "\n",
       "    .dataframe thead th {\n",
       "        text-align: right;\n",
       "    }\n",
       "</style>\n",
       "<table border=\"1\" class=\"dataframe\">\n",
       "  <thead>\n",
       "    <tr style=\"text-align: right;\">\n",
       "      <th></th>\n",
       "      <th>Id</th>\n",
       "      <th>Reputation</th>\n",
       "      <th>CreationDate</th>\n",
       "      <th>DisplayName</th>\n",
       "      <th>LastAccessDate</th>\n",
       "      <th>WebsiteUrl</th>\n",
       "      <th>Location</th>\n",
       "      <th>AboutMe</th>\n",
       "      <th>Views</th>\n",
       "      <th>UpVotes</th>\n",
       "      <th>DownVotes</th>\n",
       "      <th>AccountId</th>\n",
       "    </tr>\n",
       "  </thead>\n",
       "  <tbody>\n",
       "    <tr>\n",
       "      <th>0</th>\n",
       "      <td>-1</td>\n",
       "      <td>1</td>\n",
       "      <td>2014-05-13T21:29:22.820</td>\n",
       "      <td>Community</td>\n",
       "      <td>2014-05-13T21:29:22.820</td>\n",
       "      <td>http://meta.stackexchange.com/</td>\n",
       "      <td>on the server farm</td>\n",
       "      <td>&lt;p&gt;Hi, I'm not really a person.&lt;/p&gt;\\n\\n&lt;p&gt;I'm ...</td>\n",
       "      <td>0</td>\n",
       "      <td>798</td>\n",
       "      <td>1325</td>\n",
       "      <td>-1</td>\n",
       "    </tr>\n",
       "    <tr>\n",
       "      <th>1</th>\n",
       "      <td>1</td>\n",
       "      <td>101</td>\n",
       "      <td>2014-05-13T22:58:54.810</td>\n",
       "      <td>Adam Lear</td>\n",
       "      <td>2019-06-11T19:12:27.157</td>\n",
       "      <td>None</td>\n",
       "      <td>New York, NY</td>\n",
       "      <td>\\n\\n&lt;p&gt;Developer at Stack Overflow focusing on...</td>\n",
       "      <td>453</td>\n",
       "      <td>0</td>\n",
       "      <td>0</td>\n",
       "      <td>37099</td>\n",
       "    </tr>\n",
       "    <tr>\n",
       "      <th>2</th>\n",
       "      <td>2</td>\n",
       "      <td>101</td>\n",
       "      <td>2014-05-13T22:59:19.787</td>\n",
       "      <td>Geoff Dalgas</td>\n",
       "      <td>2017-12-19T18:52:19.423</td>\n",
       "      <td>http://stackoverflow.com</td>\n",
       "      <td>Corvallis, OR</td>\n",
       "      <td>&lt;p&gt;Developer on the Stack Overflow team.  Find...</td>\n",
       "      <td>9</td>\n",
       "      <td>0</td>\n",
       "      <td>0</td>\n",
       "      <td>2</td>\n",
       "    </tr>\n",
       "    <tr>\n",
       "      <th>3</th>\n",
       "      <td>3</td>\n",
       "      <td>101</td>\n",
       "      <td>2014-05-13T23:15:34.483</td>\n",
       "      <td>hichris123</td>\n",
       "      <td>2019-08-01T18:06:24.597</td>\n",
       "      <td>None</td>\n",
       "      <td>None</td>\n",
       "      <td>&lt;p&gt;I'm a student interested in technology.&lt;/p&gt;...</td>\n",
       "      <td>7</td>\n",
       "      <td>1</td>\n",
       "      <td>3</td>\n",
       "      <td>3046327</td>\n",
       "    </tr>\n",
       "    <tr>\n",
       "      <th>4</th>\n",
       "      <td>4</td>\n",
       "      <td>101</td>\n",
       "      <td>2014-05-13T23:16:09.937</td>\n",
       "      <td>Ben Collins</td>\n",
       "      <td>2014-08-04T15:25:54.810</td>\n",
       "      <td>http://benjamincollins.com</td>\n",
       "      <td>Republic of Texas</td>\n",
       "      <td>&lt;p&gt;I work with &lt;a href=\"https://olo.com\" rel=\"...</td>\n",
       "      <td>9</td>\n",
       "      <td>0</td>\n",
       "      <td>0</td>\n",
       "      <td>2365</td>\n",
       "    </tr>\n",
       "  </tbody>\n",
       "</table>\n",
       "</div>"
      ],
      "text/plain": [
       "   Id Reputation             CreationDate   DisplayName  \\\n",
       "0  -1          1  2014-05-13T21:29:22.820     Community   \n",
       "1   1        101  2014-05-13T22:58:54.810     Adam Lear   \n",
       "2   2        101  2014-05-13T22:59:19.787  Geoff Dalgas   \n",
       "3   3        101  2014-05-13T23:15:34.483    hichris123   \n",
       "4   4        101  2014-05-13T23:16:09.937   Ben Collins   \n",
       "\n",
       "            LastAccessDate                      WebsiteUrl  \\\n",
       "0  2014-05-13T21:29:22.820  http://meta.stackexchange.com/   \n",
       "1  2019-06-11T19:12:27.157                            None   \n",
       "2  2017-12-19T18:52:19.423        http://stackoverflow.com   \n",
       "3  2019-08-01T18:06:24.597                            None   \n",
       "4  2014-08-04T15:25:54.810      http://benjamincollins.com   \n",
       "\n",
       "             Location                                            AboutMe  \\\n",
       "0  on the server farm  <p>Hi, I'm not really a person.</p>\\n\\n<p>I'm ...   \n",
       "1        New York, NY  \\n\\n<p>Developer at Stack Overflow focusing on...   \n",
       "2       Corvallis, OR  <p>Developer on the Stack Overflow team.  Find...   \n",
       "3                None  <p>I'm a student interested in technology.</p>...   \n",
       "4   Republic of Texas  <p>I work with <a href=\"https://olo.com\" rel=\"...   \n",
       "\n",
       "  Views UpVotes DownVotes AccountId  \n",
       "0     0     798      1325        -1  \n",
       "1   453       0         0     37099  \n",
       "2     9       0         0         2  \n",
       "3     7       1         3   3046327  \n",
       "4     9       0         0      2365  "
      ]
     },
     "execution_count": 28,
     "metadata": {},
     "output_type": "execute_result"
    }
   ],
   "source": [
    "out_df7.head()"
   ]
  },
  {
   "cell_type": "code",
   "execution_count": 29,
   "metadata": {},
   "outputs": [],
   "source": [
    "out_df7.to_csv (r'Users.csv', index = None, header=True)"
   ]
  },
  {
   "cell_type": "code",
   "execution_count": 39,
   "metadata": {},
   "outputs": [],
   "source": [
    "import pandas as pd \n",
    "import xml.etree.ElementTree as et \n",
    "\n",
    "xtree = et.parse(\"Votes.xml\")\n",
    "xroot = xtree.getroot() \n",
    "\n",
    "df_cols = [\"Id\", \"PostId\", \"VoteTypeId\", \"CreationDate\"]\n",
    "rows = []\n",
    "\n",
    "for node in xroot: \n",
    "    s_Id = node.attrib.get(\"Id\")\n",
    "    s_PostId = node.get(\"PostId\") if node is not None else None\n",
    "    s_VoteTypeId = node.get(\"VoteTypeId\") if node is not None else None\n",
    "    s_CreationDate = node.get(\"CreationDate\") if node is not None else None\n",
    "#     s_Class = node.get(\"Class\") if node is not None else None\n",
    "#     s_TagBased = node.get(\"TagBased\") if node is not None else None\n",
    "#     s_age = node.find(\"age\").text if node is not None else None\n",
    "    \n",
    "    rows.append({\"Id\": s_Id, \"PostId\": s_PostId, \n",
    "                 \"VoteTypeId\": s_VoteTypeId, \"CreationDate\": s_CreationDate})\n",
    "\n",
    "out_df8 = pd.DataFrame(rows, columns = df_cols)"
   ]
  },
  {
   "cell_type": "code",
   "execution_count": 40,
   "metadata": {},
   "outputs": [
    {
     "data": {
      "text/html": [
       "<div>\n",
       "<style scoped>\n",
       "    .dataframe tbody tr th:only-of-type {\n",
       "        vertical-align: middle;\n",
       "    }\n",
       "\n",
       "    .dataframe tbody tr th {\n",
       "        vertical-align: top;\n",
       "    }\n",
       "\n",
       "    .dataframe thead th {\n",
       "        text-align: right;\n",
       "    }\n",
       "</style>\n",
       "<table border=\"1\" class=\"dataframe\">\n",
       "  <thead>\n",
       "    <tr style=\"text-align: right;\">\n",
       "      <th></th>\n",
       "      <th>Id</th>\n",
       "      <th>PostId</th>\n",
       "      <th>VoteTypeId</th>\n",
       "      <th>CreationDate</th>\n",
       "    </tr>\n",
       "  </thead>\n",
       "  <tbody>\n",
       "    <tr>\n",
       "      <th>0</th>\n",
       "      <td>1</td>\n",
       "      <td>1</td>\n",
       "      <td>2</td>\n",
       "      <td>2014-05-13T00:00:00.000</td>\n",
       "    </tr>\n",
       "    <tr>\n",
       "      <th>1</th>\n",
       "      <td>2</td>\n",
       "      <td>1</td>\n",
       "      <td>2</td>\n",
       "      <td>2014-05-13T00:00:00.000</td>\n",
       "    </tr>\n",
       "    <tr>\n",
       "      <th>2</th>\n",
       "      <td>3</td>\n",
       "      <td>3</td>\n",
       "      <td>2</td>\n",
       "      <td>2014-05-13T00:00:00.000</td>\n",
       "    </tr>\n",
       "    <tr>\n",
       "      <th>3</th>\n",
       "      <td>5</td>\n",
       "      <td>3</td>\n",
       "      <td>2</td>\n",
       "      <td>2014-05-13T00:00:00.000</td>\n",
       "    </tr>\n",
       "    <tr>\n",
       "      <th>4</th>\n",
       "      <td>6</td>\n",
       "      <td>1</td>\n",
       "      <td>2</td>\n",
       "      <td>2014-05-13T00:00:00.000</td>\n",
       "    </tr>\n",
       "  </tbody>\n",
       "</table>\n",
       "</div>"
      ],
      "text/plain": [
       "  Id PostId VoteTypeId             CreationDate\n",
       "0  1      1          2  2014-05-13T00:00:00.000\n",
       "1  2      1          2  2014-05-13T00:00:00.000\n",
       "2  3      3          2  2014-05-13T00:00:00.000\n",
       "3  5      3          2  2014-05-13T00:00:00.000\n",
       "4  6      1          2  2014-05-13T00:00:00.000"
      ]
     },
     "execution_count": 40,
     "metadata": {},
     "output_type": "execute_result"
    }
   ],
   "source": [
    "out_df8.head()"
   ]
  },
  {
   "cell_type": "code",
   "execution_count": 41,
   "metadata": {},
   "outputs": [],
   "source": [
    "out_df8.to_csv (r'Votes.csv', index = None, header=True)"
   ]
  },
  {
   "cell_type": "code",
   "execution_count": 1,
   "metadata": {},
   "outputs": [],
   "source": [
    "import pandas as pd "
   ]
  },
  {
   "cell_type": "code",
   "execution_count": 3,
   "metadata": {},
   "outputs": [],
   "source": [
    "df = pd.read_csv('Votes.csv')"
   ]
  },
  {
   "cell_type": "code",
   "execution_count": null,
   "metadata": {},
   "outputs": [],
   "source": [
    "df.head(2)"
   ]
  },
  {
   "cell_type": "code",
   "execution_count": 25,
   "metadata": {},
   "outputs": [],
   "source": [
    "df = pd.read_csv('Badges.csv')"
   ]
  },
  {
   "cell_type": "code",
   "execution_count": 5,
   "metadata": {},
   "outputs": [
    {
     "data": {
      "text/html": [
       "<div>\n",
       "<style scoped>\n",
       "    .dataframe tbody tr th:only-of-type {\n",
       "        vertical-align: middle;\n",
       "    }\n",
       "\n",
       "    .dataframe tbody tr th {\n",
       "        vertical-align: top;\n",
       "    }\n",
       "\n",
       "    .dataframe thead th {\n",
       "        text-align: right;\n",
       "    }\n",
       "</style>\n",
       "<table border=\"1\" class=\"dataframe\">\n",
       "  <thead>\n",
       "    <tr style=\"text-align: right;\">\n",
       "      <th></th>\n",
       "      <th>Id</th>\n",
       "      <th>PostTypeId</th>\n",
       "      <th>CreationDate</th>\n",
       "      <th>Score</th>\n",
       "      <th>ViewCount</th>\n",
       "      <th>Body</th>\n",
       "      <th>OwnerUserId</th>\n",
       "      <th>LastActivityDate</th>\n",
       "      <th>Title</th>\n",
       "      <th>Tags</th>\n",
       "      <th>AnswerCount</th>\n",
       "      <th>CommentCount</th>\n",
       "      <th>FavoriteCount</th>\n",
       "      <th>ClosedDate</th>\n",
       "    </tr>\n",
       "  </thead>\n",
       "  <tbody>\n",
       "    <tr>\n",
       "      <th>0</th>\n",
       "      <td>5</td>\n",
       "      <td>1</td>\n",
       "      <td>2014-05-13T23:58:30.457</td>\n",
       "      <td>8</td>\n",
       "      <td>604.0</td>\n",
       "      <td>&lt;p&gt;I've always been interested in machine lear...</td>\n",
       "      <td>5.0</td>\n",
       "      <td>2014-05-14T00:36:31.077</td>\n",
       "      <td>How can I do simple machine learning without h...</td>\n",
       "      <td>&lt;machine-learning&gt;</td>\n",
       "      <td>1.0</td>\n",
       "      <td>1</td>\n",
       "      <td>1.0</td>\n",
       "      <td>2014-05-14T14:40:25.950</td>\n",
       "    </tr>\n",
       "    <tr>\n",
       "      <th>1</th>\n",
       "      <td>7</td>\n",
       "      <td>1</td>\n",
       "      <td>2014-05-14T00:11:06.457</td>\n",
       "      <td>4</td>\n",
       "      <td>426.0</td>\n",
       "      <td>&lt;p&gt;As a researcher and instructor, I'm looking...</td>\n",
       "      <td>36.0</td>\n",
       "      <td>2014-05-16T13:45:00.237</td>\n",
       "      <td>What open-source books (or other materials) pr...</td>\n",
       "      <td>&lt;education&gt;&lt;open-source&gt;</td>\n",
       "      <td>3.0</td>\n",
       "      <td>4</td>\n",
       "      <td>1.0</td>\n",
       "      <td>2014-05-14T08:40:54.950</td>\n",
       "    </tr>\n",
       "  </tbody>\n",
       "</table>\n",
       "</div>"
      ],
      "text/plain": [
       "   Id  PostTypeId             CreationDate  Score  ViewCount  \\\n",
       "0   5           1  2014-05-13T23:58:30.457      8      604.0   \n",
       "1   7           1  2014-05-14T00:11:06.457      4      426.0   \n",
       "\n",
       "                                                Body  OwnerUserId  \\\n",
       "0  <p>I've always been interested in machine lear...          5.0   \n",
       "1  <p>As a researcher and instructor, I'm looking...         36.0   \n",
       "\n",
       "          LastActivityDate                                              Title  \\\n",
       "0  2014-05-14T00:36:31.077  How can I do simple machine learning without h...   \n",
       "1  2014-05-16T13:45:00.237  What open-source books (or other materials) pr...   \n",
       "\n",
       "                       Tags  AnswerCount  CommentCount  FavoriteCount  \\\n",
       "0        <machine-learning>          1.0             1            1.0   \n",
       "1  <education><open-source>          3.0             4            1.0   \n",
       "\n",
       "                ClosedDate  \n",
       "0  2014-05-14T14:40:25.950  \n",
       "1  2014-05-14T08:40:54.950  "
      ]
     },
     "execution_count": 5,
     "metadata": {},
     "output_type": "execute_result"
    }
   ],
   "source": [
    "df.head(2)"
   ]
  },
  {
   "cell_type": "code",
   "execution_count": 7,
   "metadata": {},
   "outputs": [],
   "source": [
    "df = pd.read_csv('Comments.csv')"
   ]
  },
  {
   "cell_type": "code",
   "execution_count": 42,
   "metadata": {},
   "outputs": [],
   "source": [
    "df = pd.read_csv('PostHistory.csv')"
   ]
  },
  {
   "cell_type": "code",
   "execution_count": 2,
   "metadata": {},
   "outputs": [],
   "source": [
    "df = pd.read_csv('PostLinks.csv')"
   ]
  },
  {
   "cell_type": "code",
   "execution_count": 4,
   "metadata": {},
   "outputs": [],
   "source": [
    "df = pd.read_csv('Posts.csv')"
   ]
  },
  {
   "cell_type": "code",
   "execution_count": null,
   "metadata": {},
   "outputs": [],
   "source": [
    "df.head(200)"
   ]
  },
  {
   "cell_type": "code",
   "execution_count": 34,
   "metadata": {},
   "outputs": [],
   "source": [
    "df = pd.read_csv('Tags.csv')"
   ]
  },
  {
   "cell_type": "code",
   "execution_count": 35,
   "metadata": {},
   "outputs": [
    {
     "data": {
      "text/html": [
       "<div>\n",
       "<style scoped>\n",
       "    .dataframe tbody tr th:only-of-type {\n",
       "        vertical-align: middle;\n",
       "    }\n",
       "\n",
       "    .dataframe tbody tr th {\n",
       "        vertical-align: top;\n",
       "    }\n",
       "\n",
       "    .dataframe thead th {\n",
       "        text-align: right;\n",
       "    }\n",
       "</style>\n",
       "<table border=\"1\" class=\"dataframe\">\n",
       "  <thead>\n",
       "    <tr style=\"text-align: right;\">\n",
       "      <th></th>\n",
       "      <th>Id</th>\n",
       "      <th>TagName</th>\n",
       "      <th>Count</th>\n",
       "      <th>ExcerptPostId</th>\n",
       "      <th>WikiPostId</th>\n",
       "    </tr>\n",
       "  </thead>\n",
       "  <tbody>\n",
       "    <tr>\n",
       "      <th>0</th>\n",
       "      <td>1</td>\n",
       "      <td>definitions</td>\n",
       "      <td>26</td>\n",
       "      <td>105.0</td>\n",
       "      <td>104.0</td>\n",
       "    </tr>\n",
       "    <tr>\n",
       "      <th>1</th>\n",
       "      <td>2</td>\n",
       "      <td>machine-learning</td>\n",
       "      <td>6024</td>\n",
       "      <td>4909.0</td>\n",
       "      <td>4908.0</td>\n",
       "    </tr>\n",
       "  </tbody>\n",
       "</table>\n",
       "</div>"
      ],
      "text/plain": [
       "   Id           TagName  Count  ExcerptPostId  WikiPostId\n",
       "0   1       definitions     26          105.0       104.0\n",
       "1   2  machine-learning   6024         4909.0      4908.0"
      ]
     },
     "execution_count": 35,
     "metadata": {},
     "output_type": "execute_result"
    }
   ],
   "source": [
    "df.head(2)"
   ]
  },
  {
   "cell_type": "code",
   "execution_count": 20,
   "metadata": {},
   "outputs": [],
   "source": [
    "df = pd.read_csv('Votes.csv')"
   ]
  },
  {
   "cell_type": "code",
   "execution_count": 36,
   "metadata": {},
   "outputs": [],
   "source": [
    "df = pd.read_csv('Users.csv')"
   ]
  },
  {
   "cell_type": "code",
   "execution_count": 37,
   "metadata": {},
   "outputs": [
    {
     "data": {
      "text/html": [
       "<div>\n",
       "<style scoped>\n",
       "    .dataframe tbody tr th:only-of-type {\n",
       "        vertical-align: middle;\n",
       "    }\n",
       "\n",
       "    .dataframe tbody tr th {\n",
       "        vertical-align: top;\n",
       "    }\n",
       "\n",
       "    .dataframe thead th {\n",
       "        text-align: right;\n",
       "    }\n",
       "</style>\n",
       "<table border=\"1\" class=\"dataframe\">\n",
       "  <thead>\n",
       "    <tr style=\"text-align: right;\">\n",
       "      <th></th>\n",
       "      <th>Id</th>\n",
       "      <th>Reputation</th>\n",
       "      <th>CreationDate</th>\n",
       "      <th>DisplayName</th>\n",
       "      <th>LastAccessDate</th>\n",
       "      <th>WebsiteUrl</th>\n",
       "      <th>Location</th>\n",
       "      <th>AboutMe</th>\n",
       "      <th>Views</th>\n",
       "      <th>UpVotes</th>\n",
       "      <th>DownVotes</th>\n",
       "      <th>AccountId</th>\n",
       "    </tr>\n",
       "  </thead>\n",
       "  <tbody>\n",
       "    <tr>\n",
       "      <th>0</th>\n",
       "      <td>-1</td>\n",
       "      <td>1</td>\n",
       "      <td>2014-05-13T21:29:22.820</td>\n",
       "      <td>Community</td>\n",
       "      <td>2014-05-13T21:29:22.820</td>\n",
       "      <td>http://meta.stackexchange.com/</td>\n",
       "      <td>on the server farm</td>\n",
       "      <td>&lt;p&gt;Hi, I'm not really a person.&lt;/p&gt;\\n\\n&lt;p&gt;I'm ...</td>\n",
       "      <td>0</td>\n",
       "      <td>798</td>\n",
       "      <td>1325</td>\n",
       "      <td>-1.0</td>\n",
       "    </tr>\n",
       "    <tr>\n",
       "      <th>1</th>\n",
       "      <td>1</td>\n",
       "      <td>101</td>\n",
       "      <td>2014-05-13T22:58:54.810</td>\n",
       "      <td>Adam Lear</td>\n",
       "      <td>2019-06-11T19:12:27.157</td>\n",
       "      <td>NaN</td>\n",
       "      <td>New York, NY</td>\n",
       "      <td>\\n\\n&lt;p&gt;Developer at Stack Overflow focusing on...</td>\n",
       "      <td>453</td>\n",
       "      <td>0</td>\n",
       "      <td>0</td>\n",
       "      <td>37099.0</td>\n",
       "    </tr>\n",
       "    <tr>\n",
       "      <th>2</th>\n",
       "      <td>2</td>\n",
       "      <td>101</td>\n",
       "      <td>2014-05-13T22:59:19.787</td>\n",
       "      <td>Geoff Dalgas</td>\n",
       "      <td>2017-12-19T18:52:19.423</td>\n",
       "      <td>http://stackoverflow.com</td>\n",
       "      <td>Corvallis, OR</td>\n",
       "      <td>&lt;p&gt;Developer on the Stack Overflow team.  Find...</td>\n",
       "      <td>9</td>\n",
       "      <td>0</td>\n",
       "      <td>0</td>\n",
       "      <td>2.0</td>\n",
       "    </tr>\n",
       "  </tbody>\n",
       "</table>\n",
       "</div>"
      ],
      "text/plain": [
       "   Id  Reputation             CreationDate   DisplayName  \\\n",
       "0  -1           1  2014-05-13T21:29:22.820     Community   \n",
       "1   1         101  2014-05-13T22:58:54.810     Adam Lear   \n",
       "2   2         101  2014-05-13T22:59:19.787  Geoff Dalgas   \n",
       "\n",
       "            LastAccessDate                      WebsiteUrl  \\\n",
       "0  2014-05-13T21:29:22.820  http://meta.stackexchange.com/   \n",
       "1  2019-06-11T19:12:27.157                             NaN   \n",
       "2  2017-12-19T18:52:19.423        http://stackoverflow.com   \n",
       "\n",
       "             Location                                            AboutMe  \\\n",
       "0  on the server farm  <p>Hi, I'm not really a person.</p>\\n\\n<p>I'm ...   \n",
       "1        New York, NY  \\n\\n<p>Developer at Stack Overflow focusing on...   \n",
       "2       Corvallis, OR  <p>Developer on the Stack Overflow team.  Find...   \n",
       "\n",
       "   Views  UpVotes  DownVotes  AccountId  \n",
       "0      0      798       1325       -1.0  \n",
       "1    453        0          0    37099.0  \n",
       "2      9        0          0        2.0  "
      ]
     },
     "execution_count": 37,
     "metadata": {},
     "output_type": "execute_result"
    }
   ],
   "source": [
    "df.head(3)"
   ]
  },
  {
   "cell_type": "code",
   "execution_count": 1,
   "metadata": {},
   "outputs": [],
   "source": [
    "d1 = \"plot: two teen couples go to a church party, drink and then drive.\"\n",
    "d2 = \"films adapted from comic books have had plenty of success , whether they're about superheroes ( batman , superman , spawn ) , or geared toward kids ( casper ) or the arthouse crowd ( ghost world ) , but there's never really been a comic book like from hell before . \"\n",
    "d3 = \"every now and then a movie comes along from a suspect studio , with every indication that it will be a stinker , and to everybody's surprise ( perhaps even the studio ) the film becomes a critical darling . \"\n",
    "d4 = \"damn that y2k bug . \"\n",
    "documents = [d1, d2, d3, d4]"
   ]
  },
  {
   "cell_type": "code",
   "execution_count": 4,
   "metadata": {},
   "outputs": [
    {
     "data": {
      "text/plain": [
       "['plot: two teen couples go to a church party, drink and then drive.',\n",
       " \"films adapted from comic books have had plenty of success , whether they're about superheroes ( batman , superman , spawn ) , or geared toward kids ( casper ) or the arthouse crowd ( ghost world ) , but there's never really been a comic book like from hell before . \",\n",
       " \"every now and then a movie comes along from a suspect studio , with every indication that it will be a stinker , and to everybody's surprise ( perhaps even the studio ) the film becomes a critical darling . \",\n",
       " 'damn that y2k bug . ']"
      ]
     },
     "execution_count": 4,
     "metadata": {},
     "output_type": "execute_result"
    }
   ],
   "source": [
    "documents"
   ]
  },
  {
   "cell_type": "code",
   "execution_count": 5,
   "metadata": {},
   "outputs": [],
   "source": [
    "import nltk, string, numpy\n",
    "# nltk.download('punkt') # first-time use only\n",
    "stemmer = nltk.stem.porter.PorterStemmer()\n",
    "def StemTokens(tokens):\n",
    "    return [stemmer.stem(token) for token in tokens]\n",
    "remove_punct_dict = dict((ord(punct), None) for punct in string.punctuation)\n",
    "def StemNormalize(text):\n",
    "    return StemTokens(nltk.word_tokenize(text.lower().translate(remove_punct_dict)))"
   ]
  },
  {
   "cell_type": "code",
   "execution_count": 9,
   "metadata": {},
   "outputs": [],
   "source": [
    "# nltk.download('wordnet') # first-time use only\n",
    "lemmer = nltk.stem.WordNetLemmatizer()\n",
    "def LemTokens(tokens):\n",
    "    return [lemmer.lemmatize(token) for token in tokens]\n",
    "remove_punct_dict = dict((ord(punct), None) for punct in string.punctuation)\n",
    "def LemNormalize(text):\n",
    "    return LemTokens(nltk.word_tokenize(text.lower().translate(remove_punct_dict)))"
   ]
  },
  {
   "cell_type": "code",
   "execution_count": 10,
   "metadata": {},
   "outputs": [
    {
     "name": "stderr",
     "output_type": "stream",
     "text": [
      "C:\\Users\\nikita\\Anaconda3\\lib\\site-packages\\sklearn\\feature_extraction\\text.py:300: UserWarning: Your stop_words may be inconsistent with your preprocessing. Tokenizing the stop words generated tokens ['ha', 'le', 'u', 'wa'] not in stop_words.\n",
      "  'stop_words.' % sorted(inconsistent))\n"
     ]
    },
    {
     "data": {
      "text/plain": [
       "<4x41 sparse matrix of type '<class 'numpy.int64'>'\n",
       "\twith 42 stored elements in Compressed Sparse Row format>"
      ]
     },
     "execution_count": 10,
     "metadata": {},
     "output_type": "execute_result"
    }
   ],
   "source": [
    "from sklearn.feature_extraction.text import CountVectorizer\n",
    "LemVectorizer = CountVectorizer(tokenizer=LemNormalize, stop_words='english')\n",
    "LemVectorizer.fit_transform(documents)"
   ]
  },
  {
   "cell_type": "code",
   "execution_count": 14,
   "metadata": {},
   "outputs": [
    {
     "name": "stdout",
     "output_type": "stream",
     "text": [
      "{'plot': 27, 'teen': 37, 'couple': 9, 'church': 6, 'party': 25, 'drink': 14, 'drive': 15, 'film': 17, 'adapted': 0, 'comic': 8, 'book': 3, 'plenty': 26, 'success': 32, 'theyre': 38, 'superheroes': 33, 'batman': 2, 'superman': 34, 'spawn': 29, 'geared': 18, 'kid': 22, 'casper': 5, 'arthouse': 1, 'crowd': 11, 'ghost': 19, 'world': 39, 'really': 28, 'like': 23, 'hell': 20, 'movie': 24, 'come': 7, 'suspect': 36, 'studio': 31, 'indication': 21, 'stinker': 30, 'everybodys': 16, 'surprise': 35, 'critical': 10, 'darling': 13, 'damn': 12, 'y2k': 40, 'bug': 4}\n"
     ]
    }
   ],
   "source": [
    "print(LemVectorizer.vocabulary_)"
   ]
  },
  {
   "cell_type": "code",
   "execution_count": 23,
   "metadata": {},
   "outputs": [
    {
     "data": {
      "text/plain": [
       "['plot: two teen couples go to a church party, drink and then drive.',\n",
       " \"films adapted from comic books have had plenty of success , whether they're about superheroes ( batman , superman , spawn ) , or geared toward kids ( casper ) or the arthouse crowd ( ghost world ) , but there's never really been a comic book like from hell before . \",\n",
       " \"every now and then a movie comes along from a suspect studio , with every indication that it will be a stinker , and to everybody's surprise ( perhaps even the studio ) the film becomes a critical darling . \",\n",
       " 'damn that y2k bug . ']"
      ]
     },
     "execution_count": 23,
     "metadata": {},
     "output_type": "execute_result"
    }
   ],
   "source": [
    "documents"
   ]
  },
  {
   "cell_type": "code",
   "execution_count": 16,
   "metadata": {},
   "outputs": [
    {
     "name": "stdout",
     "output_type": "stream",
     "text": [
      "[[0 0 0 0 0 0 1 0 0 1 0 0 0 0 1 1 0 0 0 0 0 0 0 0 0 1 0 1 0 0 0 0 0 0 0 0\n",
      "  0 1 0 0 0]\n",
      " [1 1 1 2 0 1 0 0 2 0 0 1 0 0 0 0 0 1 1 1 1 0 1 1 0 0 1 0 1 1 0 0 1 1 1 0\n",
      "  0 0 1 1 0]\n",
      " [0 0 0 0 0 0 0 1 0 0 1 0 0 1 0 0 1 1 0 0 0 1 0 0 1 0 0 0 0 0 1 2 0 0 0 1\n",
      "  1 0 0 0 0]\n",
      " [0 0 0 0 1 0 0 0 0 0 0 0 1 0 0 0 0 0 0 0 0 0 0 0 0 0 0 0 0 0 0 0 0 0 0 0\n",
      "  0 0 0 0 1]]\n"
     ]
    }
   ],
   "source": [
    "tf_matrix = LemVectorizer.transform(documents).toarray()\n",
    "print(tf_matrix)"
   ]
  },
  {
   "cell_type": "code",
   "execution_count": 18,
   "metadata": {},
   "outputs": [
    {
     "name": "stdout",
     "output_type": "stream",
     "text": [
      "[1.91629073 1.91629073 1.91629073 1.91629073 1.91629073 1.91629073\n",
      " 1.91629073 1.91629073 1.91629073 1.91629073 1.91629073 1.91629073\n",
      " 1.91629073 1.91629073 1.91629073 1.91629073 1.91629073 1.51082562\n",
      " 1.91629073 1.91629073 1.91629073 1.91629073 1.91629073 1.91629073\n",
      " 1.91629073 1.91629073 1.91629073 1.91629073 1.91629073 1.91629073\n",
      " 1.91629073 1.91629073 1.91629073 1.91629073 1.91629073 1.91629073\n",
      " 1.91629073 1.91629073 1.91629073 1.91629073 1.91629073]\n"
     ]
    }
   ],
   "source": [
    "from sklearn.feature_extraction.text import TfidfTransformer\n",
    "tfidfTran = TfidfTransformer(norm=\"l2\")\n",
    "tfidfTran.fit(tf_matrix)\n",
    "print(tfidfTran.idf_)"
   ]
  },
  {
   "cell_type": "code",
   "execution_count": 19,
   "metadata": {},
   "outputs": [
    {
     "name": "stdout",
     "output_type": "stream",
     "text": [
      "The idf for terms that appear in one document: 1.916290731874155\n",
      "The idf for terms that appear in two documents: 1.5108256237659907\n"
     ]
    }
   ],
   "source": [
    "import math\n",
    "def idf(n,df):\n",
    "    result = math.log((n+1.0)/(df+1.0)) + 1\n",
    "    return result\n",
    "print(\"The idf for terms that appear in one document: \" + str(idf(4,1)))\n",
    "print(\"The idf for terms that appear in two documents: \" + str(idf(4,2)))"
   ]
  },
  {
   "cell_type": "code",
   "execution_count": 20,
   "metadata": {},
   "outputs": [
    {
     "name": "stdout",
     "output_type": "stream",
     "text": [
      "[[0.         0.         0.         0.         0.         0.\n",
      "  0.37796447 0.         0.         0.37796447 0.         0.\n",
      "  0.         0.         0.37796447 0.37796447 0.         0.\n",
      "  0.         0.         0.         0.         0.         0.\n",
      "  0.         0.37796447 0.         0.37796447 0.         0.\n",
      "  0.         0.         0.         0.         0.         0.\n",
      "  0.         0.37796447 0.         0.         0.        ]\n",
      " [0.19381304 0.19381304 0.19381304 0.38762607 0.         0.19381304\n",
      "  0.         0.         0.38762607 0.         0.         0.19381304\n",
      "  0.         0.         0.         0.         0.         0.15280442\n",
      "  0.19381304 0.19381304 0.19381304 0.         0.19381304 0.19381304\n",
      "  0.         0.         0.19381304 0.         0.19381304 0.19381304\n",
      "  0.         0.         0.19381304 0.19381304 0.19381304 0.\n",
      "  0.         0.         0.19381304 0.19381304 0.        ]\n",
      " [0.         0.         0.         0.         0.         0.\n",
      "  0.         0.27094807 0.         0.         0.27094807 0.\n",
      "  0.         0.27094807 0.         0.         0.27094807 0.21361857\n",
      "  0.         0.         0.         0.27094807 0.         0.\n",
      "  0.27094807 0.         0.         0.         0.         0.\n",
      "  0.27094807 0.54189613 0.         0.         0.         0.27094807\n",
      "  0.27094807 0.         0.         0.         0.        ]\n",
      " [0.         0.         0.         0.         0.57735027 0.\n",
      "  0.         0.         0.         0.         0.         0.\n",
      "  0.57735027 0.         0.         0.         0.         0.\n",
      "  0.         0.         0.         0.         0.         0.\n",
      "  0.         0.         0.         0.         0.         0.\n",
      "  0.         0.         0.         0.         0.         0.\n",
      "  0.         0.         0.         0.         0.57735027]]\n"
     ]
    }
   ],
   "source": [
    "tfidf_matrix = tfidfTran.transform(tf_matrix)\n",
    "print(tfidf_matrix.toarray())"
   ]
  },
  {
   "cell_type": "code",
   "execution_count": 43,
   "metadata": {},
   "outputs": [
    {
     "data": {
      "text/plain": [
       "<1x41 sparse matrix of type '<class 'numpy.float64'>'\n",
       "\twith 21 stored elements in Compressed Sparse Row format>"
      ]
     },
     "execution_count": 43,
     "metadata": {},
     "output_type": "execute_result"
    }
   ],
   "source": [
    "tfidf_matrix.shape\n",
    "# tfidf_matrix.T.shape\n",
    "tfidf_matrix[1]"
   ]
  },
  {
   "cell_type": "code",
   "execution_count": 22,
   "metadata": {},
   "outputs": [
    {
     "name": "stdout",
     "output_type": "stream",
     "text": [
      "[[1.         0.         0.         0.        ]\n",
      " [0.         1.         0.03264186 0.        ]\n",
      " [0.         0.03264186 1.         0.        ]\n",
      " [0.         0.         0.         1.        ]]\n"
     ]
    }
   ],
   "source": [
    "cos_similarity_matrix = (tfidf_matrix * tfidf_matrix.T).toarray()\n",
    "print(cos_similarity_matrix)"
   ]
  },
  {
   "cell_type": "code",
   "execution_count": 29,
   "metadata": {},
   "outputs": [],
   "source": [
    "import numpy as np"
   ]
  },
  {
   "cell_type": "code",
   "execution_count": 65,
   "metadata": {},
   "outputs": [],
   "source": [
    "# tfidf_matrix1 = []\n",
    "tfidf_matrix1 = np.zeros((10531, 489))"
   ]
  },
  {
   "cell_type": "code",
   "execution_count": 66,
   "metadata": {},
   "outputs": [
    {
     "data": {
      "text/plain": [
       "scipy.sparse.csr.csr_matrix"
      ]
     },
     "execution_count": 66,
     "metadata": {},
     "output_type": "execute_result"
    }
   ],
   "source": [
    "type(tfidf_matrix)"
   ]
  },
  {
   "cell_type": "code",
   "execution_count": 68,
   "metadata": {},
   "outputs": [
    {
     "name": "stdout",
     "output_type": "stream",
     "text": [
      "[[0. 0. 0. ... 0. 0. 0.]\n",
      " [0. 0. 0. ... 0. 0. 0.]\n",
      " [0. 0. 0. ... 0. 0. 0.]\n",
      " ...\n",
      " [0. 0. 0. ... 0. 0. 0.]\n",
      " [0. 0. 0. ... 0. 0. 0.]\n",
      " [0. 0. 0. ... 0. 0. 0.]]\n"
     ]
    }
   ],
   "source": [
    "cos_similarity_matrix = (tfidf_matrix1.dot(tfidf_matrix1.T))\n",
    "print(cos_similarity_matrix)"
   ]
  },
  {
   "cell_type": "code",
   "execution_count": 69,
   "metadata": {},
   "outputs": [
    {
     "data": {
      "text/plain": [
       "(10531, 10531)"
      ]
     },
     "execution_count": 69,
     "metadata": {},
     "output_type": "execute_result"
    }
   ],
   "source": [
    "cos_similarity_matrix.shape"
   ]
  },
  {
   "cell_type": "code",
   "execution_count": null,
   "metadata": {},
   "outputs": [],
   "source": []
  }
 ],
 "metadata": {
  "kernelspec": {
   "display_name": "Python 3",
   "language": "python",
   "name": "python3"
  },
  "language_info": {
   "codemirror_mode": {
    "name": "ipython",
    "version": 3
   },
   "file_extension": ".py",
   "mimetype": "text/x-python",
   "name": "python",
   "nbconvert_exporter": "python",
   "pygments_lexer": "ipython3",
   "version": "3.7.3"
  }
 },
 "nbformat": 4,
 "nbformat_minor": 4
}
