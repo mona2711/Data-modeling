{
 "cells": [
  {
   "cell_type": "code",
   "execution_count": 1,
   "metadata": {},
   "outputs": [],
   "source": [
    "import pandas as pd "
   ]
  },
  {
   "cell_type": "code",
   "execution_count": 2,
   "metadata": {},
   "outputs": [],
   "source": [
    "users = pd.read_csv('Users.csv',usecols=['Id','DisplayName'])\n",
    "posts = pd.read_csv('Posts.csv',usecols=['Id','Title'])\n",
    "SimUsers = pd.read_csv('SimUsers_AbtMe_TAG.csv')"
   ]
  },
  {
   "cell_type": "code",
   "execution_count": null,
   "metadata": {},
   "outputs": [],
   "source": []
  },
  {
   "cell_type": "code",
   "execution_count": 3,
   "metadata": {},
   "outputs": [],
   "source": [
    "users = users.set_index('Id')\n",
    "posts = posts.set_index('Id')"
   ]
  },
  {
   "cell_type": "code",
   "execution_count": null,
   "metadata": {},
   "outputs": [],
   "source": []
  },
  {
   "cell_type": "code",
   "execution_count": 4,
   "metadata": {},
   "outputs": [
    {
     "data": {
      "text/html": [
       "<div>\n",
       "<style scoped>\n",
       "    .dataframe tbody tr th:only-of-type {\n",
       "        vertical-align: middle;\n",
       "    }\n",
       "\n",
       "    .dataframe tbody tr th {\n",
       "        vertical-align: top;\n",
       "    }\n",
       "\n",
       "    .dataframe thead th {\n",
       "        text-align: right;\n",
       "    }\n",
       "</style>\n",
       "<table border=\"1\" class=\"dataframe\">\n",
       "  <thead>\n",
       "    <tr style=\"text-align: right;\">\n",
       "      <th></th>\n",
       "      <th>User1_id</th>\n",
       "      <th>User1_post</th>\n",
       "      <th>user2_id</th>\n",
       "      <th>User2_post</th>\n",
       "    </tr>\n",
       "  </thead>\n",
       "  <tbody>\n",
       "    <tr>\n",
       "      <th>0</th>\n",
       "      <td>75</td>\n",
       "      <td>[5933]</td>\n",
       "      <td>33176</td>\n",
       "      <td>[19546]</td>\n",
       "    </tr>\n",
       "    <tr>\n",
       "      <th>1</th>\n",
       "      <td>1264</td>\n",
       "      <td>[10165]</td>\n",
       "      <td>9966</td>\n",
       "      <td>[6004]</td>\n",
       "    </tr>\n",
       "    <tr>\n",
       "      <th>2</th>\n",
       "      <td>2647</td>\n",
       "      <td>[2480, 2608, 2627, 10849, 12108, 12619, 13828,...</td>\n",
       "      <td>31043</td>\n",
       "      <td>[37738]</td>\n",
       "    </tr>\n",
       "    <tr>\n",
       "      <th>3</th>\n",
       "      <td>2723</td>\n",
       "      <td>[2618, 2623, 5357, 8694, 9216, 10307, 10745, 1...</td>\n",
       "      <td>12771</td>\n",
       "      <td>[15119, 15208]</td>\n",
       "    </tr>\n",
       "    <tr>\n",
       "      <th>4</th>\n",
       "      <td>2830</td>\n",
       "      <td>[903]</td>\n",
       "      <td>41366</td>\n",
       "      <td>[24310]</td>\n",
       "    </tr>\n",
       "  </tbody>\n",
       "</table>\n",
       "</div>"
      ],
      "text/plain": [
       "   User1_id                                         User1_post  user2_id  \\\n",
       "0        75                                             [5933]     33176   \n",
       "1      1264                                            [10165]      9966   \n",
       "2      2647  [2480, 2608, 2627, 10849, 12108, 12619, 13828,...     31043   \n",
       "3      2723  [2618, 2623, 5357, 8694, 9216, 10307, 10745, 1...     12771   \n",
       "4      2830                                              [903]     41366   \n",
       "\n",
       "       User2_post  \n",
       "0         [19546]  \n",
       "1          [6004]  \n",
       "2         [37738]  \n",
       "3  [15119, 15208]  \n",
       "4         [24310]  "
      ]
     },
     "execution_count": 4,
     "metadata": {},
     "output_type": "execute_result"
    }
   ],
   "source": [
    "SimUsers.head()"
   ]
  },
  {
   "cell_type": "code",
   "execution_count": null,
   "metadata": {},
   "outputs": [],
   "source": []
  },
  {
   "cell_type": "code",
   "execution_count": 5,
   "metadata": {},
   "outputs": [
    {
     "data": {
      "text/html": [
       "<div>\n",
       "<style scoped>\n",
       "    .dataframe tbody tr th:only-of-type {\n",
       "        vertical-align: middle;\n",
       "    }\n",
       "\n",
       "    .dataframe tbody tr th {\n",
       "        vertical-align: top;\n",
       "    }\n",
       "\n",
       "    .dataframe thead th {\n",
       "        text-align: right;\n",
       "    }\n",
       "</style>\n",
       "<table border=\"1\" class=\"dataframe\">\n",
       "  <thead>\n",
       "    <tr style=\"text-align: right;\">\n",
       "      <th></th>\n",
       "      <th>Title</th>\n",
       "    </tr>\n",
       "    <tr>\n",
       "      <th>Id</th>\n",
       "      <th></th>\n",
       "    </tr>\n",
       "  </thead>\n",
       "  <tbody>\n",
       "    <tr>\n",
       "      <th>5</th>\n",
       "      <td>How can I do simple machine learning without h...</td>\n",
       "    </tr>\n",
       "    <tr>\n",
       "      <th>7</th>\n",
       "      <td>What open-source books (or other materials) pr...</td>\n",
       "    </tr>\n",
       "    <tr>\n",
       "      <th>9</th>\n",
       "      <td>NaN</td>\n",
       "    </tr>\n",
       "    <tr>\n",
       "      <th>10</th>\n",
       "      <td>NaN</td>\n",
       "    </tr>\n",
       "    <tr>\n",
       "      <th>14</th>\n",
       "      <td>Is Data Science the Same as Data Mining?</td>\n",
       "    </tr>\n",
       "  </tbody>\n",
       "</table>\n",
       "</div>"
      ],
      "text/plain": [
       "                                                Title\n",
       "Id                                                   \n",
       "5   How can I do simple machine learning without h...\n",
       "7   What open-source books (or other materials) pr...\n",
       "9                                                 NaN\n",
       "10                                                NaN\n",
       "14           Is Data Science the Same as Data Mining?"
      ]
     },
     "execution_count": 5,
     "metadata": {},
     "output_type": "execute_result"
    }
   ],
   "source": [
    "posts.head()"
   ]
  },
  {
   "cell_type": "code",
   "execution_count": null,
   "metadata": {},
   "outputs": [],
   "source": []
  },
  {
   "cell_type": "code",
   "execution_count": null,
   "metadata": {},
   "outputs": [],
   "source": []
  },
  {
   "cell_type": "code",
   "execution_count": 6,
   "metadata": {},
   "outputs": [],
   "source": [
    "# simUsers_1 = SimUsers['User1_id'].tolist()\n",
    "# simUsers_2 = SimUsers['user2_id'].tolist()\n",
    "# simUsers = simUsers_1 + simUsers_2"
   ]
  },
  {
   "cell_type": "code",
   "execution_count": 7,
   "metadata": {},
   "outputs": [],
   "source": [
    "display_name_user1 = [] \n",
    "display_name_user2 = [] \n",
    "\n",
    "title_post_user1 = []\n",
    "title_post_user2 = []"
   ]
  },
  {
   "cell_type": "code",
   "execution_count": 8,
   "metadata": {},
   "outputs": [],
   "source": [
    "for i in range(len(SimUsers)):\n",
    "    ind = SimUsers['User1_id'][i]\n",
    "    display_name_user1.append(users['DisplayName'][ind])\n",
    "    ind1 = SimUsers['user2_id'][i]\n",
    "    display_name_user2.append(users['DisplayName'][ind1])\n",
    "    \n",
    "    tmp = SimUsers['User1_post'][i]\n",
    "    tmp = tmp[1:-1]\n",
    "    ind2 = tmp.split(',')\n",
    "    temp_title = []\n",
    "    for j in ind2:\n",
    "        title = posts['Title'][int(j)]\n",
    "        temp_title.append(title)\n",
    "    title_post_user1.append(temp_title)\n",
    "        \n",
    "    tmp = SimUsers['User2_post'][i]\n",
    "    tmp = tmp[1:-1]\n",
    "    ind3 = tmp.split(',')\n",
    "    temp_title2 = []\n",
    "    for k in ind3:\n",
    "        title1 = posts['Title'][int(k)]\n",
    "        temp_title2.append(title1)\n",
    "    title_post_user2.append(temp_title2)\n",
    "    "
   ]
  },
  {
   "cell_type": "code",
   "execution_count": 9,
   "metadata": {},
   "outputs": [
    {
     "data": {
      "text/plain": [
       "(151, 151)"
      ]
     },
     "execution_count": 9,
     "metadata": {},
     "output_type": "execute_result"
    }
   ],
   "source": [
    "len(title_post_user1),len(title_post_user2)"
   ]
  },
  {
   "cell_type": "code",
   "execution_count": null,
   "metadata": {},
   "outputs": [],
   "source": []
  },
  {
   "cell_type": "code",
   "execution_count": null,
   "metadata": {},
   "outputs": [],
   "source": []
  },
  {
   "cell_type": "code",
   "execution_count": 10,
   "metadata": {},
   "outputs": [],
   "source": [
    "SimUsers['U1_Name'] = display_name_user1\n",
    "SimUsers['PostTitles_user1'] = title_post_user1\n",
    "SimUsers['U2_Name'] = display_name_user2\n",
    "SimUsers['PostTitles_user2'] = title_post_user2"
   ]
  },
  {
   "cell_type": "code",
   "execution_count": 11,
   "metadata": {},
   "outputs": [
    {
     "data": {
      "text/html": [
       "<div>\n",
       "<style scoped>\n",
       "    .dataframe tbody tr th:only-of-type {\n",
       "        vertical-align: middle;\n",
       "    }\n",
       "\n",
       "    .dataframe tbody tr th {\n",
       "        vertical-align: top;\n",
       "    }\n",
       "\n",
       "    .dataframe thead th {\n",
       "        text-align: right;\n",
       "    }\n",
       "</style>\n",
       "<table border=\"1\" class=\"dataframe\">\n",
       "  <thead>\n",
       "    <tr style=\"text-align: right;\">\n",
       "      <th></th>\n",
       "      <th>User1_id</th>\n",
       "      <th>User1_post</th>\n",
       "      <th>user2_id</th>\n",
       "      <th>User2_post</th>\n",
       "      <th>U1_Name</th>\n",
       "      <th>PostTitles_user1</th>\n",
       "      <th>U2_Name</th>\n",
       "      <th>PostTitles_user2</th>\n",
       "    </tr>\n",
       "  </thead>\n",
       "  <tbody>\n",
       "    <tr>\n",
       "      <th>0</th>\n",
       "      <td>75</td>\n",
       "      <td>[5933]</td>\n",
       "      <td>33176</td>\n",
       "      <td>[19546]</td>\n",
       "      <td>Shagun Sodhani</td>\n",
       "      <td>[What possible data products can be built usin...</td>\n",
       "      <td>tejal567</td>\n",
       "      <td>[How to reduce an unknown size data into a fix...</td>\n",
       "    </tr>\n",
       "    <tr>\n",
       "      <th>1</th>\n",
       "      <td>1264</td>\n",
       "      <td>[10165]</td>\n",
       "      <td>9966</td>\n",
       "      <td>[6004]</td>\n",
       "      <td>prooffreader</td>\n",
       "      <td>[What's the best way to use binned data in a t...</td>\n",
       "      <td>untitledprogrammer</td>\n",
       "      <td>[How to select features from text data?]</td>\n",
       "    </tr>\n",
       "    <tr>\n",
       "      <th>2</th>\n",
       "      <td>2647</td>\n",
       "      <td>[2480, 2608, 2627, 10849, 12108, 12619, 13828,...</td>\n",
       "      <td>31043</td>\n",
       "      <td>[37738]</td>\n",
       "      <td>Minu</td>\n",
       "      <td>[Visualization using D3, Simple Excel Question...</td>\n",
       "      <td>Pranav Pandey</td>\n",
       "      <td>[How to know for sure if we can learn from a g...</td>\n",
       "    </tr>\n",
       "    <tr>\n",
       "      <th>3</th>\n",
       "      <td>2723</td>\n",
       "      <td>[2618, 2623, 5357, 8694, 9216, 10307, 10745, 1...</td>\n",
       "      <td>12771</td>\n",
       "      <td>[15119, 15208]</td>\n",
       "      <td>Hack-R</td>\n",
       "      <td>[Ethically and Cost-effectively Scaling Data S...</td>\n",
       "      <td>ultron</td>\n",
       "      <td>[Practical use of oop in R, Replacing values i...</td>\n",
       "    </tr>\n",
       "    <tr>\n",
       "      <th>4</th>\n",
       "      <td>2830</td>\n",
       "      <td>[903]</td>\n",
       "      <td>41366</td>\n",
       "      <td>[24310]</td>\n",
       "      <td>teebszet</td>\n",
       "      <td>[Analyzing A/B test results which are not norm...</td>\n",
       "      <td>K48</td>\n",
       "      <td>[Creating the optimal set of utterances to tra...</td>\n",
       "    </tr>\n",
       "  </tbody>\n",
       "</table>\n",
       "</div>"
      ],
      "text/plain": [
       "   User1_id                                         User1_post  user2_id  \\\n",
       "0        75                                             [5933]     33176   \n",
       "1      1264                                            [10165]      9966   \n",
       "2      2647  [2480, 2608, 2627, 10849, 12108, 12619, 13828,...     31043   \n",
       "3      2723  [2618, 2623, 5357, 8694, 9216, 10307, 10745, 1...     12771   \n",
       "4      2830                                              [903]     41366   \n",
       "\n",
       "       User2_post         U1_Name  \\\n",
       "0         [19546]  Shagun Sodhani   \n",
       "1          [6004]    prooffreader   \n",
       "2         [37738]            Minu   \n",
       "3  [15119, 15208]          Hack-R   \n",
       "4         [24310]        teebszet   \n",
       "\n",
       "                                    PostTitles_user1             U2_Name  \\\n",
       "0  [What possible data products can be built usin...            tejal567   \n",
       "1  [What's the best way to use binned data in a t...  untitledprogrammer   \n",
       "2  [Visualization using D3, Simple Excel Question...       Pranav Pandey   \n",
       "3  [Ethically and Cost-effectively Scaling Data S...              ultron   \n",
       "4  [Analyzing A/B test results which are not norm...                 K48   \n",
       "\n",
       "                                    PostTitles_user2  \n",
       "0  [How to reduce an unknown size data into a fix...  \n",
       "1           [How to select features from text data?]  \n",
       "2  [How to know for sure if we can learn from a g...  \n",
       "3  [Practical use of oop in R, Replacing values i...  \n",
       "4  [Creating the optimal set of utterances to tra...  "
      ]
     },
     "execution_count": 11,
     "metadata": {},
     "output_type": "execute_result"
    }
   ],
   "source": [
    "SimUsers.head()"
   ]
  },
  {
   "cell_type": "code",
   "execution_count": 12,
   "metadata": {},
   "outputs": [],
   "source": [
    "Output_File1 = SimUsers.drop(columns=['User1_id','User1_post','user2_id','User2_post'])"
   ]
  },
  {
   "cell_type": "code",
   "execution_count": 13,
   "metadata": {},
   "outputs": [
    {
     "data": {
      "text/html": [
       "<div>\n",
       "<style scoped>\n",
       "    .dataframe tbody tr th:only-of-type {\n",
       "        vertical-align: middle;\n",
       "    }\n",
       "\n",
       "    .dataframe tbody tr th {\n",
       "        vertical-align: top;\n",
       "    }\n",
       "\n",
       "    .dataframe thead th {\n",
       "        text-align: right;\n",
       "    }\n",
       "</style>\n",
       "<table border=\"1\" class=\"dataframe\">\n",
       "  <thead>\n",
       "    <tr style=\"text-align: right;\">\n",
       "      <th></th>\n",
       "      <th>U1_Name</th>\n",
       "      <th>PostTitles_user1</th>\n",
       "      <th>U2_Name</th>\n",
       "      <th>PostTitles_user2</th>\n",
       "    </tr>\n",
       "  </thead>\n",
       "  <tbody>\n",
       "    <tr>\n",
       "      <th>0</th>\n",
       "      <td>Shagun Sodhani</td>\n",
       "      <td>[What possible data products can be built usin...</td>\n",
       "      <td>tejal567</td>\n",
       "      <td>[How to reduce an unknown size data into a fix...</td>\n",
       "    </tr>\n",
       "    <tr>\n",
       "      <th>1</th>\n",
       "      <td>prooffreader</td>\n",
       "      <td>[What's the best way to use binned data in a t...</td>\n",
       "      <td>untitledprogrammer</td>\n",
       "      <td>[How to select features from text data?]</td>\n",
       "    </tr>\n",
       "    <tr>\n",
       "      <th>2</th>\n",
       "      <td>Minu</td>\n",
       "      <td>[Visualization using D3, Simple Excel Question...</td>\n",
       "      <td>Pranav Pandey</td>\n",
       "      <td>[How to know for sure if we can learn from a g...</td>\n",
       "    </tr>\n",
       "    <tr>\n",
       "      <th>3</th>\n",
       "      <td>Hack-R</td>\n",
       "      <td>[Ethically and Cost-effectively Scaling Data S...</td>\n",
       "      <td>ultron</td>\n",
       "      <td>[Practical use of oop in R, Replacing values i...</td>\n",
       "    </tr>\n",
       "    <tr>\n",
       "      <th>4</th>\n",
       "      <td>teebszet</td>\n",
       "      <td>[Analyzing A/B test results which are not norm...</td>\n",
       "      <td>K48</td>\n",
       "      <td>[Creating the optimal set of utterances to tra...</td>\n",
       "    </tr>\n",
       "  </tbody>\n",
       "</table>\n",
       "</div>"
      ],
      "text/plain": [
       "          U1_Name                                   PostTitles_user1  \\\n",
       "0  Shagun Sodhani  [What possible data products can be built usin...   \n",
       "1    prooffreader  [What's the best way to use binned data in a t...   \n",
       "2            Minu  [Visualization using D3, Simple Excel Question...   \n",
       "3          Hack-R  [Ethically and Cost-effectively Scaling Data S...   \n",
       "4        teebszet  [Analyzing A/B test results which are not norm...   \n",
       "\n",
       "              U2_Name                                   PostTitles_user2  \n",
       "0            tejal567  [How to reduce an unknown size data into a fix...  \n",
       "1  untitledprogrammer           [How to select features from text data?]  \n",
       "2       Pranav Pandey  [How to know for sure if we can learn from a g...  \n",
       "3              ultron  [Practical use of oop in R, Replacing values i...  \n",
       "4                 K48  [Creating the optimal set of utterances to tra...  "
      ]
     },
     "execution_count": 13,
     "metadata": {},
     "output_type": "execute_result"
    }
   ],
   "source": [
    "Output_File1.head()"
   ]
  },
  {
   "cell_type": "code",
   "execution_count": 15,
   "metadata": {},
   "outputs": [
    {
     "data": {
      "text/plain": [
       "list"
      ]
     },
     "execution_count": 15,
     "metadata": {},
     "output_type": "execute_result"
    }
   ],
   "source": [
    "type(Output_File1.PostTitles_user2[0])"
   ]
  },
  {
   "cell_type": "code",
   "execution_count": null,
   "metadata": {},
   "outputs": [],
   "source": []
  },
  {
   "cell_type": "code",
   "execution_count": null,
   "metadata": {},
   "outputs": [],
   "source": []
  },
  {
   "cell_type": "code",
   "execution_count": 17,
   "metadata": {},
   "outputs": [],
   "source": [
    "UserName = Output_File1['U1_Name'].tolist() + Output_File1['U2_Name'].tolist()\n",
    "\n",
    "# Posts_1 = Output_File1['PostTitles_user1']\n",
    "# Posts_2 = Output_File1['PostTitles_user2']\n",
    "\n",
    "Posts = Output_File1['PostTitles_user1'].tolist() + Output_File1['PostTitles_user2'].tolist()\n",
    "\n",
    "# RPosts_1 = Output_File1['PostTitles_user2']\n",
    "# RPosts_2 = Output_File1['PostTitles_user1']\n",
    "\n",
    "RecommendedPosts = Output_File1['PostTitles_user2'].tolist() + Output_File1['PostTitles_user1'].tolist()"
   ]
  },
  {
   "cell_type": "code",
   "execution_count": null,
   "metadata": {},
   "outputs": [],
   "source": []
  },
  {
   "cell_type": "code",
   "execution_count": 18,
   "metadata": {},
   "outputs": [],
   "source": [
    "Output_File2 = pd.DataFrame(columns=['UserName', 'Posts', 'RecommendedPosts'])"
   ]
  },
  {
   "cell_type": "code",
   "execution_count": 19,
   "metadata": {},
   "outputs": [],
   "source": [
    "Output_File2['UserName'] = UserName\n",
    "Output_File2['Posts'] = Posts\n",
    "Output_File2['RecommendedPosts'] = RecommendedPosts\n"
   ]
  },
  {
   "cell_type": "code",
   "execution_count": 20,
   "metadata": {},
   "outputs": [],
   "source": [
    "Output_File2.to_csv('Recommendations.csv',index=False)"
   ]
  },
  {
   "cell_type": "code",
   "execution_count": null,
   "metadata": {},
   "outputs": [],
   "source": []
  }
 ],
 "metadata": {
  "kernelspec": {
   "display_name": "Python 3",
   "language": "python",
   "name": "python3"
  },
  "language_info": {
   "codemirror_mode": {
    "name": "ipython",
    "version": 3
   },
   "file_extension": ".py",
   "mimetype": "text/x-python",
   "name": "python",
   "nbconvert_exporter": "python",
   "pygments_lexer": "ipython3",
   "version": "3.7.3"
  }
 },
 "nbformat": 4,
 "nbformat_minor": 4
}
