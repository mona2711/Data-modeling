{
 "cells": [
  {
   "cell_type": "code",
   "execution_count": 1,
   "metadata": {},
   "outputs": [],
   "source": [
    "import warnings\n",
    "import pandas  as pd \n",
    "from bs4 import BeautifulSoup\n",
    "import re\n",
    "import string\n",
    "import numpy as np\n",
    "\n",
    "from sklearn.feature_extraction.text import TfidfVectorizer\n",
    "from sklearn.feature_extraction.text import TfidfTransformer\n",
    "from sklearn.feature_extraction.text import CountVectorizer"
   ]
  },
  {
   "cell_type": "code",
   "execution_count": 2,
   "metadata": {},
   "outputs": [],
   "source": [
    "users = pd.read_csv('Users.csv')\n",
    "post = pd.read_csv('Posts.csv')"
   ]
  },
  {
   "cell_type": "code",
   "execution_count": 3,
   "metadata": {},
   "outputs": [],
   "source": [
    "users['_AboutMe'].fillna(0, inplace = True)\n",
    "#users"
   ]
  },
  {
   "cell_type": "code",
   "execution_count": 4,
   "metadata": {},
   "outputs": [],
   "source": [
    "users_1 = users[users['_AboutMe']!=0]\n",
    "# users_1"
   ]
  },
  {
   "cell_type": "code",
   "execution_count": 5,
   "metadata": {},
   "outputs": [
    {
     "name": "stderr",
     "output_type": "stream",
     "text": [
      "C:\\Users\\Mona\\Anaconda3\\lib\\site-packages\\bs4\\__init__.py:272: UserWarning: \"b'...'\" looks like a filename, not markup. You should probably open this file and pass the filehandle into Beautiful Soup.\n",
      "  ' Beautiful Soup.' % markup)\n",
      "C:\\Users\\Mona\\Anaconda3\\lib\\site-packages\\bs4\\__init__.py:272: UserWarning: \"b'.'\" looks like a filename, not markup. You should probably open this file and pass the filehandle into Beautiful Soup.\n",
      "  ' Beautiful Soup.' % markup)\n"
     ]
    },
    {
     "name": "stdout",
     "output_type": "stream",
     "text": [
      "Wall time: 4.11 s\n"
     ]
    },
    {
     "name": "stderr",
     "output_type": "stream",
     "text": [
      "C:\\Users\\Mona\\Anaconda3\\lib\\site-packages\\ipykernel_launcher.py:25: SettingWithCopyWarning: \n",
      "A value is trying to be set on a copy of a slice from a DataFrame.\n",
      "Try using .loc[row_indexer,col_indexer] = value instead\n",
      "\n",
      "See the caveats in the documentation: http://pandas.pydata.org/pandas-docs/stable/indexing.html#indexing-view-versus-copy\n"
     ]
    }
   ],
   "source": [
    "%%time\n",
    "pre_p_desc = [] # to store pre processed aboutme\n",
    "\n",
    "for desc in users_1['_AboutMe']:\n",
    "\n",
    "    soup = BeautifulSoup(desc, 'html.parser')     # web scrapping - to get the text out of html tags\n",
    "\n",
    "    article = re.sub(r'\\w+:\\/{2}[\\d\\w-]+(\\.[\\d\\w-]+)*(?:(?:\\/[^\\s/]*))*', '', soup.text, flags=re.MULTILINE)    # removing hyperlinks \n",
    "\n",
    "    article = re.sub(\"\\d+\", \"\", article)\n",
    "    \n",
    "    article = article.replace('\\n',' ')\n",
    "\n",
    "#         article = article.translate(str.maketrans(' ', ' ', string.punctuation))\n",
    "\n",
    "    pun = ['!', '@', '#', '$', '%', '^', '&', '*', '(', ')', '-', '_', '+', '=', '{', '}', '[', ']', '|', '\\\\', \":\", \";\", '\"', '<', ',', '>', '.', '?', '/','♦']\n",
    "    for i in pun :      # replacing punctuations with whitespace\n",
    "        article = article.replace(i,' ')\n",
    "\n",
    "    article = article.lower()     # to lower case\n",
    "\n",
    "    article = article.replace('i\\'m','i am ')     # removing contractions - I and am are considered as stopwords but not I'm\n",
    "\n",
    "    pre_p_desc.append(article)\n",
    "\n",
    "users_1['AboutMe_C'] = pre_p_desc"
   ]
  },
  {
   "cell_type": "code",
   "execution_count": 6,
   "metadata": {},
   "outputs": [],
   "source": [
    "users_1 = users_1[['_Id','_AboutMe','AboutMe_C']]\n",
    "# users_1"
   ]
  },
  {
   "cell_type": "code",
   "execution_count": 7,
   "metadata": {},
   "outputs": [
    {
     "name": "stdout",
     "output_type": "stream",
     "text": [
      "20800\n"
     ]
    }
   ],
   "source": [
    "print(len(users_1['AboutMe_C']))"
   ]
  },
  {
   "cell_type": "code",
   "execution_count": 8,
   "metadata": {},
   "outputs": [],
   "source": [
    "#tf-idf"
   ]
  },
  {
   "cell_type": "code",
   "execution_count": 9,
   "metadata": {},
   "outputs": [
    {
     "name": "stdout",
     "output_type": "stream",
     "text": [
      "Wall time: 3.63 s\n"
     ]
    }
   ],
   "source": [
    "%%time\n",
    "vect = TfidfVectorizer(min_df=1, stop_words=\"english\")                                                                                                                                                                                                   \n",
    "tfidf = vect.fit_transform(users_1['AboutMe_C'])                                                                                                                                                                                                                       \n",
    "pairwise_similarity = tfidf * tfidf.T"
   ]
  },
  {
   "cell_type": "code",
   "execution_count": 10,
   "metadata": {},
   "outputs": [],
   "source": [
    "#print(pairwise_similarity[20799])"
   ]
  },
  {
   "cell_type": "code",
   "execution_count": 11,
   "metadata": {},
   "outputs": [
    {
     "name": "stderr",
     "output_type": "stream",
     "text": [
      "C:\\Users\\Mona\\Anaconda3\\lib\\site-packages\\ipykernel_launcher.py:2: SparseEfficiencyWarning: Changing the sparsity structure of a csr_matrix is expensive. lil_matrix is more efficient.\n",
      "  \n"
     ]
    },
    {
     "name": "stdout",
     "output_type": "stream",
     "text": [
      "Wall time: 6min 28s\n"
     ]
    }
   ],
   "source": [
    "%%time\n",
    "for i in range(pairwise_similarity.shape[1]):\n",
    "    pairwise_similarity[i,i:(i+1)] = 0"
   ]
  },
  {
   "cell_type": "code",
   "execution_count": 12,
   "metadata": {},
   "outputs": [
    {
     "name": "stdout",
     "output_type": "stream",
     "text": [
      "(20800, 20800)\n"
     ]
    }
   ],
   "source": [
    "print(pairwise_similarity.shape)"
   ]
  },
  {
   "cell_type": "code",
   "execution_count": 12,
   "metadata": {},
   "outputs": [],
   "source": [
    "mx_val = pairwise_similarity.argmax(1)"
   ]
  },
  {
   "cell_type": "code",
   "execution_count": 13,
   "metadata": {},
   "outputs": [
    {
     "data": {
      "text/plain": [
       "matrix([[ 9441],\n",
       "        [ 3259],\n",
       "        [ 3259],\n",
       "        ...,\n",
       "        [17086],\n",
       "        [15351],\n",
       "        [16115]])"
      ]
     },
     "execution_count": 13,
     "metadata": {},
     "output_type": "execute_result"
    }
   ],
   "source": [
    "mx_val"
   ]
  },
  {
   "cell_type": "code",
   "execution_count": 14,
   "metadata": {},
   "outputs": [],
   "source": [
    "users_1 = users_1.reset_index()"
   ]
  },
  {
   "cell_type": "code",
   "execution_count": 15,
   "metadata": {},
   "outputs": [],
   "source": [
    "sim_user = [] \n",
    "ccc = 0 \n",
    "for i in mx_val:\n",
    "    ccc += 1\n",
    "    sim_user.append(users_1['_Id'][i.item()])"
   ]
  },
  {
   "cell_type": "code",
   "execution_count": 16,
   "metadata": {},
   "outputs": [],
   "source": [
    "users_1['most_sim_users'] = sim_user"
   ]
  },
  {
   "cell_type": "code",
   "execution_count": 17,
   "metadata": {},
   "outputs": [
    {
     "data": {
      "text/html": [
       "<div>\n",
       "<style scoped>\n",
       "    .dataframe tbody tr th:only-of-type {\n",
       "        vertical-align: middle;\n",
       "    }\n",
       "\n",
       "    .dataframe tbody tr th {\n",
       "        vertical-align: top;\n",
       "    }\n",
       "\n",
       "    .dataframe thead th {\n",
       "        text-align: right;\n",
       "    }\n",
       "</style>\n",
       "<table border=\"1\" class=\"dataframe\">\n",
       "  <thead>\n",
       "    <tr style=\"text-align: right;\">\n",
       "      <th></th>\n",
       "      <th>index</th>\n",
       "      <th>_Id</th>\n",
       "      <th>_AboutMe</th>\n",
       "      <th>AboutMe_C</th>\n",
       "      <th>most_sim_users</th>\n",
       "    </tr>\n",
       "  </thead>\n",
       "  <tbody>\n",
       "    <tr>\n",
       "      <th>0</th>\n",
       "      <td>0</td>\n",
       "      <td>-1</td>\n",
       "      <td>&lt;p&gt;Hi, I'm not really a person.&lt;/p&gt;\\r\\n\\r\\n&lt;p&gt;...</td>\n",
       "      <td>hi  i am  not really a person  i am  a backgro...</td>\n",
       "      <td>35592</td>\n",
       "    </tr>\n",
       "    <tr>\n",
       "      <th>1</th>\n",
       "      <td>1</td>\n",
       "      <td>1</td>\n",
       "      <td>\\r\\n\\r\\n&lt;p&gt;Developer at Stack Overflow focusin...</td>\n",
       "      <td>developer at stack overflow focusing on publi...</td>\n",
       "      <td>13425</td>\n",
       "    </tr>\n",
       "    <tr>\n",
       "      <th>2</th>\n",
       "      <td>2</td>\n",
       "      <td>2</td>\n",
       "      <td>&lt;p&gt;Developer on the Stack Overflow team.  Find...</td>\n",
       "      <td>developer on the stack overflow team   find me...</td>\n",
       "      <td>13425</td>\n",
       "    </tr>\n",
       "    <tr>\n",
       "      <th>3</th>\n",
       "      <td>3</td>\n",
       "      <td>3</td>\n",
       "      <td>&lt;p&gt;I'm a student interested in technology.&lt;/p&gt;...</td>\n",
       "      <td>i am  a student interested in technology  also...</td>\n",
       "      <td>18781</td>\n",
       "    </tr>\n",
       "    <tr>\n",
       "      <th>4</th>\n",
       "      <td>4</td>\n",
       "      <td>4</td>\n",
       "      <td>&lt;p&gt;I work with &lt;a href=\"https://olo.com\" rel=\"...</td>\n",
       "      <td>i work with olo solving problems for people wh...</td>\n",
       "      <td>30</td>\n",
       "    </tr>\n",
       "    <tr>\n",
       "      <th>5</th>\n",
       "      <td>5</td>\n",
       "      <td>5</td>\n",
       "      <td>\\r\\n\\r\\n&lt;p&gt;Programmer, elected SE moderator ♦ ...</td>\n",
       "      <td>programmer  elected se moderator   on ppcg  i...</td>\n",
       "      <td>41808</td>\n",
       "    </tr>\n",
       "    <tr>\n",
       "      <th>6</th>\n",
       "      <td>6</td>\n",
       "      <td>6</td>\n",
       "      <td>&lt;p&gt;I'm a researcher in satellite remote sensin...</td>\n",
       "      <td>i am  a researcher in satellite remote sensing...</td>\n",
       "      <td>42326</td>\n",
       "    </tr>\n",
       "    <tr>\n",
       "      <th>7</th>\n",
       "      <td>7</td>\n",
       "      <td>7</td>\n",
       "      <td>&lt;p&gt;&lt;a href=\"//stackoverflow.com\"&gt;Stack Overflo...</td>\n",
       "      <td>stack overflow moderator  i bite  but only whe...</td>\n",
       "      <td>18695</td>\n",
       "    </tr>\n",
       "    <tr>\n",
       "      <th>8</th>\n",
       "      <td>8</td>\n",
       "      <td>8</td>\n",
       "      <td>&lt;p&gt;Stack Exchange employs me as a &lt;a href=\"htt...</td>\n",
       "      <td>stack exchange employs me as a community manag...</td>\n",
       "      <td>59356</td>\n",
       "    </tr>\n",
       "    <tr>\n",
       "      <th>9</th>\n",
       "      <td>9</td>\n",
       "      <td>9</td>\n",
       "      <td>&lt;p&gt;Maintainer of the &lt;a href=\"http://www.jdom....</td>\n",
       "      <td>maintainer of the jdom open source java xml li...</td>\n",
       "      <td>44417</td>\n",
       "    </tr>\n",
       "    <tr>\n",
       "      <th>10</th>\n",
       "      <td>10</td>\n",
       "      <td>10</td>\n",
       "      <td>&lt;p&gt;Working as a Managing Architect currently a...</td>\n",
       "      <td>working as a managing architect currently and ...</td>\n",
       "      <td>54228</td>\n",
       "    </tr>\n",
       "    <tr>\n",
       "      <th>11</th>\n",
       "      <td>11</td>\n",
       "      <td>11</td>\n",
       "      <td>&lt;p&gt;I design Algorithms and construct Data Stru...</td>\n",
       "      <td>i design algorithms and construct data structu...</td>\n",
       "      <td>26237</td>\n",
       "    </tr>\n",
       "    <tr>\n",
       "      <th>12</th>\n",
       "      <td>12</td>\n",
       "      <td>12</td>\n",
       "      <td>&lt;p&gt;I work for our Stack Exchange overlords. If...</td>\n",
       "      <td>i work for our stack exchange overlords  if yo...</td>\n",
       "      <td>37503</td>\n",
       "    </tr>\n",
       "    <tr>\n",
       "      <th>13</th>\n",
       "      <td>15</td>\n",
       "      <td>16</td>\n",
       "      <td>&lt;p&gt;.&lt;/p&gt;\\r\\n</td>\n",
       "      <td></td>\n",
       "      <td>-1</td>\n",
       "    </tr>\n",
       "    <tr>\n",
       "      <th>14</th>\n",
       "      <td>16</td>\n",
       "      <td>17</td>\n",
       "      <td>&lt;p&gt;Researcher @ German Research Center for Art...</td>\n",
       "      <td>researcher   german research center for artifi...</td>\n",
       "      <td>64405</td>\n",
       "    </tr>\n",
       "  </tbody>\n",
       "</table>\n",
       "</div>"
      ],
      "text/plain": [
       "    index  _Id                                           _AboutMe  \\\n",
       "0       0   -1  <p>Hi, I'm not really a person.</p>\\r\\n\\r\\n<p>...   \n",
       "1       1    1  \\r\\n\\r\\n<p>Developer at Stack Overflow focusin...   \n",
       "2       2    2  <p>Developer on the Stack Overflow team.  Find...   \n",
       "3       3    3  <p>I'm a student interested in technology.</p>...   \n",
       "4       4    4  <p>I work with <a href=\"https://olo.com\" rel=\"...   \n",
       "5       5    5  \\r\\n\\r\\n<p>Programmer, elected SE moderator ♦ ...   \n",
       "6       6    6  <p>I'm a researcher in satellite remote sensin...   \n",
       "7       7    7  <p><a href=\"//stackoverflow.com\">Stack Overflo...   \n",
       "8       8    8  <p>Stack Exchange employs me as a <a href=\"htt...   \n",
       "9       9    9  <p>Maintainer of the <a href=\"http://www.jdom....   \n",
       "10     10   10  <p>Working as a Managing Architect currently a...   \n",
       "11     11   11  <p>I design Algorithms and construct Data Stru...   \n",
       "12     12   12  <p>I work for our Stack Exchange overlords. If...   \n",
       "13     15   16                                       <p>.</p>\\r\\n   \n",
       "14     16   17  <p>Researcher @ German Research Center for Art...   \n",
       "\n",
       "                                            AboutMe_C  most_sim_users  \n",
       "0   hi  i am  not really a person  i am  a backgro...           35592  \n",
       "1    developer at stack overflow focusing on publi...           13425  \n",
       "2   developer on the stack overflow team   find me...           13425  \n",
       "3   i am  a student interested in technology  also...           18781  \n",
       "4   i work with olo solving problems for people wh...              30  \n",
       "5    programmer  elected se moderator   on ppcg  i...           41808  \n",
       "6   i am  a researcher in satellite remote sensing...           42326  \n",
       "7   stack overflow moderator  i bite  but only whe...           18695  \n",
       "8   stack exchange employs me as a community manag...           59356  \n",
       "9   maintainer of the jdom open source java xml li...           44417  \n",
       "10  working as a managing architect currently and ...           54228  \n",
       "11  i design algorithms and construct data structu...           26237  \n",
       "12  i work for our stack exchange overlords  if yo...           37503  \n",
       "13                                                                 -1  \n",
       "14  researcher   german research center for artifi...           64405  "
      ]
     },
     "execution_count": 17,
     "metadata": {},
     "output_type": "execute_result"
    }
   ],
   "source": [
    "users_1.head(15)"
   ]
  },
  {
   "cell_type": "code",
   "execution_count": 18,
   "metadata": {},
   "outputs": [],
   "source": []
  },
  {
   "cell_type": "code",
   "execution_count": 19,
   "metadata": {},
   "outputs": [],
   "source": []
  },
  {
   "cell_type": "code",
   "execution_count": 20,
   "metadata": {},
   "outputs": [],
   "source": []
  },
  {
   "cell_type": "code",
   "execution_count": 21,
   "metadata": {},
   "outputs": [],
   "source": []
  },
  {
   "cell_type": "code",
   "execution_count": 26,
   "metadata": {},
   "outputs": [],
   "source": []
  },
  {
   "cell_type": "code",
   "execution_count": null,
   "metadata": {},
   "outputs": [],
   "source": []
  }
 ],
 "metadata": {
  "kernelspec": {
   "display_name": "Python 3",
   "language": "python",
   "name": "python3"
  },
  "language_info": {
   "codemirror_mode": {
    "name": "ipython",
    "version": 3
   },
   "file_extension": ".py",
   "mimetype": "text/x-python",
   "name": "python",
   "nbconvert_exporter": "python",
   "pygments_lexer": "ipython3",
   "version": "3.7.4"
  }
 },
 "nbformat": 4,
 "nbformat_minor": 2
}
