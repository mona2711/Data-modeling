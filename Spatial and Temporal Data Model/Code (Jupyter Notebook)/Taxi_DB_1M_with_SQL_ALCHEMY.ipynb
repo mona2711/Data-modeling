{
 "cells": [
  {
   "cell_type": "code",
   "execution_count": 2,
   "metadata": {},
   "outputs": [],
   "source": [
    "import pandas as pd\n",
    "from sqlalchemy import create_engine"
   ]
  },
  {
   "cell_type": "code",
   "execution_count": 3,
   "metadata": {},
   "outputs": [],
   "source": [
    "taxi_db = create_engine(\"sqlite:///taxi_db.db\")"
   ]
  },
  {
   "cell_type": "code",
   "execution_count": 4,
   "metadata": {},
   "outputs": [
    {
     "name": "stdout",
     "output_type": "stream",
     "text": [
      "loading to sql_DB\n",
      "Wall time: 29.4 s\n"
     ]
    }
   ],
   "source": [
    "%%time\n",
    "chunk_size = 100000\n",
    "x = 0\n",
    "y = 1\n",
    "for data_f in pd.read_csv('taxi-sample.csv', chunksize=chunk_size, iterator=True):\n",
    "      data_f = data_f.rename(columns={c: c.replace(' ', '') for c in data_f.columns}) \n",
    "      data_f.index += y\n",
    "      x+=1\n",
    "      \n",
    "      #removing duplicates\n",
    "      data_f.drop_duplicates(keep='first', inplace=True)\n",
    "    \n",
    "      #VendorID=4 \n",
    "      data_f = data_f.drop(data_f[data_f.VendorID==4].index)\n",
    "    \n",
    "      #removing Future Trips\n",
    "        #year + time from tpep_pickup  as a series \n",
    "      col = data_f['tpep_pickup_datetime'].str.split('/')\n",
    "      \n",
    "      for items in col.iteritems():\n",
    "        #index\n",
    "        ind = items[0]\n",
    "        #year  \n",
    "        yr_int= int(items[1][2].split(' ')[0])\n",
    "        if yr_int > 2019:\n",
    "            data_f=data_f.drop(ind)\n",
    "        if yr_int == 2019:\n",
    "            #month\n",
    "            month_int = int(items[1][0])\n",
    "            if month_int > 9:\n",
    "                data_f = data_f.drop(ind)\n",
    "                \n",
    "      # removing RateCodeID =99  \n",
    "      data_f = data_f.drop(data_f[data_f.RatecodeID==99].index)\n",
    "      \n",
    "      #removing PULocationID =264, 265\n",
    "      data_f = data_f.drop(data_f[(data_f.PULocationID==264) | (data_f.PULocationID==265)].index)\n",
    "        \n",
    "      #removing DOLocationID =264, 265\n",
    "      data_f = data_f.drop(data_f[(data_f.DOLocationID==264) | (data_f.DOLocationID==265)].index)\n",
    "    \n",
    "      #removing -ve values of fare amount\n",
    "      data_f = data_f.drop(data_f[data_f.fare_amount<0].index)\n",
    "      \n",
    "      #removing  mta_tax unknown values (other than 0,0.5)  \n",
    "      data_f = data_f.drop(data_f[~((data_f.mta_tax==0) | (data_f.mta_tax==0.5))].index)\n",
    "      \n",
    "      #removing Extra(other than 0,0.5,1)\n",
    "      data_f = data_f.drop(data_f[~((data_f.extra==0) | (data_f.extra==0.5) | (data_f.extra==1))].index)\n",
    "    \n",
    "    \n",
    "      data_f.to_sql('taxi_Details', taxi_db, if_exists='append')\n",
    "      y = data_f.index[-1] + 1\n",
    "print(\"loading to sql_DB\")"
   ]
  },
  {
   "cell_type": "code",
   "execution_count": null,
   "metadata": {},
   "outputs": [],
   "source": []
  }
 ],
 "metadata": {
  "kernelspec": {
   "display_name": "Python 3",
   "language": "python",
   "name": "python3"
  },
  "language_info": {
   "codemirror_mode": {
    "name": "ipython",
    "version": 3
   },
   "file_extension": ".py",
   "mimetype": "text/x-python",
   "name": "python",
   "nbconvert_exporter": "python",
   "pygments_lexer": "ipython3",
   "version": "3.7.3"
  }
 },
 "nbformat": 4,
 "nbformat_minor": 4
}
