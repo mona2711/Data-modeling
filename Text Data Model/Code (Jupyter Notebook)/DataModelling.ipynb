{
 "cells": [
  {
   "cell_type": "code",
   "execution_count": 1,
   "metadata": {},
   "outputs": [],
   "source": [
    "from textblob import TextBlob\n",
    "import pandas as pd\n",
    "import re\n",
    "import string\n",
    "import demoji"
   ]
  },
  {
   "cell_type": "code",
   "execution_count": 2,
   "metadata": {},
   "outputs": [],
   "source": [
    "##sentiment analysis\n",
    "#polarity of a tweet"
   ]
  },
  {
   "cell_type": "code",
   "execution_count": 3,
   "metadata": {},
   "outputs": [],
   "source": [
    "file = pd.read_csv('IRAhandle_tweets_1.csv',usecols=['content','language'])"
   ]
  },
  {
   "cell_type": "code",
   "execution_count": 4,
   "metadata": {},
   "outputs": [],
   "source": [
    "en_rs = file[(file['language']=='English') | (file['language']=='Russian')]"
   ]
  },
  {
   "cell_type": "code",
   "execution_count": 5,
   "metadata": {},
   "outputs": [],
   "source": [
    "# len(en_rs)"
   ]
  },
  {
   "cell_type": "code",
   "execution_count": null,
   "metadata": {},
   "outputs": [],
   "source": []
  },
  {
   "cell_type": "code",
   "execution_count": 6,
   "metadata": {},
   "outputs": [],
   "source": [
    "#list of tweets "
   ]
  },
  {
   "cell_type": "code",
   "execution_count": 7,
   "metadata": {},
   "outputs": [],
   "source": [
    "tweets = en_rs.content.tolist()"
   ]
  },
  {
   "cell_type": "code",
   "execution_count": 8,
   "metadata": {},
   "outputs": [
    {
     "name": "stdout",
     "output_type": "stream",
     "text": [
      "Wall time: 2min 28s\n"
     ]
    }
   ],
   "source": [
    "%%time\n",
    "sentiment = []\n",
    "keywords_list =  []\n",
    "emoji_list = []\n",
    "hashtags_list = []\n",
    "\n",
    "for tweet in tweets :\n",
    "     \n",
    "    #hyperlinks\n",
    "    tweet = re.sub(r'(https?:\\/\\/)(\\s)*(www\\.)?(\\s)*((\\w|\\s)+\\.)*([\\w\\-\\s]+\\/)*([\\w\\-]+)((\\?)?[\\w\\s]*=\\s*[\\w\\%&]*)*', '', tweet, flags=re.MULTILINE)\n",
    "    \n",
    "    #emojis with description\n",
    "    emoji_set = demoji.findall(tweet)\n",
    "    emoji_list.append(emoji_set)\n",
    "    \n",
    "    #hashtags\n",
    "    hastags_per_tweet = re.findall('\\#(\\w*)',tweet)\n",
    "    hashtags_list.append(hastags_per_tweet)\n",
    "    \n",
    "    # removing punctuation around words in tweet\n",
    "    tweet = tweet.translate(str.maketrans('', '', string.punctuation))\n",
    "    \n",
    "    # to lowercase\n",
    "    tweet = re.sub(r'\\d+', '', tweet)\n",
    "    tweet = tweet.lower()\n",
    "    \n",
    "    blob = TextBlob(tweet)\n",
    "    \n",
    "    \n",
    "#     while executing this below commented part, \n",
    "#     execute it in separate cell and check for wall-time\n",
    "    # correcting typos\n",
    "    \n",
    "#     blob.correct()\n",
    " \n",
    "\n",
    "#     #keywords of a tweet\n",
    "#     keywords =  []\n",
    "#     for word,tag in blob.tags :\n",
    "#         if tag == 'NN':\n",
    "#             keywords.append(word.lemmatize())\n",
    "#     keywords_list.append(keywords)\n",
    "    \n",
    "    #polarity\n",
    "    sentiment.append(blob.sentiment.polarity)\n",
    "    "
   ]
  },
  {
   "cell_type": "code",
   "execution_count": null,
   "metadata": {},
   "outputs": [],
   "source": []
  },
  {
   "cell_type": "code",
   "execution_count": null,
   "metadata": {},
   "outputs": [],
   "source": []
  },
  {
   "cell_type": "code",
   "execution_count": null,
   "metadata": {},
   "outputs": [],
   "source": []
  }
 ],
 "metadata": {
  "kernelspec": {
   "display_name": "Python 3",
   "language": "python",
   "name": "python3"
  },
  "language_info": {
   "codemirror_mode": {
    "name": "ipython",
    "version": 3
   },
   "file_extension": ".py",
   "mimetype": "text/x-python",
   "name": "python",
   "nbconvert_exporter": "python",
   "pygments_lexer": "ipython3",
   "version": "3.7.3"
  }
 },
 "nbformat": 4,
 "nbformat_minor": 4
}
