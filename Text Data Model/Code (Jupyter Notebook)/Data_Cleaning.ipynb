{
 "cells": [
  {
   "cell_type": "code",
   "execution_count": 1,
   "metadata": {},
   "outputs": [],
   "source": [
    "import pandas as pd\n",
    "\n",
    "#to identify punctuations\n",
    "import string\n",
    "\n",
    "#for emoji's with description \n",
    "import demoji\n",
    "\n",
    "#for regular expressions\n",
    "import re\n",
    "\n",
    "#to split sentences into words\n",
    "from nltk.tokenize import TreebankWordTokenizer\n",
    "\n",
    "#to split paras into sentences\n",
    "from nltk.tokenize import sent_tokenize\n",
    "\n",
    "#to identify stopwords in text corpus\n",
    "from nltk.corpus import stopwords"
   ]
  },
  {
   "cell_type": "code",
   "execution_count": 2,
   "metadata": {},
   "outputs": [],
   "source": [
    "file = pd.read_csv('IRAhandle_tweets_1.csv', usecols=['content','language'])\n",
    "text_e = file[file['language']=='English']\n",
    "text_r = file[file['language']=='Russian']\n",
    "text = pd.concat([text_e,text_r])"
   ]
  },
  {
   "cell_type": "code",
   "execution_count": 3,
   "metadata": {},
   "outputs": [
    {
     "name": "stdout",
     "output_type": "stream",
     "text": [
      "190252\n",
      "38411\n",
      "228663\n"
     ]
    }
   ],
   "source": [
    "print(len(text_e))\n",
    "print(len(text_r))\n",
    "print(len(text))"
   ]
  },
  {
   "cell_type": "code",
   "execution_count": 4,
   "metadata": {},
   "outputs": [
    {
     "name": "stdout",
     "output_type": "stream",
     "text": [
      "Wall time: 1min 53s\n"
     ]
    }
   ],
   "source": [
    "%%time\n",
    "\n",
    "# emojis from every tweet as separate list (with description)\n",
    "\n",
    "emoji_list = []\n",
    "for i in text['content']:\n",
    "    emoji_set = demoji.findall(i)\n",
    "    emoji_list.append(emoji_set)"
   ]
  },
  {
   "cell_type": "code",
   "execution_count": null,
   "metadata": {},
   "outputs": [],
   "source": []
  },
  {
   "cell_type": "code",
   "execution_count": null,
   "metadata": {},
   "outputs": [],
   "source": []
  },
  {
   "cell_type": "code",
   "execution_count": 5,
   "metadata": {},
   "outputs": [],
   "source": [
    "text_as_string_e = text_e['content'].to_csv(index=False,header=False)\n",
    "text_as_string_r = text_r['content'].to_csv(index=False,header=False)"
   ]
  },
  {
   "cell_type": "code",
   "execution_count": null,
   "metadata": {},
   "outputs": [],
   "source": []
  },
  {
   "cell_type": "code",
   "execution_count": 8,
   "metadata": {},
   "outputs": [],
   "source": [
    "#filtering emojis from text_as_string"
   ]
  },
  {
   "cell_type": "code",
   "execution_count": 7,
   "metadata": {},
   "outputs": [
    {
     "name": "stdout",
     "output_type": "stream",
     "text": [
      "Wall time: 1min 48s\n"
     ]
    }
   ],
   "source": [
    "%%time\n",
    "emo_e = demoji.findall(text_as_string_e)\n",
    "emo_r = demoji.findall(text_as_string_r)"
   ]
  },
  {
   "cell_type": "code",
   "execution_count": 10,
   "metadata": {},
   "outputs": [
    {
     "name": "stdout",
     "output_type": "stream",
     "text": [
      "Wall time: 2.37 s\n"
     ]
    }
   ],
   "source": [
    "%%time\n",
    "text_no_emojis_e = [words for words in text_as_string_e if words not in emo_e]\n",
    "text_no_emojis_r = [words for words in text_as_string_r if words not in emo_r]"
   ]
  },
  {
   "cell_type": "code",
   "execution_count": null,
   "metadata": {},
   "outputs": [],
   "source": []
  },
  {
   "cell_type": "code",
   "execution_count": 11,
   "metadata": {},
   "outputs": [],
   "source": [
    "#using regular expressions to remove hyperlinks, punctuations with len>1"
   ]
  },
  {
   "cell_type": "code",
   "execution_count": 12,
   "metadata": {},
   "outputs": [],
   "source": [
    "text_as_string_e = re.sub(r'(https?:\\/\\/)(\\s)*(www\\.)?(\\s)*((\\w|\\s)+\\.)*([\\w\\-\\s]+\\/)*([\\w\\-]+)((\\?)?[\\w\\s]*=\\s*[\\w\\%&]*)*', '', text_as_string_e, flags=re.MULTILINE)\n",
    "\n",
    "text_as_string_e = re.sub(r'\\'\\'', '', text_as_string_e, flags=re.MULTILINE)\n",
    "\n",
    "text_as_string_e = re.sub(r'\\\"\\\"', '', text_as_string_e, flags=re.MULTILINE)\n",
    "\n",
    "\n",
    "text_as_string_r = re.sub(r'(https?:\\/\\/)(\\s)*(www\\.)?(\\s)*((\\w|\\s)+\\.)*([\\w\\-\\s]+\\/)*([\\w\\-]+)((\\?)?[\\w\\s]*=\\s*[\\w\\%&]*)*', '', text_as_string_r, flags=re.MULTILINE)\n",
    "\n",
    "text_as_string_r = re.sub(r'\\'\\'', '', text_as_string_r, flags=re.MULTILINE)\n",
    "\n",
    "text_as_string_r = re.sub(r'\\\"\\\"', '', text_as_string_r, flags=re.MULTILINE)\n"
   ]
  },
  {
   "cell_type": "code",
   "execution_count": null,
   "metadata": {},
   "outputs": [],
   "source": []
  },
  {
   "cell_type": "code",
   "execution_count": 33,
   "metadata": {},
   "outputs": [
    {
     "data": {
      "text/plain": [
       "'\"We have a sitting Democrat US Senator on trial for corruption and you\\'ve barely heard a peep from the mainstream media. ~ @nedryun \"\\r\\nMarshawn Lynch arrives to game in anti-Trump shirt. Judging by his sagging pants the shirt should say Lynch vs. belt \\r\\n\"Daughter of fallen Navy Sailor delivers powerful monologue on anthem protests, burns her NFL packers gear.  #BoycottNFL \"\\r\\n\"JUST IN: President Trump dedicates Presidents Cup golf tournament trophy to the people of Florida, Texas and Puerto Rico. \"\\r\\n\"19,000 RESPECTING our National Anthem! #StandForOurAnthem🇺🇸 \"\\r\\n\"Dan Bongino: Nobody trolls liberals better than Donald Trump. Exactly!  \"\\r\\n🐝🐝🐝 \\r\\n\\'@SenatorMenendez @CarmenYulinCruz Doesn\\'t matter that CNN doesn\\'t report on your crimes. This won\\'t change the fact that you\\'re going down.\\'\\r\\n\"As much as I hate promoting CNN article, here they are admitting EVERYTHING Trump said about PR relief two days ago. \"\\r\\nAfter the \\'genocide\\' remark from San Juan Mayor the narrative has changed though. @CNN'"
      ]
     },
     "execution_count": 33,
     "metadata": {},
     "output_type": "execute_result"
    }
   ],
   "source": [
    "text_as_string_e[:1000]"
   ]
  },
  {
   "cell_type": "code",
   "execution_count": null,
   "metadata": {},
   "outputs": [],
   "source": []
  },
  {
   "cell_type": "code",
   "execution_count": 10,
   "metadata": {},
   "outputs": [],
   "source": [
    "# sentences into words"
   ]
  },
  {
   "cell_type": "code",
   "execution_count": null,
   "metadata": {},
   "outputs": [],
   "source": []
  },
  {
   "cell_type": "code",
   "execution_count": 13,
   "metadata": {},
   "outputs": [
    {
     "name": "stdout",
     "output_type": "stream",
     "text": [
      "Wall time: 12.9 s\n"
     ]
    }
   ],
   "source": [
    "%%time \n",
    "sent_to_words_e = TreebankWordTokenizer().tokenize(text_as_string_e)\n",
    "sent_to_words_r = TreebankWordTokenizer().tokenize(text_as_string_r)"
   ]
  },
  {
   "cell_type": "code",
   "execution_count": null,
   "metadata": {},
   "outputs": [],
   "source": []
  },
  {
   "cell_type": "code",
   "execution_count": 35,
   "metadata": {},
   "outputs": [],
   "source": [
    "# sent_to_words_e[:1000]"
   ]
  },
  {
   "cell_type": "code",
   "execution_count": null,
   "metadata": {},
   "outputs": [],
   "source": []
  },
  {
   "cell_type": "code",
   "execution_count": 14,
   "metadata": {},
   "outputs": [],
   "source": [
    "sent_to_words_e.sort()\n",
    "sent_to_words_r.sort()"
   ]
  },
  {
   "cell_type": "code",
   "execution_count": null,
   "metadata": {},
   "outputs": [],
   "source": []
  },
  {
   "cell_type": "code",
   "execution_count": 15,
   "metadata": {},
   "outputs": [],
   "source": [
    "# filtering punctuations --> '!\"#$%&\\'()*+,-./:;<=>?@[\\\\]^_`{|}~'"
   ]
  },
  {
   "cell_type": "code",
   "execution_count": null,
   "metadata": {},
   "outputs": [],
   "source": []
  },
  {
   "cell_type": "code",
   "execution_count": 16,
   "metadata": {},
   "outputs": [],
   "source": [
    "punch = string.punctuation"
   ]
  },
  {
   "cell_type": "code",
   "execution_count": 21,
   "metadata": {},
   "outputs": [],
   "source": [
    "list_words_no_p_e = [words for words in sent_to_words_e if words not in punch]\n",
    "list_words_no_p_r = [words for words in sent_to_words_r if words not in punch]"
   ]
  },
  {
   "cell_type": "code",
   "execution_count": 22,
   "metadata": {},
   "outputs": [],
   "source": [
    "#filtering stop-words for different languages"
   ]
  },
  {
   "cell_type": "code",
   "execution_count": null,
   "metadata": {},
   "outputs": [],
   "source": []
  },
  {
   "cell_type": "code",
   "execution_count": 23,
   "metadata": {},
   "outputs": [],
   "source": [
    "stop_words_e = stopwords.words('english')\n",
    "stop_words_r = stopwords.words('russian')"
   ]
  },
  {
   "cell_type": "code",
   "execution_count": 24,
   "metadata": {},
   "outputs": [],
   "source": [
    "list_words_no_psw_e = [words for words in list_words_no_p_e if words not in stop_words_e]\n",
    "list_words_no_psw_r = [words for words in list_words_no_p_r if words not in stop_words_r]"
   ]
  },
  {
   "cell_type": "code",
   "execution_count": null,
   "metadata": {},
   "outputs": [],
   "source": []
  },
  {
   "cell_type": "code",
   "execution_count": 32,
   "metadata": {},
   "outputs": [
    {
     "name": "stdout",
     "output_type": "stream",
     "text": [
      "['ht', 'htdpz', 'htdpz', 'htdpz', 'htdpz', 'htdpz', 'htn', 'htownciara', 'htps', 'htt', 'http', 'http', 'http', 'https', 'https', 'https', 'https', 'https', 'https', 'https', 'https', 'https', 'https', 'https', 'https', 'https', 'https', 'https', 'https', 'https', 'https', 'https', 'https', 'https', 'https', 'https', 'https', 'https', 'https', 'https', 'https', 'https', 'https', 'https', 'https', 'https', 'https', 'https', 'https', 'https', 'https', 'https', 'https', 'https…', 'https…', 'https…', 'https…', 'https…', 'https…', 'https…', 'https…', 'https…', 'https…', 'https…', 'https…', 'http…', 'http…', 'http…', 'http…', 'http…', 'http…', 'http…', 'http…', 'http…', 'http…', 'http…', 'http…', 'http…', 'http…', 'http…', 'http…', 'http…', 'http…', 'http…', 'http…', 'http…', 'htt…', 'htt…', 'htt…', 'htt…']\n"
     ]
    }
   ],
   "source": [
    "print(list_words_no_psw_e[1489410:1489500])\n",
    "print(len(list_words_no_psw_r))"
   ]
  },
  {
   "cell_type": "code",
   "execution_count": null,
   "metadata": {},
   "outputs": [],
   "source": []
  }
 ],
 "metadata": {
  "kernelspec": {
   "display_name": "Python 3",
   "language": "python",
   "name": "python3"
  },
  "language_info": {
   "codemirror_mode": {
    "name": "ipython",
    "version": 3
   },
   "file_extension": ".py",
   "mimetype": "text/x-python",
   "name": "python",
   "nbconvert_exporter": "python",
   "pygments_lexer": "ipython3",
   "version": "3.7.3"
  }
 },
 "nbformat": 4,
 "nbformat_minor": 4
}
