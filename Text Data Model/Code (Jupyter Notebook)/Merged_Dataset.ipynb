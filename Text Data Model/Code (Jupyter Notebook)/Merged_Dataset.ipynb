{
 "cells": [
  {
   "cell_type": "code",
   "execution_count": 1,
   "metadata": {},
   "outputs": [],
   "source": [
    "import pandas as pd\n",
    "import re\n",
    "import string\n",
    "from textblob import TextBlob\n",
    "from nltk.tokenize import sent_tokenize\n",
    "from nltk.tokenize import TreebankWordTokenizer\n",
    "from nltk.corpus import stopwords\n",
    "import gensim\n",
    "import demoji"
   ]
  },
  {
   "cell_type": "code",
   "execution_count": 2,
   "metadata": {},
   "outputs": [],
   "source": [
    "import glob\n",
    "import os\n",
    "import math"
   ]
  },
  {
   "cell_type": "code",
   "execution_count": 3,
   "metadata": {},
   "outputs": [],
   "source": [
    "os.chdir(\"C:/Users/Sannath/Desktop/Data Visualization/Assignment-4\")"
   ]
  },
  {
   "cell_type": "code",
   "execution_count": 4,
   "metadata": {},
   "outputs": [],
   "source": [
    "extension = 'csv'\n",
    "all_filenames = [i for i in glob.glob('*.{}'.format(extension))]"
   ]
  },
  {
   "cell_type": "code",
   "execution_count": 5,
   "metadata": {},
   "outputs": [
    {
     "name": "stderr",
     "output_type": "stream",
     "text": [
      "C:\\ProgramData\\Anaconda3\\lib\\site-packages\\IPython\\core\\magic.py:187: DtypeWarning: Columns (20) have mixed types. Specify dtype option on import or set low_memory=False.\n",
      "  call = lambda f, *a, **k: f(*a, **k)\n",
      "C:\\ProgramData\\Anaconda3\\lib\\site-packages\\IPython\\core\\magic.py:187: DtypeWarning: Columns (10,20) have mixed types. Specify dtype option on import or set low_memory=False.\n",
      "  call = lambda f, *a, **k: f(*a, **k)\n",
      "C:\\ProgramData\\Anaconda3\\lib\\site-packages\\IPython\\core\\magic.py:187: DtypeWarning: Columns (0,15,20) have mixed types. Specify dtype option on import or set low_memory=False.\n",
      "  call = lambda f, *a, **k: f(*a, **k)\n"
     ]
    },
    {
     "name": "stdout",
     "output_type": "stream",
     "text": [
      "Wall time: 24.3 s\n"
     ]
    }
   ],
   "source": [
    "%%time\n",
    "#combine all files in the list\n",
    "merged_csv = pd.concat([pd.read_csv(f) for f in all_filenames ])\n",
    "\n",
    "merged_csv = merged_csv[(merged_csv['language']=='English') | (merged_csv['language']=='Russian') | (merged_csv['language']=='Italian')]\n"
   ]
  },
  {
   "cell_type": "code",
   "execution_count": null,
   "metadata": {},
   "outputs": [],
   "source": []
  },
  {
   "cell_type": "code",
   "execution_count": 6,
   "metadata": {},
   "outputs": [],
   "source": [
    "text = merged_csv[['content','language']]\n",
    "text_df = text.sort_values(['language'])"
   ]
  },
  {
   "cell_type": "code",
   "execution_count": 7,
   "metadata": {},
   "outputs": [],
   "source": [
    "text_list = text.values.tolist()"
   ]
  },
  {
   "cell_type": "code",
   "execution_count": null,
   "metadata": {},
   "outputs": [],
   "source": []
  },
  {
   "cell_type": "code",
   "execution_count": 8,
   "metadata": {},
   "outputs": [],
   "source": [
    "ind_russian = []\n",
    "ind_english = []\n",
    "ind_italian = []\n",
    "\n",
    "for i in range(len(text_list)):\n",
    "    if text_list[i][1]=='Russian':\n",
    "        ind_russian.append(i)\n",
    "    elif text_list[i][1]=='English':\n",
    "        ind_english.append(i)\n",
    "    else :\n",
    "        ind_italian.append(i)\n"
   ]
  },
  {
   "cell_type": "code",
   "execution_count": 9,
   "metadata": {},
   "outputs": [],
   "source": [
    "#(1) filtering hyperlinks and \n",
    "#(2) remove numbers and convert text into lowercase\n",
    "#(3) separate emojis from text. create a list of set of emojis, each set represents the emojis in its respective locations tweet \n",
    "#(4) Sentiment analysis (polarity & subjectivity in separate lists)\n",
    "#(5) identifying '#' and creating a list of all hashtags\n",
    "#(6) removing special characters from string of special characters and meaningful words\n",
    "#(7) sentence into words\n",
    "#(8) filtering punctuations\n",
    "#(9) stop-words for english,russian and italian tweets"
   ]
  },
  {
   "cell_type": "code",
   "execution_count": 10,
   "metadata": {},
   "outputs": [
    {
     "name": "stdout",
     "output_type": "stream",
     "text": [
      "text_list\n",
      "Wall time: 35min 9s\n"
     ]
    }
   ],
   "source": [
    "%%time\n",
    "text_h = []\n",
    "emoji_list = []\n",
    "sentiment = []\n",
    "subjectivity = []\n",
    "hashtags_list = []\n",
    "all_hashtags = []\n",
    "c = 0\n",
    "\n",
    "punch = string.punctuation\n",
    "\n",
    "stop_words_e = stopwords.words('english')\n",
    "stop_words_r = stopwords.words('russian')\n",
    "stop_words_i = stopwords.words('italian')\n",
    "\n",
    "for i in range(len(text_list)):\n",
    "    \n",
    "    if not text_list[i][0] :\n",
    "        c += 1\n",
    "        print(type(text_list[i][0]))\n",
    "\n",
    "    try:\n",
    "        # (1)\n",
    "        tweet = re.sub(r'(https?:\\/\\/)(\\s)*(www\\.)?(\\s)*((\\w|\\s)+\\.)*([\\w\\-\\s]+\\/)*([\\w\\-]+)((\\?)?[\\w\\s]*=\\s*[\\w\\%&]*)*', '', text_list[i][0], flags=re.MULTILINE)\n",
    "\n",
    "        # (2)\n",
    "        tweet = re.sub(r'\\d+', '', tweet)\n",
    "        tweet = tweet.lower()\n",
    "\n",
    "        # (3)\n",
    "        emoji_set = demoji.findall(tweet)\n",
    "        emoji_list.append(emoji_set)\n",
    "        for emoji in emoji_set:\n",
    "            tweet = tweet.replace(emoji,'')\n",
    "\n",
    "        # (4) sentiment analysis\n",
    "        blob = TextBlob(tweet)\n",
    "        sentiment.append(blob.sentiment.polarity)\n",
    "        subjectivity.append(blob.sentiment.subjectivity)\n",
    "\n",
    "        # (5) remove # and store word in list\n",
    "        hashtags_per_tweet = re.findall('\\#(\\w*)',tweet)\n",
    "        hashtags_list.append(hashtags_per_tweet)\n",
    "        if len(hashtags_per_tweet)>0:\n",
    "            for hashtag in hashtags_per_tweet:\n",
    "                all_hashtags.append(hashtag)\n",
    "\n",
    "        # (6)removing special characters from string of special characters and meaningful words\n",
    "        tweet = tweet.translate(str.maketrans('', '', string.punctuation))\n",
    "\n",
    "        # (7)\n",
    "        tweet1 = TreebankWordTokenizer().tokenize(tweet)\n",
    "        tweet1.sort()\n",
    "\n",
    "        # (8)\n",
    "        tweet1 = [words for words in tweet if words not in punch]\n",
    "\n",
    "        # (9)\n",
    "        if i<len(ind_english):\n",
    "            tweet1 = [words for words in tweet if words not in stop_words_e]\n",
    "        elif i>=len(ind_english) and i<len(ind_russian):\n",
    "            tweet1 = [words for words in tweet if words not in stop_words_r]\n",
    "        else :\n",
    "            tweet1 = [words for words in tweet if words not in stop_words_i]\n",
    "        text_h.append(tweet1)\n",
    "    except:\n",
    "        if ((math.isnan(text_list[i][0])) | (math.isinf(text_list[i][0]))):\n",
    "            print('text_list')\n",
    "            text_list[i][0] = ''\n",
    "            text_h.append(text_list[i][0])\n",
    "    \n"
   ]
  },
  {
   "cell_type": "code",
   "execution_count": null,
   "metadata": {},
   "outputs": [],
   "source": []
  },
  {
   "cell_type": "code",
   "execution_count": null,
   "metadata": {},
   "outputs": [],
   "source": [
    "#export to csv\n",
    "# merged_csv.to_csv( \"merged_csv_en_rs_it.csv\", index=False, encoding='utf-8-sig')"
   ]
  },
  {
   "cell_type": "code",
   "execution_count": null,
   "metadata": {},
   "outputs": [],
   "source": []
  },
  {
   "cell_type": "code",
   "execution_count": null,
   "metadata": {},
   "outputs": [],
   "source": []
  },
  {
   "cell_type": "code",
   "execution_count": 3,
   "metadata": {},
   "outputs": [],
   "source": [
    "## One hot vector"
   ]
  },
  {
   "cell_type": "code",
   "execution_count": null,
   "metadata": {},
   "outputs": [],
   "source": [
    "all_words = [] \n",
    "for word_list in text_h:\n",
    "    for word in word_list:\n",
    "        all_words.append(word)\n",
    "all_unique_words = list(dict.fromkeys(all_words))\n",
    "all_unique_words.sort()\n",
    "\n",
    "wordDictA = dict.fromkeys(wordSet, 0)"
   ]
  }
 ],
 "metadata": {
  "kernelspec": {
   "display_name": "Python 3",
   "language": "python",
   "name": "python3"
  },
  "language_info": {
   "codemirror_mode": {
    "name": "ipython",
    "version": 3
   },
   "file_extension": ".py",
   "mimetype": "text/x-python",
   "name": "python",
   "nbconvert_exporter": "python",
   "pygments_lexer": "ipython3",
   "version": "3.7.3"
  }
 },
 "nbformat": 4,
 "nbformat_minor": 4
}
