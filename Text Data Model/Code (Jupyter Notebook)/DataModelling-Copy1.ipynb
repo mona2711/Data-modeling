{
 "cells": [
  {
   "cell_type": "code",
   "execution_count": 28,
   "metadata": {},
   "outputs": [],
   "source": [
    "from textblob import TextBlob\n",
    "import pandas as pd\n",
    "import re\n",
    "import string\n",
    "import demoji"
   ]
  },
  {
   "cell_type": "code",
   "execution_count": 29,
   "metadata": {},
   "outputs": [],
   "source": [
    "##sentiment analysis\n",
    "#polarity of a tweet"
   ]
  },
  {
   "cell_type": "code",
   "execution_count": 148,
   "metadata": {},
   "outputs": [],
   "source": [
    "file = pd.read_csv('IRAhandle_tweets_1.csv',usecols=['content','language','account_category','publish_date'])"
   ]
  },
  {
   "cell_type": "code",
   "execution_count": 149,
   "metadata": {},
   "outputs": [],
   "source": [
    "# en_rs = file[(file['language']=='English') | (file['language']=='Russian')]"
   ]
  },
  {
   "cell_type": "code",
   "execution_count": 150,
   "metadata": {},
   "outputs": [],
   "source": [
    "right_troll = file[(file['account_category']=='RightTroll')]\n",
    "left_troll  = file[(file['account_category']=='LeftTroll')]"
   ]
  },
  {
   "cell_type": "code",
   "execution_count": 151,
   "metadata": {},
   "outputs": [],
   "source": [
    "# len(en_rs)"
   ]
  },
  {
   "cell_type": "code",
   "execution_count": 152,
   "metadata": {},
   "outputs": [
    {
     "name": "stdout",
     "output_type": "stream",
     "text": [
      "Wall time: 24.1 s\n"
     ]
    }
   ],
   "source": [
    "%%time\n",
    "file['publish_date'] = pd.to_datetime(file['publish_date'])"
   ]
  },
  {
   "cell_type": "code",
   "execution_count": 159,
   "metadata": {},
   "outputs": [],
   "source": [
    "content_rt_lt2016 = right_troll[right_troll['publish_date']<'2016-11-08'].content\n",
    "content_rt_2016_2018 = right_troll[(right_troll['publish_date']>'2016-11-08') & (right_troll['publish_date']<'2018-11-08')].content\n",
    "content_rt_gt_2018 = right_troll[right_troll['publish_date']>'2018-11-08'].content\n",
    "\n",
    "\n",
    "\n",
    "content_lt_lt2016 = left_troll[left_troll['publish_date']<'2016-11-08'].content\n",
    "content_lt_2016_2018 = left_troll[(left_troll['publish_date']>'2016-11-08') & (left_troll['publish_date']<'2018-11-08')].content\n",
    "content_lt_gt_2018 = left_troll[left_troll['publish_date']>'2018-11-08'].content"
   ]
  },
  {
   "cell_type": "code",
   "execution_count": 160,
   "metadata": {},
   "outputs": [
    {
     "name": "stdout",
     "output_type": "stream",
     "text": [
      "25436\n",
      "18888\n",
      "0\n",
      "0\n",
      "89374\n",
      "17184\n"
     ]
    }
   ],
   "source": [
    "print(len(content_rt_lt2016))\n",
    "print(len(content_lt_lt2016))\n",
    "\n",
    "print(len(content_rt_2016_2018))\n",
    "print(len(content_lt_2016_2018))\n",
    "\n",
    "print(len(content_rt_gt_2018))\n",
    "print(len(content_lt_gt_2018))"
   ]
  },
  {
   "cell_type": "code",
   "execution_count": null,
   "metadata": {},
   "outputs": [],
   "source": []
  },
  {
   "cell_type": "code",
   "execution_count": null,
   "metadata": {},
   "outputs": [],
   "source": []
  },
  {
   "cell_type": "code",
   "execution_count": 167,
   "metadata": {},
   "outputs": [
    {
     "name": "stdout",
     "output_type": "stream",
     "text": [
      "5143\n",
      "8382\n",
      "11911\n"
     ]
    }
   ],
   "source": [
    "polarity_rt_lt2016 = [] \n",
    "polarity_count_rt_lt2016 = 0\n",
    "for tweet in content_rt_lt2016:\n",
    "    blob = TextBlob(tweet)\n",
    "    polarity = blob.sentiment.polarity\n",
    "    if polarity<0:\n",
    "        n = 'negative'\n",
    "    elif polarity>0:\n",
    "        n = 'positive'\n",
    "    else :\n",
    "        n = 'neutral'\n",
    "    polarity_rt_lt2016.append(n)\n",
    "    polarity_count_rt_lt2016 += polarity\n",
    "polarity_count_rt_lt2016\n",
    "print(polarity_rt_lt2016.count('negative'))\n",
    "print(polarity_rt_lt2016.count('positive'))\n",
    "print(polarity_rt_lt2016.count('neutral'))"
   ]
  },
  {
   "cell_type": "code",
   "execution_count": 158,
   "metadata": {},
   "outputs": [
    {
     "data": {
      "text/plain": [
       "0"
      ]
     },
     "execution_count": 158,
     "metadata": {},
     "output_type": "execute_result"
    }
   ],
   "source": [
    "polarity_rt_2016_2018 = [] \n",
    "polarity_count_rt_2016_2018 = 0\n",
    "for tweet in content_rt_2016_2018:\n",
    "    blob = TextBlob(tweet)\n",
    "    polarity = blob.sentiment.polarity\n",
    "    if polarity<0:\n",
    "        n = 'negative'\n",
    "    elif polarity>0:\n",
    "        n = 'positive'\n",
    "    else :\n",
    "        n = 'neutral'\n",
    "    polarity_rt_lt2016.append(n)\n",
    "    polarity_count_rt_2016_2018 += polarity\n",
    "polarity_count_rt_2016_2018"
   ]
  },
  {
   "cell_type": "code",
   "execution_count": 169,
   "metadata": {},
   "outputs": [
    {
     "name": "stdout",
     "output_type": "stream",
     "text": [
      "20708\n",
      "24476\n",
      "44190\n"
     ]
    }
   ],
   "source": [
    "polarity_rt_gt_2018 = [] \n",
    "polarity_count_rt_gt_2018 = 0\n",
    "for tweet in content_rt_gt_2018:\n",
    "    blob = TextBlob(tweet)\n",
    "    polarity = blob.sentiment.polarity\n",
    "    if polarity<0:\n",
    "        n = 'negative'\n",
    "    elif polarity>0:\n",
    "        n = 'positive'\n",
    "    else :\n",
    "        n = 'neutral'\n",
    "    polarity_rt_gt_2018.append(n)\n",
    "    polarity_count_rt_gt_2018 += polarity\n",
    "polarity_count_rt_gt_2018\n",
    "print(polarity_rt_gt_2018.count('negative'))\n",
    "print(polarity_rt_gt_2018.count('positive'))\n",
    "print(polarity_rt_gt_2018.count('neutral'))"
   ]
  },
  {
   "cell_type": "code",
   "execution_count": null,
   "metadata": {},
   "outputs": [],
   "source": []
  },
  {
   "cell_type": "code",
   "execution_count": null,
   "metadata": {},
   "outputs": [],
   "source": []
  },
  {
   "cell_type": "code",
   "execution_count": null,
   "metadata": {},
   "outputs": [],
   "source": []
  },
  {
   "cell_type": "code",
   "execution_count": null,
   "metadata": {},
   "outputs": [],
   "source": []
  },
  {
   "cell_type": "code",
   "execution_count": 46,
   "metadata": {},
   "outputs": [
    {
     "data": {
      "text/plain": [
       "1247.2217046486624"
      ]
     },
     "execution_count": 46,
     "metadata": {},
     "output_type": "execute_result"
    }
   ],
   "source": [
    "polarity_count_rt"
   ]
  },
  {
   "cell_type": "code",
   "execution_count": null,
   "metadata": {},
   "outputs": [],
   "source": []
  },
  {
   "cell_type": "code",
   "execution_count": null,
   "metadata": {},
   "outputs": [],
   "source": []
  },
  {
   "cell_type": "code",
   "execution_count": null,
   "metadata": {},
   "outputs": [],
   "source": []
  },
  {
   "cell_type": "code",
   "execution_count": 8,
   "metadata": {},
   "outputs": [],
   "source": [
    "# len(right_troll)\n",
    "# len(left_troll)"
   ]
  },
  {
   "cell_type": "code",
   "execution_count": null,
   "metadata": {},
   "outputs": [],
   "source": []
  },
  {
   "cell_type": "code",
   "execution_count": null,
   "metadata": {},
   "outputs": [],
   "source": []
  },
  {
   "cell_type": "code",
   "execution_count": null,
   "metadata": {},
   "outputs": [],
   "source": []
  },
  {
   "cell_type": "code",
   "execution_count": 6,
   "metadata": {},
   "outputs": [],
   "source": [
    "#list of tweets "
   ]
  },
  {
   "cell_type": "code",
   "execution_count": 7,
   "metadata": {},
   "outputs": [],
   "source": [
    "tweets = en_rs.content.tolist()"
   ]
  },
  {
   "cell_type": "code",
   "execution_count": 8,
   "metadata": {},
   "outputs": [
    {
     "name": "stdout",
     "output_type": "stream",
     "text": [
      "Wall time: 2min 17s\n"
     ]
    }
   ],
   "source": [
    "%%time\n",
    "sentiment = []\n",
    "keywords_list =  []\n",
    "emoji_list = []\n",
    "hashtags_list = []\n",
    "\n",
    "for tweet in tweets :\n",
    "     \n",
    "    #hyperlinks\n",
    "    tweet = re.sub(r'(https?:\\/\\/)(\\s)*(www\\.)?(\\s)*((\\w|\\s)+\\.)*([\\w\\-\\s]+\\/)*([\\w\\-]+)((\\?)?[\\w\\s]*=\\s*[\\w\\%&]*)*', '', tweet, flags=re.MULTILINE)\n",
    "    \n",
    "    #emojis with description\n",
    "    emoji_set = demoji.findall(tweet)\n",
    "    emoji_list.append(emoji_set)\n",
    "    \n",
    "    #hashtags\n",
    "    hastags_per_tweet = re.findall('\\#(\\w*)',tweet)\n",
    "    hashtags_list.append(hastags_per_tweet)\n",
    "    \n",
    "    # removing punctuation around words in tweet\n",
    "    tweet = tweet.translate(str.maketrans('', '', string.punctuation))\n",
    "    \n",
    "    # to lowercase\n",
    "    tweet = re.sub(r'\\d+', '', tweet)\n",
    "    tweet = tweet.lower()\n",
    "    \n",
    "    blob = TextBlob(tweet)\n",
    "    \n",
    "    \n",
    "#     while executing this below commented part, \n",
    "#     execute it in separate cell and check for wall-time\n",
    "    # correcting typos\n",
    "    \n",
    "#     blob.correct()\n",
    " \n",
    "\n",
    "#     #keywords of a tweet\n",
    "#     keywords =  []\n",
    "#     for word,tag in blob.tags :\n",
    "#         if tag == 'NN':\n",
    "#             keywords.append(word.lemmatize())\n",
    "#     keywords_list.append(keywords)\n",
    "    \n",
    "    #polarity\n",
    "    sentiment.append(blob.sentiment.polarity)\n",
    "    "
   ]
  },
  {
   "cell_type": "code",
   "execution_count": null,
   "metadata": {},
   "outputs": [],
   "source": []
  },
  {
   "cell_type": "code",
   "execution_count": null,
   "metadata": {},
   "outputs": [],
   "source": []
  },
  {
   "cell_type": "code",
   "execution_count": null,
   "metadata": {},
   "outputs": [],
   "source": []
  }
 ],
 "metadata": {
  "kernelspec": {
   "display_name": "Python 3",
   "language": "python",
   "name": "python3"
  },
  "language_info": {
   "codemirror_mode": {
    "name": "ipython",
    "version": 3
   },
   "file_extension": ".py",
   "mimetype": "text/x-python",
   "name": "python",
   "nbconvert_exporter": "python",
   "pygments_lexer": "ipython3",
   "version": "3.7.3"
  }
 },
 "nbformat": 4,
 "nbformat_minor": 4
}
